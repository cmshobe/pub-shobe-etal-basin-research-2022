{
 "cells": [
  {
   "cell_type": "markdown",
   "metadata": {},
   "source": [
    "This is going to be figure 3: measured vs modeled sediment surface and then an explicit error analysis made by differencing the two"
   ]
  },
  {
   "cell_type": "code",
   "execution_count": 1,
   "metadata": {},
   "outputs": [],
   "source": [
    "import numpy as np\n",
    "import matplotlib.pyplot as plt\n",
    "import xarray as xr"
   ]
  },
  {
   "cell_type": "code",
   "execution_count": 2,
   "metadata": {},
   "outputs": [],
   "source": [
    "R8_run_number = 'ldml2'#'001'\n",
    "R7_run_number = 'ldml2'#'002'\n",
    "R6_run_number = 'ldml2'#'000'\n",
    "R5_run_number = 'ldml2'#'000'\n",
    "R4_run_number = 'ldml2'#'000'\n",
    "R3_run_number = 'ldml2'#'000'\n",
    "R1_run_number = 'ldml2'#'002'"
   ]
  },
  {
   "cell_type": "code",
   "execution_count": 3,
   "metadata": {},
   "outputs": [
    {
     "data": {
      "text/plain": [
       "<Figure size 864x1224 with 0 Axes>"
      ]
     },
     "metadata": {},
     "output_type": "display_data"
    }
   ],
   "source": [
    "###R8 FIGURE\n",
    "fig = plt.figure(figsize=(12,17))\n",
    "widths = [1]\n",
    "gap = 0.6\n",
    "heights = [2, 0.8, gap, 2, 0.8, gap, 2, 0.8, gap, 2, 0.8, gap, 2, 0.8, gap, 2, 0.8, gap, 2, 0.8]\n",
    "spec = fig.add_gridspec(ncols=len(widths), nrows=len(heights), width_ratios=widths,\n",
    "                          height_ratios=heights, wspace=0.0, hspace=0.0)\n",
    "#spec5.update(wspace=0.01)"
   ]
  },
  {
   "cell_type": "code",
   "execution_count": 4,
   "metadata": {},
   "outputs": [],
   "source": [
    "#first two rows: R8\n",
    "r81 = fig.add_subplot(spec[0, 0]) \n",
    "r82 = fig.add_subplot(spec[1, 0]) \n",
    "\n",
    "#first two rows: R8\n",
    "r71 = fig.add_subplot(spec[3, 0]) \n",
    "r72 = fig.add_subplot(spec[4, 0]) \n",
    "\n",
    "#first two rows: R8\n",
    "r61 = fig.add_subplot(spec[6, 0]) \n",
    "r62 = fig.add_subplot(spec[7, 0]) \n",
    "\n",
    "#first two rows: R8\n",
    "r51 = fig.add_subplot(spec[9, 0]) \n",
    "r52 = fig.add_subplot(spec[10, 0]) \n",
    "\n",
    "#first two rows: R8\n",
    "r41 = fig.add_subplot(spec[12, 0]) \n",
    "r42 = fig.add_subplot(spec[13, 0]) \n",
    "\n",
    "#first two rows: R8\n",
    "r31 = fig.add_subplot(spec[15, 0]) \n",
    "r32 = fig.add_subplot(spec[16, 0]) \n",
    "\n",
    "#first two rows: R8\n",
    "r11 = fig.add_subplot(spec[18, 0]) \n",
    "r12 = fig.add_subplot(spec[19, 0]) "
   ]
  },
  {
   "cell_type": "code",
   "execution_count": 5,
   "metadata": {},
   "outputs": [],
   "source": [
    "#import r8 best fit run\n",
    "r8_bestfit = xr.open_zarr('../../orange_section_R8/step2_params/best_fit_' + str(R8_run_number).zfill(3) + '.zarr')\n",
    "r7_bestfit = xr.open_zarr('../../orange_section_R7/step2_params/best_fit_' + str(R7_run_number).zfill(3) + '.zarr')\n",
    "r6_bestfit = xr.open_zarr('../../orange_section_R6/step2_params/best_fit_' + str(R6_run_number).zfill(3) + '.zarr')\n",
    "r5_bestfit = xr.open_zarr('../../orange_section_R5/step2_params/best_fit_' + str(R5_run_number).zfill(3) + '.zarr')\n",
    "r4_bestfit = xr.open_zarr('../../orange_section_R4/step2_params/best_fit_' + str(R4_run_number).zfill(3) + '.zarr')\n",
    "r3_bestfit = xr.open_zarr('../../orange_section_R3/step2_params/best_fit_' + str(R3_run_number).zfill(3) + '.zarr')\n",
    "r1_bestfit = xr.open_zarr('../../orange_section_R1/step2_params/best_fit_' + str(R1_run_number).zfill(3) + '.zarr')"
   ]
  },
  {
   "cell_type": "code",
   "execution_count": 6,
   "metadata": {},
   "outputs": [],
   "source": [
    "#import misfit!\n",
    "r8_min_misfit = np.min(np.genfromtxt('../../orange_section_R8/step2_params/all_params_' + str(R8_run_number).zfill(3) + '.csv', delimiter=',')[:, -1])\n",
    "r7_min_misfit = np.min(np.genfromtxt('../../orange_section_R7/step2_params/all_params_' + str(R7_run_number).zfill(3) + '.csv', delimiter=',')[:, -1])\n",
    "r6_min_misfit = np.min(np.genfromtxt('../../orange_section_R6/step2_params/all_params_' + str(R6_run_number).zfill(3) + '.csv', delimiter=',')[:, -1])\n",
    "r5_min_misfit = np.min(np.genfromtxt('../../orange_section_R5/step2_params/all_params_' + str(R5_run_number).zfill(3) + '.csv', delimiter=',')[:, -1])\n",
    "r4_min_misfit = np.min(np.genfromtxt('../../orange_section_R4/step2_params/all_params_' + str(R4_run_number).zfill(3) + '.csv', delimiter=',')[:, -1])\n",
    "r3_min_misfit = np.min(np.genfromtxt('../../orange_section_R3/step2_params/all_params_' + str(R3_run_number).zfill(3) + '.csv', delimiter=',')[:, -1])\n",
    "r1_min_misfit = np.min(np.genfromtxt('../../orange_section_R1/step2_params/all_params_' + str(R1_run_number).zfill(3) + '.csv', delimiter=',')[:, -1])"
   ]
  },
  {
   "cell_type": "code",
   "execution_count": 7,
   "metadata": {},
   "outputs": [
    {
     "data": {
      "text/plain": [
       "'ld'"
      ]
     },
     "execution_count": 7,
     "metadata": {},
     "output_type": "execute_result"
    }
   ],
   "source": [
    "R8_run_number[0:2]"
   ]
  },
  {
   "cell_type": "code",
   "execution_count": 8,
   "metadata": {},
   "outputs": [],
   "source": [
    "#import r8 data\n",
    "r8_surfaces = np.load('../../orange_section_R8/prepro/all_surfaces.npy')\n",
    "r8_top_surface = r8_surfaces[-1, :] #this is the top of the U8 surface\n",
    "r8_br_surface = r8_surfaces[0, :] #this is the top of the bedrock surface\n",
    "r8_observed_h = r8_top_surface - r8_br_surface\n",
    "\n",
    "r7_surfaces = np.load('../../orange_section_R7/prepro/all_surfaces.npy')\n",
    "r7_top_surface = r7_surfaces[-1, :] #this is the top of the U8 surface\n",
    "r7_br_surface = r7_surfaces[0, :] #this is the top of the bedrock surface\n",
    "r7_observed_h = r7_top_surface - r7_br_surface\n",
    "\n",
    "r6_surfaces = np.load('../../orange_section_R6/prepro/all_surfaces.npy')\n",
    "r6_top_surface = r6_surfaces[-1, :] #this is the top of the U8 surface\n",
    "r6_br_surface = r6_surfaces[0, :] #this is the top of the bedrock surface\n",
    "r6_observed_h = r6_top_surface - r6_br_surface\n",
    "\n",
    "r5_surfaces = np.load('../../orange_section_R5/prepro/all_surfaces.npy')\n",
    "r5_top_surface = r5_surfaces[-1, :] #this is the top of the U8 surface\n",
    "r5_br_surface = r5_surfaces[0, :] #this is the top of the bedrock surface\n",
    "r5_observed_h = r5_top_surface - r5_br_surface\n",
    "\n",
    "r4_surfaces = np.load('../../orange_section_R4/prepro/all_surfaces.npy')\n",
    "r4_top_surface = r4_surfaces[-1, :] #this is the top of the U8 surface\n",
    "r4_br_surface = r4_surfaces[0, :] #this is the top of the bedrock surface\n",
    "r4_observed_h = r4_top_surface - r4_br_surface\n",
    "\n",
    "r3_surfaces = np.load('../../orange_section_R3/prepro/all_surfaces.npy')\n",
    "r3_top_surface = r3_surfaces[-1, :] #this is the top of the U8 surface\n",
    "r3_br_surface = r3_surfaces[0, :] #this is the top of the bedrock surface\n",
    "r3_observed_h = r3_top_surface - r3_br_surface\n",
    "\n",
    "r1_surfaces = np.load('../../orange_section_R1/prepro/all_surfaces.npy')\n",
    "r1_top_surface = r1_surfaces[-1, :] #this is the top of the U8 surface\n",
    "r1_br_surface = r1_surfaces[0, :] #this is the top of the bedrock surface\n",
    "r1_observed_h = r1_top_surface - r1_br_surface"
   ]
  },
  {
   "cell_type": "code",
   "execution_count": 9,
   "metadata": {},
   "outputs": [
    {
     "name": "stdout",
     "output_type": "stream",
     "text": [
      "1\n",
      "2\n",
      "3\n",
      "4\n",
      "5\n",
      "6\n",
      "7\n"
     ]
    },
    {
     "name": "stderr",
     "output_type": "stream",
     "text": [
      "//anaconda3/envs/charlie-env-2/lib/python3.7/site-packages/ipykernel_launcher.py:119: UserWarning: FixedFormatter should only be used together with FixedLocator\n"
     ]
    },
    {
     "data": {
      "text/plain": [
       "[Text(0.0, 0, '0'),\n",
       " Text(100000.0, 0, '100'),\n",
       " Text(200000.0, 0, '200'),\n",
       " Text(300000.0, 0, '300'),\n",
       " Text(400000.0, 0, '400'),\n",
       " Text(500000.0, 0, '500'),\n",
       " Text(600000.0, 0, '600'),\n",
       " Text(700000.0, 0, '')]"
      ]
     },
     "execution_count": 9,
     "metadata": {},
     "output_type": "execute_result"
    }
   ],
   "source": [
    "#plot r8 best fit\n",
    "r81.plot(r8_bestfit.x, r8_bestfit.profile__br[-1, :], color = 'gray', linewidth = 1, zorder = 11)\n",
    "for i in range(1,8):\n",
    "    #if (i == 1) or (i == 2): #first two need to be cut off at ~600 km\n",
    "    #    r81.plot(r8_bestfit.x[:53], r8_surfaces[i, :53], color = 'gray', linewidth = 1)\n",
    "    #else:\n",
    "    r81.plot(r8_bestfit.x, r8_surfaces[i, :], color = 'gray', linewidth = 1)\n",
    "    \n",
    "r81.fill_between(r8_bestfit.x, min(r8_bestfit.profile__br[-1, :]), r8_bestfit.profile__br[-1, :], color = (212/255, 212/255, 212/255), zorder = 10)\n",
    "r81.fill_between(r8_bestfit.x, r8_surfaces[0, :], r8_surfaces[1, :], color = (109/255, 145/255, 111/255))\n",
    "r81.fill_between(r8_bestfit.x, r8_surfaces[1, :], r8_surfaces[2, :], color = (172/255, 193/255, 173/255))\n",
    "r81.fill_between(r8_bestfit.x, r8_surfaces[2, :], r8_surfaces[3, :], color = (216/255, 233/255, 189/255), label = 'observed stratigraphy')\n",
    "r81.fill_between(r8_bestfit.x, r8_surfaces[3, :], r8_surfaces[4, :], color = (190/255, 220/255, 137/255))\n",
    "r81.fill_between(r8_bestfit.x, r8_surfaces[4, :], r8_surfaces[5, :], color = (247/255, 244/255, 181/255))\n",
    "r81.fill_between(r8_bestfit.x, r8_surfaces[5, :], r8_surfaces[6, :], color = (250/255, 193/255, 161/255))\n",
    "r81.fill_between(r8_bestfit.x, r8_surfaces[6, :], r8_surfaces[7, :], color = (254/255, 238/255, 137/255))\n",
    "r81.fill_between(r8_bestfit.x, r8_surfaces[7, :], r8_surfaces[8, :], color = (254/255, 251/255, 217/255))\n",
    "\n",
    "r81.plot(r8_bestfit.x, r8_top_surface[:], color = 'gray', linewidth = 1)\n",
    "r81.plot(r8_bestfit.x, r8_bestfit.profile__z[-1, :], color = 'k', linewidth = 3, linestyle='-', zorder = 6, label = 'modeled modern surface')\n",
    "\n",
    "r81.set_xlim(670000, 0)\n",
    "r81.set_ylim(min(r8_bestfit.profile__br[-1, :]), 0)\n",
    "\n",
    "r81.set_yticks(np.array([-5000, -2500, 0]))\n",
    "\n",
    "r81.get_xaxis().set_ticks([])\n",
    "r81.set_ylabel('Elevation [m]')\n",
    "\n",
    "\n",
    "#CALCULATE POSITION OF REMAINING LAYERS; PLOT. #DEFORM THE MODELED LAYERS, NOT THE DATA\n",
    "phi = 0.56\n",
    "z_star = 2830.\n",
    "dx = 10000.\n",
    "\n",
    "layer_starts = [0, 17000000, 30000000, 36000000, 49000000, 64000000, 100000000, 119000000]\n",
    "\n",
    "layer_z_values = np.zeros((8, len(r8_bestfit.profile__z[-1, :])))\n",
    "layer_z_values[-1, :] = r8_bestfit.profile__z[-1, :]\n",
    "\n",
    "for i in range(1, 8):\n",
    "    print(i)\n",
    "    #mass from basement to top of U8\n",
    "    depth_top = np.array(r8_bestfit.profile__z[-1, :]-r8_bestfit.profile__br[-1, :]) #depth to bedrock\n",
    "    depth_bottom = np.array(r8_bestfit.profile__br[-1, :]-r8_bestfit.profile__br[-1, :]) #depth to bedrock\n",
    "\n",
    "    integral_top = phi * z_star * np.exp(-depth_top/z_star) + depth_top\n",
    "    integral_bottom = phi * z_star * np.exp(-depth_bottom/z_star) + depth_bottom\n",
    "\n",
    "    M8 = (integral_top - integral_bottom)\n",
    "\n",
    "    #mass from basement to top of U7\n",
    "    depth_top = np.array(r8_bestfit.profile__z[i, :]-r8_bestfit.profile__br[i, :]) #depth to bedrock\n",
    "    depth_bottom = np.array(r8_bestfit.profile__br[i, :]-r8_bestfit.profile__br[i, :]) #depth to bedrock\n",
    "\n",
    "\n",
    "    integral_top = phi * z_star * np.exp(-depth_top/z_star) + depth_top\n",
    "    integral_bottom = phi * z_star * np.exp(-depth_bottom/z_star) + depth_bottom\n",
    "\n",
    "\n",
    "    M7 = (integral_top - integral_bottom)\n",
    "\n",
    "    m_over = M8 - M7\n",
    "    m_over[m_over < 0] = 0\n",
    "\n",
    "    #starting with layer U7 (U8 is known b/c it's the modern):\n",
    "    tolerance = 1.\n",
    "    diff = np.repeat(10., len(r8_top_surface))\n",
    "    ztop = np.zeros(len(r8_top_surface))\n",
    "    ztop[:] = np.repeat(0., len(r8_top_surface))#r8_bestfit.profile__z[-1, :] - r8_bestfit.profile__z[i, :]#np.repeat(0., len(r8_top_surface)) #initial guess for DEPTH OF THE TOP OF THE LAYER\n",
    "\n",
    "    while np.any(diff > tolerance):\n",
    "        ztop_new = ztop - ((ztop - z_star * phi * (1-np.exp(-ztop/z_star)) - m_over) / (1 - phi * np.exp(-ztop/z_star)))\n",
    "        diff[:] = np.abs(ztop_new - ztop) \n",
    "        ztop[:] = ztop_new[:]\n",
    "        \n",
    "    #populate 8 row array with calc'ed value\n",
    "    layer_z_values[i-1] = r8_bestfit.profile__z[-1, :]-ztop\n",
    "    \n",
    "for i in range(1, 8):\n",
    "    plotting_layer = layer_z_values[i-1]\n",
    "    for j in range(i, 8):\n",
    "        plotting_layer[plotting_layer > layer_z_values[j, :]] = layer_z_values[j, :][plotting_layer > layer_z_values[j, :]]\n",
    "    r81.plot(r8_bestfit.x, plotting_layer, linestyle = '--', color = 'k')\n",
    "\n",
    "#plot r8 misfit\n",
    "\n",
    "#truncate each layer using above layers\n",
    "truncated_layer_z_values = np.zeros((7, len(r8_bestfit.profile__z[-1, :])))\n",
    "truncated_layer_thicknesses = np.zeros((7, len(r8_bestfit.profile__z[-1, :])))\n",
    "for i in range(1, 8):\n",
    "    layer = layer_z_values[i-1]\n",
    "    for j in range(i, 8):\n",
    "        layer[layer > layer_z_values[j, :]] = layer_z_values[j, :][layer > layer_z_values[j, :]]\n",
    "    truncated_layer_z_values[i - 1, :] = layer[:]\n",
    "\n",
    "truncated_layer_thicknesses[i - 1, :] = layer[:] - r8_bestfit.profile__br[-1, :]\n",
    "\n",
    "\n",
    "mf1 = (r8_surfaces[1, :] - r8_surfaces[0, :]) - truncated_layer_thicknesses[0, :] #np.power((r8_surfaces[1, :] - r8_surfaces[0, :]) - r8_bestfit.profile__h[1, :], 2) / np.power(obs_error, 2)\n",
    "mf2 = (r8_surfaces[2, :] - r8_surfaces[0, :]) - truncated_layer_thicknesses[1, :]#np.power((r8_surfaces[2, :] - r8_surfaces[0, :]) - r8_bestfit.profile__h[2, :], 2) / np.power(obs_error, 2)\n",
    "mf3 = (r8_surfaces[3, :] - r8_surfaces[0, :]) - truncated_layer_thicknesses[2, :]#np.power((r8_surfaces[3, :] - r8_surfaces[0, :]) - r8_bestfit.profile__h[3, :], 2) / np.power(obs_error, 2)\n",
    "mf4 = (r8_surfaces[4, :] - r8_surfaces[0, :]) - truncated_layer_thicknesses[3, :]#np.power((r8_surfaces[4, :] - r8_surfaces[0, :]) - r8_bestfit.profile__h[4, :], 2) / np.power(obs_error, 2)\n",
    "mf5 = (r8_surfaces[5, :] - r8_surfaces[0, :]) - truncated_layer_thicknesses[4, :]#np.power((r8_surfaces[5, :] - r8_surfaces[0, :]) - r8_bestfit.profile__h[5, :], 2) / np.power(obs_error, 2)\n",
    "mf6 = (r8_surfaces[6, :] - r8_surfaces[0, :]) - truncated_layer_thicknesses[5, :]#np.power((r8_surfaces[6, :] - r8_surfaces[0, :]) - r8_bestfit.profile__h[6, :], 2) / np.power(obs_error, 2)\n",
    "mf7 = (r8_surfaces[7, :] - r8_surfaces[0, :]) - truncated_layer_thicknesses[6, :]#np.power((r8_surfaces[7, :] - r8_surfaces[0, :]) - r8_bestfit.profile__h[7, :], 2) / np.power(obs_error, 2)\n",
    "mf8 = r8_observed_h - r8_bestfit.profile__h[-1, :]#np.power(r8_observed_h - r8_bestfit.profile__h[-1, :], 2) / np.power(obs_error, 2)\n",
    "r8_misfit = (1 / 8) * (np.abs(mf1) + np.abs(mf2) + np.abs(mf3) + np.abs(mf4) + np.abs(mf5) + np.abs(mf6) + np.abs(mf7) + np.abs(mf8))\n",
    "\n",
    "#plot r8 misfit\n",
    "r82.scatter(r8_bestfit.x, r8_misfit, facecolors = 'cornflowerblue', edgecolors='None', alpha = 0.5)\n",
    "r82.set_xlim(670000, 0)\n",
    "#r82.set_ylim(0, max(r8_misfit))\n",
    "#r82.set_yticks(np.array([0, 5]))\n",
    "#r82.set_xlabel('Distance [km]')\n",
    "r82.set_ylabel('Mean' + '\\n' +'misfit' + '\\n' + '[m]')\n",
    "\n",
    "xticks = np.array([0, 100, 200, 300, 400, 500, 600])\n",
    "r82.set_xticklabels(xticks)"
   ]
  },
  {
   "cell_type": "code",
   "execution_count": null,
   "metadata": {},
   "outputs": [],
   "source": []
  },
  {
   "cell_type": "code",
   "execution_count": 10,
   "metadata": {},
   "outputs": [
    {
     "data": {
      "text/plain": [
       "Text(0.3, 0.7, '8) VE=12.44x, $\\\\mu=$104.99')"
      ]
     },
     "execution_count": 10,
     "metadata": {},
     "output_type": "execute_result"
    }
   ],
   "source": [
    "#calculate vertical exag\n",
    "\n",
    "box = r81.get_window_extent()\n",
    "dpi = fig.dpi\n",
    "\n",
    "height_inches = box.height/dpi\n",
    "width_inches = box.width/dpi\n",
    "\n",
    "height_m = np.abs(r81.get_ylim()[0] - r81.get_ylim()[1])\n",
    "width_m = np.abs(r81.get_xlim()[0] - r81.get_xlim()[1])\n",
    "\n",
    "ve = (height_inches / height_m) / (width_inches / width_m)\n",
    "\n",
    "#print section number and VE on plot\n",
    "r81.text(0.3, 0.7, '8) VE=' + str(round(ve, 2)) + 'x, $\\mu=$' + str(round(r8_min_misfit, 2)), fontsize=16, transform=r81.transAxes, bbox=dict(linewidth = 1, facecolor='white'))\n",
    "\n"
   ]
  },
  {
   "cell_type": "code",
   "execution_count": 11,
   "metadata": {},
   "outputs": [
    {
     "data": {
      "text/plain": [
       "-6405.559556156812"
      ]
     },
     "execution_count": 11,
     "metadata": {},
     "output_type": "execute_result"
    }
   ],
   "source": [
    "r81.get_ylim()[0]"
   ]
  },
  {
   "cell_type": "code",
   "execution_count": 12,
   "metadata": {},
   "outputs": [
    {
     "name": "stdout",
     "output_type": "stream",
     "text": [
      "1\n",
      "2\n",
      "3\n",
      "4\n",
      "5\n",
      "6\n",
      "7\n"
     ]
    },
    {
     "name": "stderr",
     "output_type": "stream",
     "text": [
      "//anaconda3/envs/charlie-env-2/lib/python3.7/site-packages/ipykernel_launcher.py:121: UserWarning: FixedFormatter should only be used together with FixedLocator\n"
     ]
    },
    {
     "data": {
      "text/plain": [
       "[Text(0.0, 0, '0'),\n",
       " Text(100000.0, 0, '100'),\n",
       " Text(200000.0, 0, '200'),\n",
       " Text(300000.0, 0, '300'),\n",
       " Text(400000.0, 0, '400'),\n",
       " Text(500000.0, 0, '500'),\n",
       " Text(600000.0, 0, '600'),\n",
       " Text(700000.0, 0, '700'),\n",
       " Text(800000.0, 0, '')]"
      ]
     },
     "execution_count": 12,
     "metadata": {},
     "output_type": "execute_result"
    }
   ],
   "source": [
    "###R7 FIGURE\n",
    "\n",
    "#plot r7 best fit\n",
    "r71.plot(r7_bestfit.x, r7_bestfit.profile__br[-1, :], color = 'gray', linewidth = 1, zorder = 11)\n",
    "for i in range(1,8):\n",
    "    #if (i == 1) or (i == 2): #first two need to be cut off at ~600 km\n",
    "        #r71.plot(r7_bestfit.x[:53], r7_surfaces[i, :53], color = 'gray', linewidth = 1)\n",
    "    #else:\n",
    "    r71.plot(r7_bestfit.x, r7_surfaces[i, :], color = 'gray', linewidth = 1)\n",
    "    \n",
    "r71.fill_between(r7_bestfit.x, min(r7_bestfit.profile__br[-1, :]), r7_bestfit.profile__br[-1, :], color = (212/255, 212/255, 212/255), zorder = 10)\n",
    "r71.fill_between(r7_bestfit.x, r7_surfaces[0, :], r7_surfaces[1, :], color = (109/255, 145/255, 111/255))\n",
    "r71.fill_between(r7_bestfit.x, r7_surfaces[1, :], r7_surfaces[2, :], color = (172/255, 193/255, 173/255))\n",
    "r71.fill_between(r7_bestfit.x, r7_surfaces[2, :], r7_surfaces[3, :], color = (216/255, 233/255, 189/255), label = 'observed stratigraphy')\n",
    "r71.fill_between(r7_bestfit.x, r7_surfaces[3, :], r7_surfaces[4, :], color = (190/255, 220/255, 137/255))\n",
    "r71.fill_between(r7_bestfit.x, r7_surfaces[4, :], r7_surfaces[5, :], color = (247/255, 244/255, 181/255))\n",
    "r71.fill_between(r7_bestfit.x, r7_surfaces[5, :], r7_surfaces[6, :], color = (250/255, 193/255, 161/255))\n",
    "r71.fill_between(r7_bestfit.x, r7_surfaces[6, :], r7_surfaces[7, :], color = (254/255, 238/255, 137/255))\n",
    "r71.fill_between(r7_bestfit.x, r7_surfaces[7, :], r7_surfaces[8, :], color = (254/255, 251/255, 217/255))\n",
    "\n",
    "r71.plot(r7_bestfit.x, r7_top_surface[:], color = 'gray', linewidth = 1)\n",
    "r71.plot(r7_bestfit.x, r7_bestfit.profile__z[-1, :], color = 'k', linewidth = 3, linestyle='-', zorder = 6, label = 'modeled modern surface')\n",
    "\n",
    "r71.set_xlim(750000, 0)\n",
    "r71.set_ylim(min(r7_bestfit.profile__br[-1, :]), 0)\n",
    "\n",
    "r71.set_yticks(np.array([-5000, -2500, 0]))\n",
    "\n",
    "r71.get_xaxis().set_ticks([])\n",
    "r71.set_ylabel('Elevation [m]')\n",
    "\n",
    "\n",
    "#CALCULATE POSITION OF REMAINING LAYERS; PLOT. #DEFORM THE MODELED LAYERS, NOT THE DATA\n",
    "phi = 0.56\n",
    "z_star = 2830.\n",
    "dx = 10000.\n",
    "\n",
    "layer_starts = [0, 17000000, 30000000, 36000000, 49000000, 64000000, 100000000, 119000000]\n",
    "\n",
    "layer_z_values = np.zeros((8, len(r7_bestfit.profile__z[-1, :])))\n",
    "layer_z_values[-1, :] = r7_bestfit.profile__z[-1, :]\n",
    "\n",
    "for i in range(1, 8):\n",
    "    print(i)\n",
    "    #mass from basement to top of U8\n",
    "    depth_top = np.array(r7_bestfit.profile__z[-1, :]-r7_bestfit.profile__br[-1, :]) #depth to bedrock\n",
    "    depth_bottom = np.array(r7_bestfit.profile__br[-1, :]-r7_bestfit.profile__br[-1, :]) #depth to bedrock\n",
    "\n",
    "    integral_top = phi * z_star * np.exp(-depth_top/z_star) + depth_top\n",
    "    integral_bottom = phi * z_star * np.exp(-depth_bottom/z_star) + depth_bottom\n",
    "\n",
    "    M8 = (integral_top - integral_bottom)\n",
    "\n",
    "    #mass from basement to top of U7\n",
    "    depth_top = np.array(r7_bestfit.profile__z[i, :]-r7_bestfit.profile__br[i, :]) #depth to bedrock\n",
    "    depth_bottom = np.array(r7_bestfit.profile__br[i, :]-r7_bestfit.profile__br[i, :]) #depth to bedrock\n",
    "\n",
    "\n",
    "    integral_top = phi * z_star * np.exp(-depth_top/z_star) + depth_top\n",
    "    integral_bottom = phi * z_star * np.exp(-depth_bottom/z_star) + depth_bottom\n",
    "\n",
    "\n",
    "    M7 = (integral_top - integral_bottom)\n",
    "\n",
    "    m_over = M8 - M7\n",
    "    m_over[m_over < 0] = 0\n",
    "\n",
    "    #starting with layer U7 (U8 is known b/c it's the modern):\n",
    "    tolerance = 1.\n",
    "    diff = np.repeat(10., len(r7_top_surface))\n",
    "    ztop = np.zeros(len(r7_top_surface))\n",
    "    ztop[:] = np.repeat(0., len(r7_top_surface))#r8_bestfit.profile__z[-1, :] - r8_bestfit.profile__z[i, :]#np.repeat(0., len(r8_top_surface)) #initial guess for DEPTH OF THE TOP OF THE LAYER\n",
    "\n",
    "    while np.any(diff > tolerance):\n",
    "        ztop_new = ztop - ((ztop - z_star * phi * (1-np.exp(-ztop/z_star)) - m_over) / (1 - phi * np.exp(-ztop/z_star)))\n",
    "        diff[:] = np.abs(ztop_new - ztop) \n",
    "        ztop[:] = ztop_new[:]\n",
    "        \n",
    "    #populate 8 row array with calc'ed value\n",
    "    layer_z_values[i-1] = r7_bestfit.profile__z[-1, :]-ztop\n",
    "    \n",
    "for i in range(1, 8):\n",
    "    plotting_layer = layer_z_values[i-1]\n",
    "    for j in range(i, 8):\n",
    "        plotting_layer[plotting_layer > layer_z_values[j, :]] = layer_z_values[j, :][plotting_layer > layer_z_values[j, :]]\n",
    "    r71.plot(r7_bestfit.x, plotting_layer, linestyle = '--', color = 'k')\n",
    "\n",
    "#plot r7 misfit\n",
    "\n",
    "#truncate each layer using above layers\n",
    "truncated_layer_z_values = np.zeros((7, len(r7_bestfit.profile__z[-1, :])))\n",
    "truncated_layer_thicknesses = np.zeros((7, len(r7_bestfit.profile__z[-1, :])))\n",
    "for i in range(1, 8):\n",
    "    layer = layer_z_values[i-1]\n",
    "    for j in range(i, 8):\n",
    "        layer[layer > layer_z_values[j, :]] = layer_z_values[j, :][layer > layer_z_values[j, :]]\n",
    "    truncated_layer_z_values[i - 1, :] = layer[:]\n",
    "\n",
    "truncated_layer_thicknesses[i - 1, :] = layer[:] - r7_bestfit.profile__br[-1, :]\n",
    "\n",
    "\n",
    "mf1 = (r7_surfaces[1, :] - r7_surfaces[0, :]) - truncated_layer_thicknesses[0, :] #np.power((r8_surfaces[1, :] - r8_surfaces[0, :]) - r8_bestfit.profile__h[1, :], 2) / np.power(obs_error, 2)\n",
    "mf2 = (r7_surfaces[2, :] - r7_surfaces[0, :]) - truncated_layer_thicknesses[1, :]#np.power((r8_surfaces[2, :] - r8_surfaces[0, :]) - r8_bestfit.profile__h[2, :], 2) / np.power(obs_error, 2)\n",
    "mf3 = (r7_surfaces[3, :] - r7_surfaces[0, :]) - truncated_layer_thicknesses[2, :]#np.power((r8_surfaces[3, :] - r8_surfaces[0, :]) - r8_bestfit.profile__h[3, :], 2) / np.power(obs_error, 2)\n",
    "mf4 = (r7_surfaces[4, :] - r7_surfaces[0, :]) - truncated_layer_thicknesses[3, :]#np.power((r8_surfaces[4, :] - r8_surfaces[0, :]) - r8_bestfit.profile__h[4, :], 2) / np.power(obs_error, 2)\n",
    "mf5 = (r7_surfaces[5, :] - r7_surfaces[0, :]) - truncated_layer_thicknesses[4, :]#np.power((r8_surfaces[5, :] - r8_surfaces[0, :]) - r8_bestfit.profile__h[5, :], 2) / np.power(obs_error, 2)\n",
    "mf6 = (r7_surfaces[6, :] - r7_surfaces[0, :]) - truncated_layer_thicknesses[5, :]#np.power((r8_surfaces[6, :] - r8_surfaces[0, :]) - r8_bestfit.profile__h[6, :], 2) / np.power(obs_error, 2)\n",
    "mf7 = (r7_surfaces[7, :] - r7_surfaces[0, :]) - truncated_layer_thicknesses[6, :]#np.power((r8_surfaces[7, :] - r8_surfaces[0, :]) - r8_bestfit.profile__h[7, :], 2) / np.power(obs_error, 2)\n",
    "mf8 = r7_observed_h - r7_bestfit.profile__h[-1, :]#np.power(r8_observed_h - r8_bestfit.profile__h[-1, :], 2) / np.power(obs_error, 2)\n",
    "r7_misfit = (1 / 8) * (np.abs(mf1) + np.abs(mf2) + np.abs(mf3) + np.abs(mf4) + np.abs(mf5) + np.abs(mf6) + np.abs(mf7) + np.abs(mf8))\n",
    "\n",
    "#plot r7 misfit\n",
    "r72.scatter(r7_bestfit.x, r7_misfit, facecolors = 'cornflowerblue', edgecolors='None', alpha = 0.5)\n",
    "r72.set_xlim(750000, 0)\n",
    "#r72.set_ylim(0, max(r7_misfit))\n",
    "#r72.set_yticks(np.array([0, 5]))\n",
    "#r72.set_xlabel('Distance [km]')\n",
    "r72.set_ylabel('Mean' + '\\n' +'misfit' + '\\n' + '[m]')\n",
    "\n",
    "xticks = np.array([0, 100, 200, 300, 400, 500, 600, 700])\n",
    "r72.set_xticklabels(xticks)"
   ]
  },
  {
   "cell_type": "code",
   "execution_count": 13,
   "metadata": {},
   "outputs": [
    {
     "data": {
      "text/plain": [
       "Text(0.3, 0.7, '7) VE=11.8x, $\\\\mu=$121.46')"
      ]
     },
     "execution_count": 13,
     "metadata": {},
     "output_type": "execute_result"
    }
   ],
   "source": [
    "#calculate vertical exag\n",
    "\n",
    "box = r71.get_window_extent()\n",
    "dpi = fig.dpi\n",
    "\n",
    "height_inches = box.height/dpi\n",
    "width_inches = box.width/dpi\n",
    "\n",
    "height_m = np.abs(r71.get_ylim()[0] - r71.get_ylim()[1])\n",
    "width_m = np.abs(r71.get_xlim()[0] - r71.get_xlim()[1])\n",
    "\n",
    "ve = (height_inches / height_m) / (width_inches / width_m)\n",
    "\n",
    "#print section number and VE on plot\n",
    "r71.text(0.3, 0.7, '7) VE=' + str(round(ve, 2)) + 'x, $\\mu=$' + str(round(r7_min_misfit, 2)), fontsize=16, transform=r71.transAxes, bbox=dict(linewidth = 1, facecolor='white'))\n",
    "\n",
    "\n"
   ]
  },
  {
   "cell_type": "code",
   "execution_count": null,
   "metadata": {},
   "outputs": [],
   "source": []
  },
  {
   "cell_type": "code",
   "execution_count": 14,
   "metadata": {},
   "outputs": [
    {
     "name": "stdout",
     "output_type": "stream",
     "text": [
      "1\n",
      "2\n",
      "3\n",
      "4\n",
      "5\n",
      "6\n",
      "7\n"
     ]
    },
    {
     "name": "stderr",
     "output_type": "stream",
     "text": [
      "//anaconda3/envs/charlie-env-2/lib/python3.7/site-packages/ipykernel_launcher.py:121: UserWarning: FixedFormatter should only be used together with FixedLocator\n"
     ]
    },
    {
     "data": {
      "text/plain": [
       "[Text(0.0, 0, '0'),\n",
       " Text(100000.0, 0, '100'),\n",
       " Text(200000.0, 0, '200'),\n",
       " Text(300000.0, 0, '300'),\n",
       " Text(400000.0, 0, '400'),\n",
       " Text(500000.0, 0, '500'),\n",
       " Text(600000.0, 0, '600'),\n",
       " Text(700000.0, 0, '')]"
      ]
     },
     "execution_count": 14,
     "metadata": {},
     "output_type": "execute_result"
    }
   ],
   "source": [
    "##R6 FIGURE\n",
    "\n",
    "#plot r6 best fit\n",
    "r61.plot(r6_bestfit.x, r6_bestfit.profile__br[-1, :], color = 'gray', linewidth = 1, zorder = 11)\n",
    "for i in range(1,8):\n",
    "    #if (i == 1) or (i == 2): #first two need to be cut off at ~600 km\n",
    "    #    r61.plot(r6_bestfit.x[:53], r6_surfaces[i, :53], color = 'gray', linewidth = 1)\n",
    "    #else:\n",
    "    r61.plot(r6_bestfit.x, r6_surfaces[i, :], color = 'gray', linewidth = 1)\n",
    "    \n",
    "r61.fill_between(r6_bestfit.x, min(r6_bestfit.profile__br[-1, :]), r6_bestfit.profile__br[-1, :], color = (212/255, 212/255, 212/255), zorder = 10)\n",
    "r61.fill_between(r6_bestfit.x, r6_surfaces[0, :], r6_surfaces[1, :], color = (109/255, 145/255, 111/255))\n",
    "r61.fill_between(r6_bestfit.x, r6_surfaces[1, :], r6_surfaces[2, :], color = (172/255, 193/255, 173/255))\n",
    "r61.fill_between(r6_bestfit.x, r6_surfaces[2, :], r6_surfaces[3, :], color = (216/255, 233/255, 189/255), label = 'observed stratigraphy')\n",
    "r61.fill_between(r6_bestfit.x, r6_surfaces[3, :], r6_surfaces[4, :], color = (190/255, 220/255, 137/255))\n",
    "r61.fill_between(r6_bestfit.x, r6_surfaces[4, :], r6_surfaces[5, :], color = (247/255, 244/255, 181/255))\n",
    "r61.fill_between(r6_bestfit.x, r6_surfaces[5, :], r6_surfaces[6, :], color = (250/255, 193/255, 161/255))\n",
    "r61.fill_between(r6_bestfit.x, r6_surfaces[6, :], r6_surfaces[7, :], color = (254/255, 238/255, 137/255))\n",
    "r61.fill_between(r6_bestfit.x, r6_surfaces[7, :], r6_surfaces[8, :], color = (254/255, 251/255, 217/255))\n",
    "\n",
    "r61.plot(r6_bestfit.x, r6_top_surface[:], color = 'gray', linewidth = 1)\n",
    "r61.plot(r6_bestfit.x, r6_bestfit.profile__z[-1, :], color = 'k', linewidth = 3, linestyle='-', zorder = 6, label = 'modeled modern surface')\n",
    "#r61.legend(handlelength=3)\n",
    "\n",
    "r61.set_xlim(670000, 0)\n",
    "r61.set_ylim(min(r6_bestfit.profile__br[-1, :]), 0)\n",
    "\n",
    "r61.set_yticks(np.array([-5000, -2500, 0]))\n",
    "\n",
    "r61.get_xaxis().set_ticks([])\n",
    "r61.set_ylabel('Elevation [m]')\n",
    "\n",
    "\n",
    "#CALCULATE POSITION OF REMAINING LAYERS; PLOT. #DEFORM THE MODELED LAYERS, NOT THE DATA\n",
    "phi = 0.56\n",
    "z_star = 2830.\n",
    "dx = 10000.\n",
    "\n",
    "layer_starts = [0, 17000000, 30000000, 36000000, 49000000, 64000000, 100000000, 119000000]\n",
    "layer_z_values = np.zeros((8, len(r6_bestfit.profile__z[-1, :])))\n",
    "layer_z_values[-1, :] = r6_bestfit.profile__z[-1, :]\n",
    "for i in range(1, 8):\n",
    "    print(i)\n",
    "    #mass from basement to top of U8\n",
    "    depth_top = np.array(r6_bestfit.profile__z[-1, :]-r6_bestfit.profile__br[-1, :]) #depth to bedrock\n",
    "    depth_bottom = np.array(r6_bestfit.profile__br[-1, :]-r6_bestfit.profile__br[-1, :]) #depth to bedrock\n",
    "\n",
    "    integral_top = phi * z_star * np.exp(-depth_top/z_star) + depth_top\n",
    "    integral_bottom = phi * z_star * np.exp(-depth_bottom/z_star) + depth_bottom\n",
    "\n",
    "    M8 = (integral_top - integral_bottom)\n",
    "\n",
    "    #mass from basement to top of U7\n",
    "    depth_top = np.array(r6_bestfit.profile__z[i, :]-r6_bestfit.profile__br[i, :]) #depth to bedrock\n",
    "    depth_bottom = np.array(r6_bestfit.profile__br[i, :]-r6_bestfit.profile__br[i, :]) #depth to bedrock\n",
    "\n",
    "\n",
    "    integral_top = phi * z_star * np.exp(-depth_top/z_star) + depth_top\n",
    "    integral_bottom = phi * z_star * np.exp(-depth_bottom/z_star) + depth_bottom\n",
    "\n",
    "\n",
    "    M7 = (integral_top - integral_bottom)\n",
    "\n",
    "    m_over = M8 - M7\n",
    "    m_over[m_over < 0] = 0\n",
    "\n",
    "    #starting with layer U7 (U8 is known b/c it's the modern):\n",
    "    tolerance = 1.\n",
    "    diff = np.repeat(10., len(r6_top_surface))\n",
    "    ztop = np.zeros(len(r6_top_surface))\n",
    "    ztop[:] = np.repeat(0., len(r6_top_surface))#r8_bestfit.profile__z[-1, :] - r8_bestfit.profile__z[i, :]#np.repeat(0., len(r8_top_surface)) #initial guess for DEPTH OF THE TOP OF THE LAYER\n",
    "\n",
    "    while np.any(diff > tolerance):\n",
    "        ztop_new = ztop - ((ztop - z_star * phi * (1-np.exp(-ztop/z_star)) - m_over) / (1 - phi * np.exp(-ztop/z_star)))\n",
    "        diff[:] = np.abs(ztop_new - ztop) \n",
    "        ztop[:] = ztop_new[:]\n",
    "\n",
    "    #populate 8 row array with calc'ed value\n",
    "    layer_z_values[i-1] = r6_bestfit.profile__z[-1, :]-ztop\n",
    "    \n",
    "for i in range(1, 8):\n",
    "    plotting_layer = layer_z_values[i-1]\n",
    "    for j in range(i, 8):\n",
    "        plotting_layer[plotting_layer > layer_z_values[j, :]] = layer_z_values[j, :][plotting_layer > layer_z_values[j, :]]\n",
    "    r61.plot(r6_bestfit.x, plotting_layer, linestyle = '--', color = 'k')\n",
    "    \n",
    "#plot r6 misfit\n",
    "\n",
    "#truncate each layer using above layers\n",
    "truncated_layer_z_values = np.zeros((7, len(r6_bestfit.profile__z[-1, :])))\n",
    "truncated_layer_thicknesses = np.zeros((7, len(r6_bestfit.profile__z[-1, :])))\n",
    "for i in range(1, 8):\n",
    "    layer = layer_z_values[i-1]\n",
    "    for j in range(i, 8):\n",
    "        layer[layer > layer_z_values[j, :]] = layer_z_values[j, :][layer > layer_z_values[j, :]]\n",
    "    truncated_layer_z_values[i - 1, :] = layer[:]\n",
    "\n",
    "truncated_layer_thicknesses[i - 1, :] = layer[:] - r6_bestfit.profile__br[-1, :]\n",
    "\n",
    "\n",
    "mf1 = (r6_surfaces[1, :] - r6_surfaces[0, :]) - truncated_layer_thicknesses[0, :] #np.power((r8_surfaces[1, :] - r8_surfaces[0, :]) - r8_bestfit.profile__h[1, :], 2) / np.power(obs_error, 2)\n",
    "mf2 = (r6_surfaces[2, :] - r6_surfaces[0, :]) - truncated_layer_thicknesses[1, :]#np.power((r8_surfaces[2, :] - r8_surfaces[0, :]) - r8_bestfit.profile__h[2, :], 2) / np.power(obs_error, 2)\n",
    "mf3 = (r6_surfaces[3, :] - r6_surfaces[0, :]) - truncated_layer_thicknesses[2, :]#np.power((r8_surfaces[3, :] - r8_surfaces[0, :]) - r8_bestfit.profile__h[3, :], 2) / np.power(obs_error, 2)\n",
    "mf4 = (r6_surfaces[4, :] - r6_surfaces[0, :]) - truncated_layer_thicknesses[3, :]#np.power((r8_surfaces[4, :] - r8_surfaces[0, :]) - r8_bestfit.profile__h[4, :], 2) / np.power(obs_error, 2)\n",
    "mf5 = (r6_surfaces[5, :] - r6_surfaces[0, :]) - truncated_layer_thicknesses[4, :]#np.power((r8_surfaces[5, :] - r8_surfaces[0, :]) - r8_bestfit.profile__h[5, :], 2) / np.power(obs_error, 2)\n",
    "mf6 = (r6_surfaces[6, :] - r6_surfaces[0, :]) - truncated_layer_thicknesses[5, :]#np.power((r8_surfaces[6, :] - r8_surfaces[0, :]) - r8_bestfit.profile__h[6, :], 2) / np.power(obs_error, 2)\n",
    "mf7 = (r6_surfaces[7, :] - r6_surfaces[0, :]) - truncated_layer_thicknesses[6, :]#np.power((r8_surfaces[7, :] - r8_surfaces[0, :]) - r8_bestfit.profile__h[7, :], 2) / np.power(obs_error, 2)\n",
    "mf8 = r6_observed_h - r6_bestfit.profile__h[-1, :]#np.power(r8_observed_h - r8_bestfit.profile__h[-1, :], 2) / np.power(obs_error, 2)\n",
    "r6_misfit = (1 / 8) * (np.abs(mf1) + np.abs(mf2) + np.abs(mf3) + np.abs(mf4) + np.abs(mf5) + np.abs(mf6) + np.abs(mf7) + np.abs(mf8))\n",
    "    \n",
    "#plot r6 misfit\n",
    "r62.scatter(r6_bestfit.x, r6_misfit, facecolors = 'cornflowerblue', edgecolors='None', alpha = 0.5)\n",
    "r62.set_xlim(670000, 0)\n",
    "#r62.set_ylim(0, max(r6_misfit))\n",
    "#r62.set_yticks(np.array([0, 5]))\n",
    "#r62.set_xlabel('Distance [km]')\n",
    "r62.set_ylabel('Mean' + '\\n' +'misfit' + '\\n' + '[m]')\n",
    "\n",
    "\n",
    "xticks = np.array([0, 100, 200, 300, 400, 500, 600])\n",
    "r62.set_xticklabels(xticks)\n"
   ]
  },
  {
   "cell_type": "code",
   "execution_count": 15,
   "metadata": {},
   "outputs": [
    {
     "data": {
      "text/plain": [
       "Text(0.3, 0.7, '6) VE=12.37x, $\\\\mu=$104.0')"
      ]
     },
     "execution_count": 15,
     "metadata": {},
     "output_type": "execute_result"
    }
   ],
   "source": [
    "#calculate vertical exag\n",
    "\n",
    "box = r61.get_window_extent()\n",
    "dpi = fig.dpi\n",
    "\n",
    "height_inches = box.height/dpi\n",
    "width_inches = box.width/dpi\n",
    "\n",
    "height_m = np.abs(r61.get_ylim()[0] - r61.get_ylim()[1])\n",
    "width_m = np.abs(r61.get_xlim()[0] - r61.get_xlim()[1])\n",
    "\n",
    "ve = (height_inches / height_m) / (width_inches / width_m)\n",
    "\n",
    "#print section number and VE on plot\n",
    "r61.text(0.3, 0.7, '6) VE=' + str(round(ve, 2)) + 'x, $\\mu=$' + str(round(r6_min_misfit, 2)), fontsize=16, transform=r61.transAxes, bbox=dict(linewidth = 1, facecolor='white'))\n",
    "\n",
    "\n"
   ]
  },
  {
   "cell_type": "code",
   "execution_count": null,
   "metadata": {},
   "outputs": [],
   "source": []
  },
  {
   "cell_type": "code",
   "execution_count": 16,
   "metadata": {},
   "outputs": [
    {
     "data": {
      "text/plain": [
       "Text(0, 0.5, 'Elevation [m]')"
      ]
     },
     "execution_count": 16,
     "metadata": {},
     "output_type": "execute_result"
    }
   ],
   "source": [
    "##R5 RIGURE\n",
    "\n",
    "#plot r5 best fit\n",
    "r51.plot(r5_bestfit.x, r5_bestfit.profile__br[-1, :], color = 'gray', linewidth = 1, zorder = 11)\n",
    "for i in range(1,8):\n",
    "    #if (i == 1) or (i == 2): #first two need to be cut off at ~600 km\n",
    "    #    r51.plot(r5_bestfit.x[:53], r5_surfaces[i, :53], color = 'gray', linewidth = 1)\n",
    "    #else:\n",
    "    r51.plot(r5_bestfit.x, r5_surfaces[i, :], color = 'gray', linewidth = 1)\n",
    "    \n",
    "r51.fill_between(r5_bestfit.x, min(r5_bestfit.profile__br[-1, :]), r5_bestfit.profile__br[-1, :], color = (212/255, 212/255, 212/255), zorder = 10)\n",
    "r51.fill_between(r5_bestfit.x, r5_surfaces[0, :], r5_surfaces[1, :], color = (109/255, 145/255, 111/255))\n",
    "r51.fill_between(r5_bestfit.x, r5_surfaces[1, :], r5_surfaces[2, :], color = (172/255, 193/255, 173/255))\n",
    "r51.fill_between(r5_bestfit.x, r5_surfaces[2, :], r5_surfaces[3, :], color = (216/255, 233/255, 189/255), label = 'observed stratigraphy')\n",
    "r51.fill_between(r5_bestfit.x, r5_surfaces[3, :], r5_surfaces[4, :], color = (190/255, 220/255, 137/255))\n",
    "r51.fill_between(r5_bestfit.x, r5_surfaces[4, :], r5_surfaces[5, :], color = (247/255, 244/255, 181/255))\n",
    "r51.fill_between(r5_bestfit.x, r5_surfaces[5, :], r5_surfaces[6, :], color = (250/255, 193/255, 161/255))\n",
    "r51.fill_between(r5_bestfit.x, r5_surfaces[6, :], r5_surfaces[7, :], color = (254/255, 238/255, 137/255))\n",
    "r51.fill_between(r5_bestfit.x, r5_surfaces[7, :], r5_surfaces[8, :], color = (254/255, 251/255, 217/255))\n",
    "\n",
    "r51.plot(r5_bestfit.x, r5_top_surface[:], color = 'gray', linewidth = 1)\n",
    "r51.plot(r5_bestfit.x, r5_bestfit.profile__z[-1, :], color = 'k', linewidth = 3, linestyle='-', zorder = 6, label = 'modeled modern surface')\n",
    "#r51.legend(handlelength=3)\n",
    "\n",
    "r51.set_xlim(770000, 0)\n",
    "r51.set_ylim(min(r5_bestfit.profile__br[-1, :]), 0)\n",
    "\n",
    "r51.set_yticks(np.array([-5000, -2500, 0]))\n",
    "\n",
    "r51.get_xaxis().set_ticks([])\n",
    "r51.set_ylabel('Elevation [m]')\n",
    "\n",
    "#r51.text(730000,-3500, 'northern section')"
   ]
  },
  {
   "cell_type": "code",
   "execution_count": 17,
   "metadata": {},
   "outputs": [
    {
     "data": {
      "text/plain": [
       "Text(0.3, 0.7, '5) VE=15.1x, $\\\\mu=$104.99')"
      ]
     },
     "execution_count": 17,
     "metadata": {},
     "output_type": "execute_result"
    }
   ],
   "source": [
    "#calculate vertical exag\n",
    "\n",
    "box = r51.get_window_extent()\n",
    "dpi = fig.dpi\n",
    "\n",
    "height_inches = box.height/dpi\n",
    "width_inches = box.width/dpi\n",
    "\n",
    "height_m = np.abs(r51.get_ylim()[0] - r51.get_ylim()[1])\n",
    "width_m = np.abs(r51.get_xlim()[0] - r51.get_xlim()[1])\n",
    "\n",
    "ve = (height_inches / height_m) / (width_inches / width_m)\n",
    "\n",
    "#print section number and VE on plot\n",
    "r51.text(0.3, 0.7, '5) VE=' + str(round(ve, 2)) + 'x, $\\mu=$' + str(round(r8_min_misfit, 2)), fontsize=16, transform=r51.transAxes, bbox=dict(linewidth = 1, facecolor='white'))\n",
    "\n",
    "\n"
   ]
  },
  {
   "cell_type": "code",
   "execution_count": 18,
   "metadata": {},
   "outputs": [
    {
     "name": "stdout",
     "output_type": "stream",
     "text": [
      "1\n",
      "2\n",
      "3\n",
      "4\n",
      "5\n",
      "6\n",
      "7\n"
     ]
    },
    {
     "name": "stderr",
     "output_type": "stream",
     "text": [
      "//anaconda3/envs/charlie-env-2/lib/python3.7/site-packages/ipykernel_launcher.py:95: UserWarning: FixedFormatter should only be used together with FixedLocator\n"
     ]
    },
    {
     "data": {
      "text/plain": [
       "[Text(0.0, 0, '0'),\n",
       " Text(100000.0, 0, '100'),\n",
       " Text(200000.0, 0, '200'),\n",
       " Text(300000.0, 0, '300'),\n",
       " Text(400000.0, 0, '400'),\n",
       " Text(500000.0, 0, '500'),\n",
       " Text(600000.0, 0, '600'),\n",
       " Text(700000.0, 0, '700'),\n",
       " Text(800000.0, 0, '')]"
      ]
     },
     "execution_count": 18,
     "metadata": {},
     "output_type": "execute_result"
    }
   ],
   "source": [
    "\n",
    "\n",
    "#CALCULATE POSITION OF REMAINING LAYERS; PLOT. #DEFORM THE MODELED LAYERS, NOT THE DATA\n",
    "phi = 0.56\n",
    "z_star = 2830.\n",
    "dx = 10000.\n",
    "\n",
    "layer_starts = [0, 17000000, 30000000, 36000000, 49000000, 64000000, 100000000, 119000000]\n",
    "layer_z_values = np.zeros((8, len(r5_bestfit.profile__z[-1, :])))\n",
    "layer_z_values[-1, :] = r5_bestfit.profile__z[-1, :]\n",
    "for i in range(1, 8):\n",
    "    print(i)\n",
    "    #mass from basement to top of U8\n",
    "    depth_top = np.array(r5_bestfit.profile__z[-1, :]-r5_bestfit.profile__br[-1, :]) #depth to bedrock\n",
    "    depth_bottom = np.array(r5_bestfit.profile__br[-1, :]-r5_bestfit.profile__br[-1, :]) #depth to bedrock\n",
    "\n",
    "    integral_top = phi * z_star * np.exp(-depth_top/z_star) + depth_top\n",
    "    integral_bottom = phi * z_star * np.exp(-depth_bottom/z_star) + depth_bottom\n",
    "\n",
    "    M8 = (integral_top - integral_bottom)\n",
    "\n",
    "    #mass from basement to top of U7\n",
    "    depth_top = np.array(r5_bestfit.profile__z[i, :]-r5_bestfit.profile__br[i, :]) #depth to bedrock\n",
    "    depth_bottom = np.array(r5_bestfit.profile__br[i, :]-r5_bestfit.profile__br[i, :]) #depth to bedrock\n",
    "\n",
    "\n",
    "    integral_top = phi * z_star * np.exp(-depth_top/z_star) + depth_top\n",
    "    integral_bottom = phi * z_star * np.exp(-depth_bottom/z_star) + depth_bottom\n",
    "\n",
    "\n",
    "    M7 = (integral_top - integral_bottom)\n",
    "\n",
    "    m_over = M8 - M7\n",
    "    m_over[m_over < 0] = 0\n",
    "\n",
    "    #starting with layer U7 (U8 is known b/c it's the modern):\n",
    "    tolerance = 1.\n",
    "    diff = np.repeat(10., len(r5_top_surface))\n",
    "    ztop = np.zeros(len(r5_top_surface))\n",
    "    ztop[:] = np.repeat(0., len(r5_top_surface))#r8_bestfit.profile__z[-1, :] - r8_bestfit.profile__z[i, :]#np.repeat(0., len(r8_top_surface)) #initial guess for DEPTH OF THE TOP OF THE LAYER\n",
    "\n",
    "    while np.any(diff > tolerance):\n",
    "        ztop_new = ztop - ((ztop - z_star * phi * (1-np.exp(-ztop/z_star)) - m_over) / (1 - phi * np.exp(-ztop/z_star)))\n",
    "        diff[:] = np.abs(ztop_new - ztop) \n",
    "        ztop[:] = ztop_new[:]\n",
    "    #populate 8 row array with calc'ed value\n",
    "    layer_z_values[i-1] = r5_bestfit.profile__z[-1, :]-ztop\n",
    "    \n",
    "for i in range(1, 8):\n",
    "    plotting_layer = layer_z_values[i-1]\n",
    "    for j in range(i, 8):\n",
    "        plotting_layer[plotting_layer > layer_z_values[j, :]] = layer_z_values[j, :][plotting_layer > layer_z_values[j, :]]\n",
    "    r51.plot(r5_bestfit.x, plotting_layer, linestyle = '--', color = 'k')\n",
    "    \n",
    "#plot r5 misfit\n",
    "\n",
    "#truncate each layer using above layers\n",
    "truncated_layer_z_values = np.zeros((7, len(r5_bestfit.profile__z[-1, :])))\n",
    "truncated_layer_thicknesses = np.zeros((7, len(r5_bestfit.profile__z[-1, :])))\n",
    "for i in range(1, 8):\n",
    "    layer = layer_z_values[i-1]\n",
    "    for j in range(i, 8):\n",
    "        layer[layer > layer_z_values[j, :]] = layer_z_values[j, :][layer > layer_z_values[j, :]]\n",
    "    truncated_layer_z_values[i - 1, :] = layer[:]\n",
    "\n",
    "truncated_layer_thicknesses[i - 1, :] = layer[:] - r5_bestfit.profile__br[-1, :]\n",
    "\n",
    "    \n",
    "\n",
    "\n",
    "mf1 = (r5_surfaces[1, :] - r5_surfaces[0, :]) - truncated_layer_thicknesses[0, :] #np.power((r8_surfaces[1, :] - r8_surfaces[0, :]) - r8_bestfit.profile__h[1, :], 2) / np.power(obs_error, 2)\n",
    "mf2 = (r5_surfaces[2, :] - r5_surfaces[0, :]) - truncated_layer_thicknesses[1, :]#np.power((r8_surfaces[2, :] - r8_surfaces[0, :]) - r8_bestfit.profile__h[2, :], 2) / np.power(obs_error, 2)\n",
    "mf3 = (r5_surfaces[3, :] - r5_surfaces[0, :]) - truncated_layer_thicknesses[2, :]#np.power((r8_surfaces[3, :] - r8_surfaces[0, :]) - r8_bestfit.profile__h[3, :], 2) / np.power(obs_error, 2)\n",
    "mf4 = (r5_surfaces[4, :] - r5_surfaces[0, :]) - truncated_layer_thicknesses[3, :]#np.power((r8_surfaces[4, :] - r8_surfaces[0, :]) - r8_bestfit.profile__h[4, :], 2) / np.power(obs_error, 2)\n",
    "mf5 = (r5_surfaces[5, :] - r5_surfaces[0, :]) - truncated_layer_thicknesses[4, :]#np.power((r8_surfaces[5, :] - r8_surfaces[0, :]) - r8_bestfit.profile__h[5, :], 2) / np.power(obs_error, 2)\n",
    "mf6 = (r5_surfaces[6, :] - r5_surfaces[0, :]) - truncated_layer_thicknesses[5, :]#np.power((r8_surfaces[6, :] - r8_surfaces[0, :]) - r8_bestfit.profile__h[6, :], 2) / np.power(obs_error, 2)\n",
    "mf7 = (r5_surfaces[7, :] - r5_surfaces[0, :]) - truncated_layer_thicknesses[6, :]#np.power((r8_surfaces[7, :] - r8_surfaces[0, :]) - r8_bestfit.profile__h[7, :], 2) / np.power(obs_error, 2)\n",
    "mf8 = r5_observed_h - r5_bestfit.profile__h[-1, :]#np.power(r8_observed_h - r8_bestfit.profile__h[-1, :], 2) / np.power(obs_error, 2)\n",
    "r5_misfit = (1 / 8) * (np.abs(mf1) + np.abs(mf2) + np.abs(mf3) + np.abs(mf4) + np.abs(mf5) + np.abs(mf6) + np.abs(mf7) + np.abs(mf8))\n",
    "    \n",
    "\n",
    "\n",
    "#plot r5 misfit\n",
    "r52.scatter(r5_bestfit.x, r5_misfit, facecolors = 'cornflowerblue', edgecolors='None', alpha = 0.5)\n",
    "r52.set_xlim(770000, 0)\n",
    "#r52.set_ylim(0, max(r5_misfit))\n",
    "#r52.set_yticks(np.array([0, 5]))\n",
    "#r52.set_xlabel('Distance [km]')\n",
    "r52.set_ylabel('Mean' + '\\n' +'misfit' + '\\n' + '[m]')\n",
    "\n",
    "#labels = ['0', '200', '400', '600', '800', '1000', '1200', '1400']\n",
    "#xticks = np.array([0, 200, 400, 600, 800, 1000, 1200, 1400])\n",
    "#r52.set_xticklabels(xticks)\n",
    "#r52.get_xaxis().set_ticks([])\n",
    "\n",
    "xticks = np.array([0, 100, 200, 300, 400, 500, 600, 700])\n",
    "r52.set_xticklabels(xticks)\n"
   ]
  },
  {
   "cell_type": "code",
   "execution_count": null,
   "metadata": {},
   "outputs": [],
   "source": []
  },
  {
   "cell_type": "code",
   "execution_count": 19,
   "metadata": {},
   "outputs": [
    {
     "data": {
      "text/plain": [
       "Text(0, 0.5, 'Elevation [m]')"
      ]
     },
     "execution_count": 19,
     "metadata": {},
     "output_type": "execute_result"
    }
   ],
   "source": [
    "##R4 FIGURE\n",
    "\n",
    "#plot r4 best fit\n",
    "r41.plot(r4_bestfit.x, r4_bestfit.profile__br[-1, :], color = 'gray', linewidth = 1, zorder = 5)\n",
    "for i in range(1,8):\n",
    "    r41.plot(r4_bestfit.x, r4_surfaces[i, :], color = 'gray', linewidth = 1)\n",
    "    \n",
    "r41.fill_between(r4_bestfit.x, min(r4_bestfit.profile__br[-1, :]), r4_bestfit.profile__br[-1, :], color = (212/255, 212/255, 212/255))\n",
    "r41.fill_between(r4_bestfit.x, r4_surfaces[0, :], r4_surfaces[1, :], color = (109/255, 145/255, 111/255))\n",
    "r41.fill_between(r4_bestfit.x, r4_surfaces[1, :], r4_surfaces[2, :], color = (172/255, 193/255, 173/255))\n",
    "r41.fill_between(r4_bestfit.x, r4_surfaces[2, :], r4_surfaces[3, :], color = (216/255, 233/255, 189/255), label = 'observed stratigraphy')\n",
    "r41.fill_between(r4_bestfit.x, r4_surfaces[3, :], r4_surfaces[4, :], color = (190/255, 220/255, 137/255))\n",
    "r41.fill_between(r4_bestfit.x, r4_surfaces[4, :], r4_surfaces[5, :], color = (247/255, 244/255, 181/255))\n",
    "r41.fill_between(r4_bestfit.x, r4_surfaces[5, :], r4_surfaces[6, :], color = (250/255, 193/255, 161/255))\n",
    "r41.fill_between(r4_bestfit.x, r4_surfaces[6, :], r4_surfaces[7, :], color = (254/255, 238/255, 137/255))\n",
    "r41.fill_between(r4_bestfit.x, r4_surfaces[7, :], r4_surfaces[8, :], color = (254/255, 251/255, 217/255))\n",
    "\n",
    "r41.plot(r4_bestfit.x, r4_top_surface[:], color = 'gray', linewidth = 1)\n",
    "r41.plot(r4_bestfit.x, r4_bestfit.profile__z[-1, :], color = 'k', linewidth = 3, linestyle='-', zorder = 6, label = 'modeled modern surface')\n",
    "\n",
    "\n",
    "#r41.legend(handlelength=3)\n",
    "r41.set_xlim(1380000, 0)\n",
    "r41.set_ylim(min(r4_bestfit.profile__br[-1, :]), 0)\n",
    "r41.get_xaxis().set_ticks([])\n",
    "r41.set_ylabel('Elevation [m]')\n",
    "\n",
    "#r41.text(1390000,-3500, 'middle section')"
   ]
  },
  {
   "cell_type": "code",
   "execution_count": 20,
   "metadata": {},
   "outputs": [
    {
     "data": {
      "text/plain": [
       "Text(0.3, 0.7, '4) VE=23.56x, $\\\\mu=$97.92')"
      ]
     },
     "execution_count": 20,
     "metadata": {},
     "output_type": "execute_result"
    }
   ],
   "source": [
    "#calculate vertical exag\n",
    "\n",
    "box = r41.get_window_extent()\n",
    "dpi = fig.dpi\n",
    "\n",
    "height_inches = box.height/dpi\n",
    "width_inches = box.width/dpi\n",
    "\n",
    "height_m = np.abs(r41.get_ylim()[0] - r41.get_ylim()[1])\n",
    "width_m = np.abs(r41.get_xlim()[0] - r41.get_xlim()[1])\n",
    "\n",
    "ve = (height_inches / height_m) / (width_inches / width_m)\n",
    "\n",
    "#print section number and VE on plot\n",
    "r41.text(0.3, 0.7, '4) VE=' + str(round(ve, 2)) + 'x, $\\mu=$' + str(round(r4_min_misfit, 2)), fontsize=16, transform=r41.transAxes, bbox=dict(linewidth = 1, facecolor='white'))\n",
    "\n",
    "\n"
   ]
  },
  {
   "cell_type": "code",
   "execution_count": 21,
   "metadata": {},
   "outputs": [
    {
     "name": "stdout",
     "output_type": "stream",
     "text": [
      "1\n",
      "2\n",
      "3\n",
      "4\n",
      "5\n",
      "6\n",
      "7\n"
     ]
    },
    {
     "name": "stderr",
     "output_type": "stream",
     "text": [
      "//anaconda3/envs/charlie-env-2/lib/python3.7/site-packages/ipykernel_launcher.py:91: UserWarning: FixedFormatter should only be used together with FixedLocator\n"
     ]
    },
    {
     "data": {
      "text/plain": [
       "[Text(0.0, 0, '0'),\n",
       " Text(200000.0, 0, '200'),\n",
       " Text(400000.0, 0, '400'),\n",
       " Text(600000.0, 0, '600'),\n",
       " Text(800000.0, 0, '800'),\n",
       " Text(1000000.0, 0, '1000'),\n",
       " Text(1200000.0, 0, '1200'),\n",
       " Text(1400000.0, 0, '1400')]"
      ]
     },
     "execution_count": 21,
     "metadata": {},
     "output_type": "execute_result"
    }
   ],
   "source": [
    "\n",
    "\n",
    "#r42.set_xlabel('Distance [km]')\n",
    "\n",
    "#CALCULATE POSITION OF REMAINING LAYERS; PLOT. #DEFORM THE MODELED LAYERS, NOT THE DATA\n",
    "phi = 0.56\n",
    "z_star = 2830.\n",
    "dx = 10000.\n",
    "\n",
    "layer_starts = [0, 17000000, 30000000, 36000000, 49000000, 64000000, 100000000, 119000000]\n",
    "layer_z_values = np.zeros((8, len(r4_bestfit.profile__z[-1, :])))\n",
    "layer_z_values[-1, :] = r4_bestfit.profile__z[-1, :]\n",
    "for i in range(1, 8):\n",
    "    print(i)\n",
    "    #mass from basement to top of U8\n",
    "    depth_top = np.array(r4_bestfit.profile__z[-1, :]-r4_bestfit.profile__br[-1, :]) #depth to bedrock\n",
    "    depth_bottom = np.array(r4_bestfit.profile__br[-1, :]-r4_bestfit.profile__br[-1, :]) #depth to bedrock\n",
    "\n",
    "    integral_top = phi * z_star * np.exp(-depth_top/z_star) + depth_top\n",
    "    integral_bottom = phi * z_star * np.exp(-depth_bottom/z_star) + depth_bottom\n",
    "\n",
    "    M8 = (integral_top - integral_bottom)\n",
    "\n",
    "    #mass from basement to top of U7\n",
    "    depth_top = np.array(r4_bestfit.profile__z[i, :]-r4_bestfit.profile__br[i, :]) #depth to bedrock\n",
    "    depth_bottom = np.array(r4_bestfit.profile__br[i, :]-r4_bestfit.profile__br[i, :]) #depth to bedrock\n",
    "\n",
    "\n",
    "    integral_top = phi * z_star * np.exp(-depth_top/z_star) + depth_top\n",
    "    integral_bottom = phi * z_star * np.exp(-depth_bottom/z_star) + depth_bottom\n",
    "\n",
    "\n",
    "    M7 = (integral_top - integral_bottom)\n",
    "\n",
    "    m_over = M8 - M7\n",
    "    m_over[m_over < 0] = 0\n",
    "\n",
    "    #starting with layer U7 (U8 is known b/c it's the modern):\n",
    "    tolerance = 1.\n",
    "    diff = np.repeat(10., len(r4_top_surface))\n",
    "    ztop = np.zeros(len(r4_top_surface))\n",
    "    ztop[:] = np.repeat(0., len(r4_top_surface))#r8_bestfit.profile__z[-1, :] - r8_bestfit.profile__z[i, :]#np.repeat(0., len(r8_top_surface)) #initial guess for DEPTH OF THE TOP OF THE LAYER\n",
    "\n",
    "    while np.any(diff > tolerance):\n",
    "        ztop_new = ztop - ((ztop - z_star * phi * (1-np.exp(-ztop/z_star)) - m_over) / (1 - phi * np.exp(-ztop/z_star)))\n",
    "        diff[:] = np.abs(ztop_new - ztop) \n",
    "        ztop[:] = ztop_new[:]\n",
    "    #populate 8 row array with calc'ed value\n",
    "    layer_z_values[i-1] = r4_bestfit.profile__z[-1, :]-ztop\n",
    "    \n",
    "for i in range(1, 8):\n",
    "    plotting_layer = layer_z_values[i-1]\n",
    "    for j in range(i, 8):\n",
    "        plotting_layer[plotting_layer > layer_z_values[j, :]] = layer_z_values[j, :][plotting_layer > layer_z_values[j, :]]\n",
    "    r41.plot(r4_bestfit.x, plotting_layer, linestyle = '--', color = 'k')\n",
    "    \n",
    "#plot r4 misfit\n",
    "\n",
    "#truncate each layer using above layers\n",
    "truncated_layer_z_values = np.zeros((7, len(r4_bestfit.profile__z[-1, :])))\n",
    "truncated_layer_thicknesses = np.zeros((7, len(r4_bestfit.profile__z[-1, :])))\n",
    "for i in range(1, 8):\n",
    "    layer = layer_z_values[i-1]\n",
    "    for j in range(i, 8):\n",
    "        layer[layer > layer_z_values[j, :]] = layer_z_values[j, :][layer > layer_z_values[j, :]]\n",
    "    truncated_layer_z_values[i - 1, :] = layer[:]\n",
    "\n",
    "truncated_layer_thicknesses[i - 1, :] = layer[:] - r4_bestfit.profile__br[-1, :]\n",
    "\n",
    "    \n",
    "\n",
    "\n",
    "mf1 = (r4_surfaces[1, :] - r4_surfaces[0, :]) - truncated_layer_thicknesses[0, :] #np.power((r8_surfaces[1, :] - r8_surfaces[0, :]) - r8_bestfit.profile__h[1, :], 2) / np.power(obs_error, 2)\n",
    "mf2 = (r4_surfaces[2, :] - r4_surfaces[0, :]) - truncated_layer_thicknesses[1, :]#np.power((r8_surfaces[2, :] - r8_surfaces[0, :]) - r8_bestfit.profile__h[2, :], 2) / np.power(obs_error, 2)\n",
    "mf3 = (r4_surfaces[3, :] - r4_surfaces[0, :]) - truncated_layer_thicknesses[2, :]#np.power((r8_surfaces[3, :] - r8_surfaces[0, :]) - r8_bestfit.profile__h[3, :], 2) / np.power(obs_error, 2)\n",
    "mf4 = (r4_surfaces[4, :] - r4_surfaces[0, :]) - truncated_layer_thicknesses[3, :]#np.power((r8_surfaces[4, :] - r8_surfaces[0, :]) - r8_bestfit.profile__h[4, :], 2) / np.power(obs_error, 2)\n",
    "mf5 = (r4_surfaces[5, :] - r4_surfaces[0, :]) - truncated_layer_thicknesses[4, :]#np.power((r8_surfaces[5, :] - r8_surfaces[0, :]) - r8_bestfit.profile__h[5, :], 2) / np.power(obs_error, 2)\n",
    "mf6 = (r4_surfaces[6, :] - r4_surfaces[0, :]) - truncated_layer_thicknesses[5, :]#np.power((r8_surfaces[6, :] - r8_surfaces[0, :]) - r8_bestfit.profile__h[6, :], 2) / np.power(obs_error, 2)\n",
    "mf7 = (r4_surfaces[7, :] - r4_surfaces[0, :]) - truncated_layer_thicknesses[6, :]#np.power((r8_surfaces[7, :] - r8_surfaces[0, :]) - r8_bestfit.profile__h[7, :], 2) / np.power(obs_error, 2)\n",
    "mf8 = r4_observed_h - r4_bestfit.profile__h[-1, :]#np.power(r8_observed_h - r8_bestfit.profile__h[-1, :], 2) / np.power(obs_error, 2)\n",
    "r4_misfit = (1 / 8) * (np.abs(mf1) + np.abs(mf2) + np.abs(mf3) + np.abs(mf4) + np.abs(mf5) + np.abs(mf6) + np.abs(mf7) + np.abs(mf8))\n",
    "    \n",
    "\n",
    "#plot r4 misfit\n",
    "r42.scatter(r4_bestfit.x, r4_misfit, facecolors = 'cornflowerblue', edgecolors='None', alpha = 0.5)\n",
    "r42.set_xlim(1380000, 0)\n",
    "#r42.set_ylim(0, max(r4_misfit))\n",
    "r42.set_ylabel('Mean' + '\\n' +'misfit' + '\\n' + '[m]')\n",
    "#r42.set_yticks(np.array([0, 5]))\n",
    "#r42.get_xaxis().set_ticks([])\n",
    "labels = ['0', '200', '400', '600', '800', '1000', '1200', '1400']\n",
    "xticks = np.array([0, 200, 400, 600, 800, 1000, 1200, 1400])\n",
    "r42.set_xticklabels(xticks)"
   ]
  },
  {
   "cell_type": "code",
   "execution_count": null,
   "metadata": {},
   "outputs": [],
   "source": []
  },
  {
   "cell_type": "code",
   "execution_count": null,
   "metadata": {},
   "outputs": [],
   "source": []
  },
  {
   "cell_type": "code",
   "execution_count": 22,
   "metadata": {},
   "outputs": [
    {
     "data": {
      "text/plain": [
       "Text(0, 0.5, 'Elevation [m]')"
      ]
     },
     "execution_count": 22,
     "metadata": {},
     "output_type": "execute_result"
    }
   ],
   "source": [
    "##R3 FIGURE\n",
    "\n",
    "#plot r3 best fit\n",
    "r31.plot(r3_bestfit.x, r3_bestfit.profile__br[-1, :], color = 'gray', linewidth = 1, zorder = 5)\n",
    "for i in range(1,8):\n",
    "    r31.plot(r3_bestfit.x, r3_surfaces[i, :], color = 'gray', linewidth = 1)\n",
    "    \n",
    "r31.fill_between(r3_bestfit.x, min(r3_bestfit.profile__br[-1, :]), r3_bestfit.profile__br[-1, :], color = (212/255, 212/255, 212/255))\n",
    "r31.fill_between(r3_bestfit.x, r3_surfaces[0, :], r3_surfaces[1, :], color = (109/255, 145/255, 111/255))\n",
    "r31.fill_between(r3_bestfit.x, r3_surfaces[1, :], r3_surfaces[2, :], color = (172/255, 193/255, 173/255))\n",
    "r31.fill_between(r3_bestfit.x, r3_surfaces[2, :], r3_surfaces[3, :], color = (216/255, 233/255, 189/255), label = 'observed stratigraphy')\n",
    "r31.fill_between(r3_bestfit.x, r3_surfaces[3, :], r3_surfaces[4, :], color = (190/255, 220/255, 137/255))\n",
    "r31.fill_between(r3_bestfit.x, r3_surfaces[4, :], r3_surfaces[5, :], color = (247/255, 244/255, 181/255))\n",
    "r31.fill_between(r3_bestfit.x, r3_surfaces[5, :], r3_surfaces[6, :], color = (250/255, 193/255, 161/255))\n",
    "r31.fill_between(r3_bestfit.x, r3_surfaces[6, :], r3_surfaces[7, :], color = (254/255, 238/255, 137/255))\n",
    "r31.fill_between(r3_bestfit.x, r3_surfaces[7, :], r3_surfaces[8, :], color = (254/255, 251/255, 217/255))\n",
    "\n",
    "r31.plot(r3_bestfit.x, r3_top_surface[:], color = 'gray', linewidth = 1)\n",
    "r31.plot(r3_bestfit.x, r3_bestfit.profile__z[-1, :], color = 'k', linewidth = 3, linestyle='-', zorder = 6, label = 'modeled modern surface')\n",
    "#r31.legend(handlelength=3)\n",
    "r31.set_xlim(1260000, 0)\n",
    "r31.set_ylim(min(r3_bestfit.profile__br[-1, :]), 0)\n",
    "r31.set_yticks(np.array([0, -2500, -5000, -7500]))\n",
    "r31.get_xaxis().set_ticks([])\n",
    "r31.set_ylabel('Elevation [m]')\n",
    "\n",
    "#r31.text(1270000,-4500, 'southern section')"
   ]
  },
  {
   "cell_type": "code",
   "execution_count": 23,
   "metadata": {},
   "outputs": [
    {
     "data": {
      "text/plain": [
       "Text(0.3, 0.7, '3) VE=19.11x, $\\\\mu=$109.35')"
      ]
     },
     "execution_count": 23,
     "metadata": {},
     "output_type": "execute_result"
    }
   ],
   "source": [
    "#calculate vertical exag\n",
    "\n",
    "box = r31.get_window_extent()\n",
    "dpi = fig.dpi\n",
    "\n",
    "height_inches = box.height/dpi\n",
    "width_inches = box.width/dpi\n",
    "\n",
    "height_m = np.abs(r31.get_ylim()[0] - r31.get_ylim()[1])\n",
    "width_m = np.abs(r31.get_xlim()[0] - r31.get_xlim()[1])\n",
    "\n",
    "ve = (height_inches / height_m) / (width_inches / width_m)\n",
    "\n",
    "#print section number and VE on plot\n",
    "r31.text(0.3, 0.7, '3) VE=' + str(round(ve, 2)) + 'x, $\\mu=$' + str(round(r3_min_misfit, 2)), fontsize=16, transform=r31.transAxes, bbox=dict(linewidth = 1, facecolor='white'))\n",
    "\n",
    "\n"
   ]
  },
  {
   "cell_type": "code",
   "execution_count": 24,
   "metadata": {},
   "outputs": [
    {
     "name": "stdout",
     "output_type": "stream",
     "text": [
      "1\n",
      "2\n",
      "3\n",
      "4\n",
      "5\n",
      "6\n",
      "7\n"
     ]
    },
    {
     "name": "stderr",
     "output_type": "stream",
     "text": [
      "//anaconda3/envs/charlie-env-2/lib/python3.7/site-packages/ipykernel_launcher.py:84: UserWarning: FixedFormatter should only be used together with FixedLocator\n"
     ]
    },
    {
     "data": {
      "text/plain": [
       "Text(0, 0.5, 'Mean\\nmisfit\\n[m]')"
      ]
     },
     "execution_count": 24,
     "metadata": {},
     "output_type": "execute_result"
    }
   ],
   "source": [
    "\n",
    "\n",
    "#CALCULATE POSITION OF REMAINING LAYERS; PLOT. #DEFORM THE MODELED LAYERS, NOT THE DATA\n",
    "phi = 0.56\n",
    "z_star = 2830.\n",
    "dx = 10000.\n",
    "\n",
    "layer_starts = [0, 17000000, 30000000, 36000000, 49000000, 64000000, 100000000, 119000000]\n",
    "layer_z_values = np.zeros((8, len(r3_bestfit.profile__z[-1, :])))\n",
    "layer_z_values[-1, :] = r3_bestfit.profile__z[-1, :]\n",
    "for i in range(1, 8):\n",
    "    print(i)\n",
    "    #mass from basement to top of U8\n",
    "    depth_top = np.array(r3_bestfit.profile__z[-1, :]-r3_bestfit.profile__br[-1, :]) #depth to bedrock\n",
    "    depth_bottom = np.array(r3_bestfit.profile__br[-1, :]-r3_bestfit.profile__br[-1, :]) #depth to bedrock\n",
    "\n",
    "    integral_top = phi * z_star * np.exp(-depth_top/z_star) + depth_top\n",
    "    integral_bottom = phi * z_star * np.exp(-depth_bottom/z_star) + depth_bottom\n",
    "\n",
    "    M8 = (integral_top - integral_bottom)\n",
    "\n",
    "    #mass from basement to top of U7\n",
    "    depth_top = np.array(r3_bestfit.profile__z[i, :]-r3_bestfit.profile__br[i, :]) #depth to bedrock\n",
    "    depth_bottom = np.array(r3_bestfit.profile__br[i, :]-r3_bestfit.profile__br[i, :]) #depth to bedrock\n",
    "\n",
    "\n",
    "    integral_top = phi * z_star * np.exp(-depth_top/z_star) + depth_top\n",
    "    integral_bottom = phi * z_star * np.exp(-depth_bottom/z_star) + depth_bottom\n",
    "\n",
    "\n",
    "    M7 = (integral_top - integral_bottom)\n",
    "\n",
    "    m_over = M8 - M7\n",
    "    m_over[m_over < 0] = 0\n",
    "\n",
    "    #starting with layer U7 (U8 is known b/c it's the modern):\n",
    "    tolerance = 1.\n",
    "    diff = np.repeat(10., len(r3_top_surface))\n",
    "    ztop = np.zeros(len(r3_top_surface))\n",
    "    ztop[:] = np.repeat(0., len(r3_top_surface))#r8_bestfit.profile__z[-1, :] - r8_bestfit.profile__z[i, :]#np.repeat(0., len(r8_top_surface)) #initial guess for DEPTH OF THE TOP OF THE LAYER\n",
    "\n",
    "    while np.any(diff > tolerance):\n",
    "        ztop_new = ztop - ((ztop - z_star * phi * (1-np.exp(-ztop/z_star)) - m_over) / (1 - phi * np.exp(-ztop/z_star)))\n",
    "        diff[:] = np.abs(ztop_new - ztop) \n",
    "        ztop[:] = ztop_new[:]\n",
    "    #populate 8 row array with calc'ed value\n",
    "    layer_z_values[i-1] = r3_bestfit.profile__z[-1, :]-ztop\n",
    "    \n",
    "for i in range(1, 8):\n",
    "    plotting_layer = layer_z_values[i-1]\n",
    "    for j in range(i, 8):\n",
    "        plotting_layer[plotting_layer > layer_z_values[j, :]] = layer_z_values[j, :][plotting_layer > layer_z_values[j, :]]\n",
    "    r31.plot(r3_bestfit.x, plotting_layer, linestyle = '--', color = 'k')\n",
    "    \n",
    "#plot r3 misfit\n",
    "\n",
    "#truncate each layer using above layers\n",
    "truncated_layer_z_values = np.zeros((7, len(r3_bestfit.profile__z[-1, :])))\n",
    "truncated_layer_thicknesses = np.zeros((7, len(r3_bestfit.profile__z[-1, :])))\n",
    "for i in range(1, 8):\n",
    "    layer = layer_z_values[i-1]\n",
    "    for j in range(i, 8):\n",
    "        layer[layer > layer_z_values[j, :]] = layer_z_values[j, :][layer > layer_z_values[j, :]]\n",
    "    truncated_layer_z_values[i - 1, :] = layer[:]\n",
    "\n",
    "truncated_layer_thicknesses[i - 1, :] = layer[:] - r3_bestfit.profile__br[-1, :]\n",
    "\n",
    "    \n",
    "\n",
    "\n",
    "mf1 = (r3_surfaces[1, :] - r3_surfaces[0, :]) - truncated_layer_thicknesses[0, :] #np.power((r8_surfaces[1, :] - r8_surfaces[0, :]) - r8_bestfit.profile__h[1, :], 2) / np.power(obs_error, 2)\n",
    "mf2 = (r3_surfaces[2, :] - r3_surfaces[0, :]) - truncated_layer_thicknesses[1, :]#np.power((r8_surfaces[2, :] - r8_surfaces[0, :]) - r8_bestfit.profile__h[2, :], 2) / np.power(obs_error, 2)\n",
    "mf3 = (r3_surfaces[3, :] - r3_surfaces[0, :]) - truncated_layer_thicknesses[2, :]#np.power((r8_surfaces[3, :] - r8_surfaces[0, :]) - r8_bestfit.profile__h[3, :], 2) / np.power(obs_error, 2)\n",
    "mf4 = (r3_surfaces[4, :] - r3_surfaces[0, :]) - truncated_layer_thicknesses[3, :]#np.power((r8_surfaces[4, :] - r8_surfaces[0, :]) - r8_bestfit.profile__h[4, :], 2) / np.power(obs_error, 2)\n",
    "mf5 = (r3_surfaces[5, :] - r3_surfaces[0, :]) - truncated_layer_thicknesses[4, :]#np.power((r8_surfaces[5, :] - r8_surfaces[0, :]) - r8_bestfit.profile__h[5, :], 2) / np.power(obs_error, 2)\n",
    "mf6 = (r3_surfaces[6, :] - r3_surfaces[0, :]) - truncated_layer_thicknesses[5, :]#np.power((r8_surfaces[6, :] - r8_surfaces[0, :]) - r8_bestfit.profile__h[6, :], 2) / np.power(obs_error, 2)\n",
    "mf7 = (r3_surfaces[7, :] - r3_surfaces[0, :]) - truncated_layer_thicknesses[6, :]#np.power((r8_surfaces[7, :] - r8_surfaces[0, :]) - r8_bestfit.profile__h[7, :], 2) / np.power(obs_error, 2)\n",
    "mf8 = r3_observed_h - r3_bestfit.profile__h[-1, :]#np.power(r8_observed_h - r8_bestfit.profile__h[-1, :], 2) / np.power(obs_error, 2)\n",
    "r3_misfit = (1 / 8) * (np.abs(mf1) + np.abs(mf2) + np.abs(mf3) + np.abs(mf4) + np.abs(mf5) + np.abs(mf6) + np.abs(mf7) + np.abs(mf8))\n",
    "    \n",
    "r32.scatter(r3_bestfit.x, r3_misfit, facecolors = 'cornflowerblue', edgecolors='None', alpha = 0.5)\n",
    "r32.set_xlim(1260000, 0)\n",
    "\n",
    "labels = ['0', '200', '400', '600', '800', '1000', '1200']\n",
    "xticks = np.array([0, 200, 400, 600, 800, 1000, 1200])\n",
    "r32.set_xticklabels(xticks)\n",
    "#r32.set_yticks(np.array([0, 5]))\n",
    "#r32.set_xlabel('Distance [km]')\n",
    "r32.set_ylabel('Mean' + '\\n' +'misfit' + '\\n' + '[m]')"
   ]
  },
  {
   "cell_type": "code",
   "execution_count": null,
   "metadata": {},
   "outputs": [],
   "source": []
  },
  {
   "cell_type": "code",
   "execution_count": 25,
   "metadata": {},
   "outputs": [
    {
     "name": "stdout",
     "output_type": "stream",
     "text": [
      "1\n",
      "2\n",
      "3\n",
      "4\n",
      "5\n",
      "6\n",
      "7\n"
     ]
    },
    {
     "name": "stderr",
     "output_type": "stream",
     "text": [
      "//anaconda3/envs/charlie-env-2/lib/python3.7/site-packages/ipykernel_launcher.py:135: UserWarning: FixedFormatter should only be used together with FixedLocator\n"
     ]
    },
    {
     "data": {
      "text/plain": [
       "[Text(0.0, 0, '0'),\n",
       " Text(250000.0, 0, '250'),\n",
       " Text(500000.0, 0, '500'),\n",
       " Text(750000.0, 0, '750'),\n",
       " Text(1000000.0, 0, '1000'),\n",
       " Text(1250000.0, 0, '1250'),\n",
       " Text(1500000.0, 0, '1500'),\n",
       " Text(1750000.0, 0, '1750'),\n",
       " Text(2000000.0, 0, '')]"
      ]
     },
     "execution_count": 25,
     "metadata": {},
     "output_type": "execute_result"
    }
   ],
   "source": [
    "###R1 FIGURE\n",
    "\n",
    "#plot r1 best fit\n",
    "r11.plot(r1_bestfit.x, r1_bestfit.profile__br[-1, :], color = 'gray', linewidth = 1, zorder = 11)\n",
    "for i in range(1,8):\n",
    "    #if (i == 1) or (i == 2): #first two need to be cut off at ~600 km\n",
    "    #    r11.plot(r1_bestfit.x[:53], r1_surfaces[i, :53], color = 'gray', linewidth = 1)\n",
    "    #else:\n",
    "    r11.plot(r1_bestfit.x, r1_surfaces[i, :], color = 'gray', linewidth = 1)\n",
    "    \n",
    "r11.fill_between(r1_bestfit.x, min(r1_bestfit.profile__br[-1, :]), r1_bestfit.profile__br[-1, :], color = (212/255, 212/255, 212/255), zorder = 10)\n",
    "r11.fill_between(r1_bestfit.x, r1_surfaces[0, :], r1_surfaces[1, :], color = (109/255, 145/255, 111/255))\n",
    "r11.fill_between(r1_bestfit.x, r1_surfaces[1, :], r1_surfaces[2, :], color = (172/255, 193/255, 173/255))\n",
    "r11.fill_between(r1_bestfit.x, r1_surfaces[2, :], r1_surfaces[3, :], color = (216/255, 233/255, 189/255), label = 'observed stratigraphy')\n",
    "r11.fill_between(r1_bestfit.x, r1_surfaces[3, :], r1_surfaces[4, :], color = (190/255, 220/255, 137/255))\n",
    "r11.fill_between(r1_bestfit.x, r1_surfaces[4, :], r1_surfaces[5, :], color = (247/255, 244/255, 181/255))\n",
    "r11.fill_between(r1_bestfit.x, r1_surfaces[5, :], r1_surfaces[6, :], color = (250/255, 193/255, 161/255))\n",
    "r11.fill_between(r1_bestfit.x, r1_surfaces[6, :], r1_surfaces[7, :], color = (254/255, 238/255, 137/255))\n",
    "r11.fill_between(r1_bestfit.x, r1_surfaces[7, :], r1_surfaces[8, :], color = (254/255, 251/255, 217/255))\n",
    "\n",
    "r11.plot(r1_bestfit.x, r1_top_surface[:], color = 'gray', linewidth = 1)\n",
    "r11.plot(r1_bestfit.x, r1_bestfit.profile__z[-1, :], color = 'k', linewidth = 3, linestyle='-', zorder = 6, label = 'modeled modern surface')\n",
    "#r11.legend(handlelength=3)\n",
    "\n",
    "r11.set_xlim(1920000, 0)\n",
    "r11.set_ylim(min(r1_bestfit.profile__br[-1, :]), 0)\n",
    "\n",
    "r11.set_yticks(np.array([-5000, -2500, 0]))\n",
    "\n",
    "r11.get_xaxis().set_ticks([])\n",
    "r11.set_ylabel('Elevation [m]')\n",
    "\n",
    "#r11.text(730000,-3500, 'northern section')\n",
    "\n",
    "#labels = ['0', '200', '400', '600', '800', '1000', '1200', '1400']\n",
    "#xticks = np.array([0, 200, 400, 600, 800, 1000, 1200, 1400])\n",
    "#r52.set_xticklabels(xticks)\n",
    "#r52.get_xaxis().set_ticks([])\n",
    "\n",
    "#CALCULATE POSITION OF REMAINING LAYERS; PLOT. #DEFORM THE MODELED LAYERS, NOT THE DATA\n",
    "phi = 0.56\n",
    "z_star = 2830.\n",
    "dx = 10000.\n",
    "\n",
    "layer_starts = [0, 17000000, 30000000, 36000000, 49000000, 64000000, 100000000, 119000000]\n",
    "layer_z_values = np.zeros((8, len(r1_bestfit.profile__z[-1, :])))\n",
    "layer_z_values[-1, :] = r1_bestfit.profile__z[-1, :]\n",
    "for i in range(1, 8):\n",
    "    print(i)\n",
    "    #mass from basement to top of U8\n",
    "    depth_top = np.array(r1_bestfit.profile__z[-1, :]-r1_bestfit.profile__br[-1, :]) #depth to bedrock\n",
    "    depth_bottom = np.array(r1_bestfit.profile__br[-1, :]-r1_bestfit.profile__br[-1, :]) #depth to bedrock\n",
    "\n",
    "    integral_top = phi * z_star * np.exp(-depth_top/z_star) + depth_top\n",
    "    integral_bottom = phi * z_star * np.exp(-depth_bottom/z_star) + depth_bottom\n",
    "\n",
    "    M8 = (integral_top - integral_bottom)\n",
    "\n",
    "    #mass from basement to top of U7\n",
    "    depth_top = np.array(r1_bestfit.profile__z[i, :]-r1_bestfit.profile__br[i, :]) #depth to bedrock\n",
    "    depth_bottom = np.array(r1_bestfit.profile__br[i, :]-r1_bestfit.profile__br[i, :]) #depth to bedrock\n",
    "\n",
    "\n",
    "    integral_top = phi * z_star * np.exp(-depth_top/z_star) + depth_top\n",
    "    integral_bottom = phi * z_star * np.exp(-depth_bottom/z_star) + depth_bottom\n",
    "\n",
    "\n",
    "    M7 = (integral_top - integral_bottom)\n",
    "\n",
    "    m_over = M8 - M7\n",
    "    m_over[m_over < 0] = 0\n",
    "\n",
    "    #starting with layer U7 (U8 is known b/c it's the modern):\n",
    "    tolerance = 1.\n",
    "    diff = np.repeat(10., len(r1_top_surface))\n",
    "    ztop = np.zeros(len(r1_top_surface))\n",
    "    ztop[:] = np.repeat(0., len(r1_top_surface))#r8_bestfit.profile__z[-1, :] - r8_bestfit.profile__z[i, :]#np.repeat(0., len(r8_top_surface)) #initial guess for DEPTH OF THE TOP OF THE LAYER\n",
    "\n",
    "    while np.any(diff > tolerance):\n",
    "        ztop_new = ztop - ((ztop - z_star * phi * (1-np.exp(-ztop/z_star)) - m_over) / (1 - phi * np.exp(-ztop/z_star)))\n",
    "        diff[:] = np.abs(ztop_new - ztop) \n",
    "        ztop[:] = ztop_new[:]\n",
    "    #populate 8 row array with calc'ed value\n",
    "    layer_z_values[i-1] = r1_bestfit.profile__z[-1, :]-ztop\n",
    "    \n",
    "for i in range(1, 8):\n",
    "    plotting_layer = layer_z_values[i-1]\n",
    "    for j in range(i, 8):\n",
    "        plotting_layer[plotting_layer > layer_z_values[j, :]] = layer_z_values[j, :][plotting_layer > layer_z_values[j, :]]\n",
    "    r11.plot(r1_bestfit.x, plotting_layer, linestyle = '--', color = 'k')\n",
    "    \n",
    "#next line is a duplicate plotting statement used only to put a single label in the legend\n",
    "r11.plot(r1_bestfit.x, r1_bestfit.profile__z[-1, :]-ztop, linestyle = '--', color = 'k', label = 'modeled reflectors')\n",
    "r11.legend(handlelength=3)\n",
    "\n",
    "#r1 misfit plot\n",
    "\n",
    "#plot r1 misfit\n",
    "\n",
    "#truncate each layer using above layers\n",
    "truncated_layer_z_values = np.zeros((7, len(r1_bestfit.profile__z[-1, :])))\n",
    "truncated_layer_thicknesses = np.zeros((7, len(r1_bestfit.profile__z[-1, :])))\n",
    "for i in range(1, 8):\n",
    "    layer = layer_z_values[i-1]\n",
    "    for j in range(i, 8):\n",
    "        layer[layer > layer_z_values[j, :]] = layer_z_values[j, :][layer > layer_z_values[j, :]]\n",
    "    truncated_layer_z_values[i - 1, :] = layer[:]\n",
    "\n",
    "truncated_layer_thicknesses[i - 1, :] = layer[:] - r1_bestfit.profile__br[-1, :]\n",
    "\n",
    "    \n",
    "    \n",
    "#print(r1_surfaces[1, :])\n",
    "#print(r1_surfaces[0, :])\n",
    "#print(truncated_layer_depths[0, :])\n",
    "\n",
    "mf1 = (r1_surfaces[1, :] - r1_surfaces[0, :]) - truncated_layer_thicknesses[0, :] #np.power((r8_surfaces[1, :] - r8_surfaces[0, :]) - r8_bestfit.profile__h[1, :], 2) / np.power(obs_error, 2)\n",
    "mf2 = (r1_surfaces[2, :] - r1_surfaces[0, :]) - truncated_layer_thicknesses[1, :]#np.power((r8_surfaces[2, :] - r8_surfaces[0, :]) - r8_bestfit.profile__h[2, :], 2) / np.power(obs_error, 2)\n",
    "mf3 = (r1_surfaces[3, :] - r1_surfaces[0, :]) - truncated_layer_thicknesses[2, :]#np.power((r8_surfaces[3, :] - r8_surfaces[0, :]) - r8_bestfit.profile__h[3, :], 2) / np.power(obs_error, 2)\n",
    "mf4 = (r1_surfaces[4, :] - r1_surfaces[0, :]) - truncated_layer_thicknesses[3, :]#np.power((r8_surfaces[4, :] - r8_surfaces[0, :]) - r8_bestfit.profile__h[4, :], 2) / np.power(obs_error, 2)\n",
    "mf5 = (r1_surfaces[5, :] - r1_surfaces[0, :]) - truncated_layer_thicknesses[4, :]#np.power((r8_surfaces[5, :] - r8_surfaces[0, :]) - r8_bestfit.profile__h[5, :], 2) / np.power(obs_error, 2)\n",
    "mf6 = (r1_surfaces[6, :] - r1_surfaces[0, :]) - truncated_layer_thicknesses[5, :]#np.power((r8_surfaces[6, :] - r8_surfaces[0, :]) - r8_bestfit.profile__h[6, :], 2) / np.power(obs_error, 2)\n",
    "mf7 = (r1_surfaces[7, :] - r1_surfaces[0, :]) - truncated_layer_thicknesses[6, :]#np.power((r8_surfaces[7, :] - r8_surfaces[0, :]) - r8_bestfit.profile__h[7, :], 2) / np.power(obs_error, 2)\n",
    "mf8 = r1_observed_h - r1_bestfit.profile__h[-1, :]#np.power(r8_observed_h - r8_bestfit.profile__h[-1, :], 2) / np.power(obs_error, 2)\n",
    "r1_misfit = (1 / 8) * (np.abs(mf1) + np.abs(mf2) + np.abs(mf3) + np.abs(mf4) + np.abs(mf5) + np.abs(mf6) + np.abs(mf7) + np.abs(mf8))\n",
    "    \n",
    "r12.scatter(r1_bestfit.x, r1_misfit, facecolors = 'cornflowerblue', edgecolors='None', alpha = 0.5)\n",
    "r12.set_xlim(1920000, 0)\n",
    "#r12.set_yticks(np.array([0, 5]))\n",
    "r12.set_xlabel('Distance [km]')\n",
    "r12.set_ylabel('Mean' + '\\n' +'misfit' + '\\n' + '[m]')\n",
    "\n",
    "labels = ['0', '250', '500', '750', '1000', '1250', '1500', '1750']\n",
    "xticks = np.array([0, 250, 500, 750, 1000, 1250, 1500, 1750])\n",
    "r12.set_xticklabels(xticks)\n",
    "\n"
   ]
  },
  {
   "cell_type": "code",
   "execution_count": null,
   "metadata": {},
   "outputs": [],
   "source": []
  },
  {
   "cell_type": "code",
   "execution_count": 26,
   "metadata": {},
   "outputs": [
    {
     "data": {
      "text/plain": [
       "[<matplotlib.lines.Line2D at 0x11e0dfa50>]"
      ]
     },
     "execution_count": 26,
     "metadata": {},
     "output_type": "execute_result"
    },
    {
     "data": {
      "image/png": "[encoded data removed]",
      "text/plain": [
       "<Figure size 432x288 with 1 Axes>"
      ]
     },
     "metadata": {
      "needs_background": "light"
     },
     "output_type": "display_data"
    }
   ],
   "source": [
    "plt.plot(r1_bestfit.x, np.abs(mf1))\n",
    "plt.plot(r1_bestfit.x, np.abs(mf2))\n",
    "plt.plot(r1_bestfit.x, np.abs(mf3))\n",
    "plt.plot(r1_bestfit.x, np.abs(mf4))\n",
    "plt.plot(r1_bestfit.x, np.abs(mf5))\n",
    "plt.plot(r1_bestfit.x, np.abs(mf6))\n",
    "plt.plot(r1_bestfit.x, np.abs(mf7))\n",
    "plt.plot(r1_bestfit.x, np.abs(mf8), ':')"
   ]
  },
  {
   "cell_type": "code",
   "execution_count": null,
   "metadata": {},
   "outputs": [],
   "source": []
  },
  {
   "cell_type": "code",
   "execution_count": null,
   "metadata": {},
   "outputs": [],
   "source": []
  },
  {
   "cell_type": "code",
   "execution_count": 27,
   "metadata": {},
   "outputs": [
    {
     "data": {
      "text/plain": [
       "Text(0.3, 0.7, '1) VE=38.0x, $\\\\mu=$86.13')"
      ]
     },
     "execution_count": 27,
     "metadata": {},
     "output_type": "execute_result"
    }
   ],
   "source": [
    "#calculate vertical exag\n",
    "\n",
    "box = r11.get_window_extent()\n",
    "dpi = fig.dpi\n",
    "\n",
    "height_inches = box.height/dpi\n",
    "width_inches = box.width/dpi\n",
    "\n",
    "height_m = np.abs(r11.get_ylim()[0] - r11.get_ylim()[1])\n",
    "width_m = np.abs(r11.get_xlim()[0] - r11.get_xlim()[1])\n",
    "\n",
    "ve = (height_inches / height_m) / (width_inches / width_m)\n",
    "\n",
    "#print section number and VE on plot\n",
    "r11.text(0.3, 0.7, '1) VE=' + str(round(ve, 2)) + 'x, $\\mu=$' + str(round(r1_min_misfit, 2)), fontsize=16, transform=r11.transAxes, bbox=dict(linewidth = 1, facecolor='white'))\n",
    "\n",
    "\n"
   ]
  },
  {
   "cell_type": "code",
   "execution_count": 28,
   "metadata": {},
   "outputs": [],
   "source": [
    "fig.savefig('all_misfit_layers_ldml2_rev1.png', dpi=1000, bbox_inches='tight')"
   ]
  },
  {
   "cell_type": "code",
   "execution_count": null,
   "metadata": {
    "tags": []
   },
   "outputs": [],
   "source": []
  },
  {
   "cell_type": "code",
   "execution_count": null,
   "metadata": {},
   "outputs": [],
   "source": []
  },
  {
   "cell_type": "code",
   "execution_count": null,
   "metadata": {},
   "outputs": [],
   "source": []
  },
  {
   "cell_type": "code",
   "execution_count": null,
   "metadata": {},
   "outputs": [],
   "source": []
  },
  {
   "cell_type": "code",
   "execution_count": null,
   "metadata": {},
   "outputs": [],
   "source": []
  },
  {
   "cell_type": "code",
   "execution_count": null,
   "metadata": {},
   "outputs": [],
   "source": []
  }
 ],
 "metadata": {
  "kernelspec": {
   "display_name": "charlie-env-2",
   "language": "python",
   "name": "charlie-env-2"
  },
  "language_info": {
   "codemirror_mode": {
    "name": "ipython",
    "version": 3
   },
   "file_extension": ".py",
   "mimetype": "text/x-python",
   "name": "python",
   "nbconvert_exporter": "python",
   "pygments_lexer": "ipython3",
   "version": "3.7.7"
  }
 },
 "nbformat": 4,
 "nbformat_minor": 4
}
