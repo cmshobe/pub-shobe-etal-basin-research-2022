{
 "cells": [
  {
   "cell_type": "markdown",
   "id": "a3d1f94e-2aac-44f3-b6d5-0e4060ea65ca",
   "metadata": {},
   "source": [
    "Make two plots: one of surface-only misfit compared between methods and one of multilayer misfit compared between methods"
   ]
  },
  {
   "cell_type": "code",
   "execution_count": 2,
   "id": "8e4f432e-cf76-452d-ac1c-df349557b23e",
   "metadata": {},
   "outputs": [],
   "source": [
    "import numpy as np\n",
    "from numpy import genfromtxt\n",
    "import matplotlib.pyplot as plt\n",
    "plt.rcParams.update({'font.size': 22})\n"
   ]
  },
  {
   "cell_type": "code",
   "execution_count": 3,
   "id": "494a8bfd-ee2f-4eb9-bcc3-7f5a9a98d6f2",
   "metadata": {},
   "outputs": [],
   "source": [
    "#nonlinear, multilayer model\n",
    "nl_ml_model_number_R1 = 'ml2'\n",
    "nl_ml_model_number_R3 = 'ml2'\n",
    "nl_ml_model_number_R4 = 'ml2'\n",
    "nl_ml_model_number_R5 = 'ml2'\n",
    "nl_ml_model_number_R6 = 'ml2'\n",
    "nl_ml_model_number_R7 = 'ml2'\n",
    "nl_ml_model_number_R8 = 'ml2'\n",
    "\n",
    "#nonlinear, surface-only model\n",
    "nl_model_number_R1 = '002'\n",
    "nl_model_number_R3 = '000'\n",
    "nl_model_number_R4 = '000'\n",
    "nl_model_number_R5 = '000'\n",
    "nl_model_number_R6 = '000'\n",
    "nl_model_number_R7 = '002'\n",
    "nl_model_number_R8 = '001'\n",
    "\n",
    "#linear, multilayer model\n",
    "ld_ml_model_number_R1 = 'ldml2'\n",
    "ld_ml_model_number_R3 = 'ldml2'\n",
    "ld_ml_model_number_R4 = 'ldml2'\n",
    "ld_ml_model_number_R5 = 'ldml2'\n",
    "ld_ml_model_number_R6 = 'ldml2'\n",
    "ld_ml_model_number_R7 = 'ldml2'\n",
    "ld_ml_model_number_R8 = 'ldml2'\n",
    "\n",
    "#linear, surface-only model\n",
    "ld_model_number_R1 = 'ld8'\n",
    "ld_model_number_R3 = 'ld8'\n",
    "ld_model_number_R4 = 'ld8'\n",
    "ld_model_number_R5 = 'ld8'\n",
    "ld_model_number_R6 = 'ld8'\n",
    "ld_model_number_R7 = 'ld8'\n",
    "ld_model_number_R8 = 'ld8'"
   ]
  },
  {
   "cell_type": "code",
   "execution_count": 4,
   "id": "fdff2f8b-6a4f-4092-adce-9ba3e330eb53",
   "metadata": {},
   "outputs": [],
   "source": [
    "#NONLINEAR MULTILAYER: import data from each one\n",
    "#import r1 results\n",
    "nl_ml_r1_all_params = genfromtxt('../orange_section_R1/step2_params/all_params_' + nl_ml_model_number_R1 + '.csv', delimiter=',')\n",
    "nl_ml_r1_all_output=nl_ml_r1_all_params[nl_ml_r1_all_params[:,-1].argsort()] #sort by misfit from best to worst fit\n",
    "\n",
    "#import r3 results\n",
    "nl_ml_r3_all_params = genfromtxt('../orange_section_R3/step2_params/all_params_' + nl_ml_model_number_R3 + '.csv', delimiter=',')\n",
    "nl_ml_r3_all_output=nl_ml_r3_all_params[nl_ml_r3_all_params[:,-1].argsort()] #sort by misfit\n",
    "\n",
    "#import r4 results\n",
    "nl_ml_r4_all_params = genfromtxt('../orange_section_R4/step2_params/all_params_' + nl_ml_model_number_R4 + '.csv', delimiter=',')\n",
    "nl_ml_r4_all_output=nl_ml_r4_all_params[nl_ml_r4_all_params[:,-1].argsort()] #sort by misfit from best to worst fit\n",
    "\n",
    "#import r5 results\n",
    "nl_ml_r5_all_params = genfromtxt('../orange_section_R5/step2_params/all_params_' + nl_ml_model_number_R5 + '.csv', delimiter=',')\n",
    "nl_ml_r5_all_output=nl_ml_r5_all_params[nl_ml_r5_all_params[:,-1].argsort()] #sort by misfit\n",
    "\n",
    "#import r6 results\n",
    "nl_ml_r6_all_params = genfromtxt('../orange_section_r6/step2_params/all_params_' + nl_ml_model_number_R6 + '.csv', delimiter=',')\n",
    "nl_ml_r6_all_output=nl_ml_r6_all_params[nl_ml_r6_all_params[:,-1].argsort()] #sort by misfit\n",
    "\n",
    "#import r7 results\n",
    "nl_ml_r7_all_params = genfromtxt('../orange_section_R7/step2_params/all_params_' + nl_ml_model_number_R7 + '.csv', delimiter=',')\n",
    "nl_ml_r7_all_output=nl_ml_r7_all_params[nl_ml_r7_all_params[:,-1].argsort()] #sort by misfit\n",
    "\n",
    "#import r8 results\n",
    "nl_ml_r8_all_params = genfromtxt('../orange_section_R8/step2_params/all_params_' + nl_ml_model_number_R8 + '.csv', delimiter=',')\n",
    "nl_ml_r8_all_output=nl_ml_r8_all_params[nl_ml_r8_all_params[:,-1].argsort()] #sort by misfit"
   ]
  },
  {
   "cell_type": "code",
   "execution_count": null,
   "id": "9d737d54-10d7-49cb-b4cd-32cbfafc0fb9",
   "metadata": {},
   "outputs": [],
   "source": []
  },
  {
   "cell_type": "code",
   "execution_count": 5,
   "id": "6e0bd451-d397-47b6-afc7-ef174eaa93fa",
   "metadata": {},
   "outputs": [],
   "source": [
    "#NONLINEAR SURFACE-ONLY: import data from each one\n",
    "#import r1 results\n",
    "nl_r1_all_params = genfromtxt('../orange_section_R1/step2_params/all_params_' + nl_model_number_R1 + '.csv', delimiter=',')\n",
    "nl_r1_all_output=nl_r1_all_params[nl_r1_all_params[:,-1].argsort()] #sort by misfit from best to worst fit\n",
    "\n",
    "#import r3 results\n",
    "nl_r3_all_params = genfromtxt('../orange_section_R3/step2_params/all_params_' + nl_model_number_R3 + '.csv', delimiter=',')\n",
    "nl_r3_all_output=nl_r3_all_params[nl_r3_all_params[:,-1].argsort()] #sort by misfit\n",
    "\n",
    "#import r4 results\n",
    "nl_r4_all_params = genfromtxt('../orange_section_R4/step2_params/all_params_' + nl_model_number_R4 + '.csv', delimiter=',')\n",
    "nl_r4_all_output=nl_r4_all_params[nl_r4_all_params[:,-1].argsort()] #sort by misfit from best to worst fit\n",
    "\n",
    "#import r5 results\n",
    "nl_r5_all_params = genfromtxt('../orange_section_R5/step2_params/all_params_' + nl_model_number_R5 + '.csv', delimiter=',')\n",
    "nl_r5_all_output=nl_r5_all_params[nl_r5_all_params[:,-1].argsort()] #sort by misfit\n",
    "\n",
    "#import r6 results\n",
    "nl_r6_all_params = genfromtxt('../orange_section_r6/step2_params/all_params_' + nl_model_number_R6 + '.csv', delimiter=',')\n",
    "nl_r6_all_output=nl_r6_all_params[nl_r6_all_params[:,-1].argsort()] #sort by misfit\n",
    "\n",
    "#import r7 results\n",
    "nl_r7_all_params = genfromtxt('../orange_section_R7/step2_params/all_params_' + nl_model_number_R7 + '.csv', delimiter=',')\n",
    "nl_r7_all_output=nl_r7_all_params[nl_r7_all_params[:,-1].argsort()] #sort by misfit\n",
    "\n",
    "#import r8 results\n",
    "nl_r8_all_params = genfromtxt('../orange_section_R8/step2_params/all_params_' + nl_model_number_R8 + '.csv', delimiter=',')\n",
    "nl_r8_all_output=nl_r8_all_params[nl_r8_all_params[:,-1].argsort()] #sort by misfit"
   ]
  },
  {
   "cell_type": "code",
   "execution_count": null,
   "id": "7ff2c9f6-fe08-4b9b-be0e-3464f6fee511",
   "metadata": {},
   "outputs": [],
   "source": []
  },
  {
   "cell_type": "code",
   "execution_count": null,
   "id": "4a94e515-0c0c-4aef-8f04-9160caf37077",
   "metadata": {},
   "outputs": [],
   "source": []
  },
  {
   "cell_type": "code",
   "execution_count": null,
   "id": "458a9be5-b184-4808-8bd1-aec92ac703f3",
   "metadata": {},
   "outputs": [],
   "source": [
    "\n"
   ]
  },
  {
   "cell_type": "code",
   "execution_count": null,
   "id": "212df310-4da9-49e9-9f06-5e42bbc28431",
   "metadata": {},
   "outputs": [],
   "source": []
  },
  {
   "cell_type": "code",
   "execution_count": 6,
   "id": "e54908d3-5d09-4641-a8d2-20657ed11fbb",
   "metadata": {},
   "outputs": [],
   "source": [
    "#LINEAR MULTILAYER: import data from each one\n",
    "#import r1 results\n",
    "ld_ml_r1_all_params = genfromtxt('../orange_section_R1/step2_params/all_params_' + ld_ml_model_number_R1 + '.csv', delimiter=',')\n",
    "ld_ml_r1_all_output=ld_ml_r1_all_params[ld_ml_r1_all_params[:,-1].argsort()] #sort by misfit from best to worst fit\n",
    "\n",
    "#import r3 results\n",
    "ld_ml_r3_all_params = genfromtxt('../orange_section_R3/step2_params/all_params_' + ld_ml_model_number_R3 + '.csv', delimiter=',')\n",
    "ld_ml_r3_all_output=ld_ml_r3_all_params[ld_ml_r3_all_params[:,-1].argsort()] #sort by misfit\n",
    "\n",
    "#import r4 results\n",
    "ld_ml_r4_all_params = genfromtxt('../orange_section_R4/step2_params/all_params_' + ld_ml_model_number_R4 + '.csv', delimiter=',')\n",
    "ld_ml_r4_all_output=ld_ml_r4_all_params[ld_ml_r4_all_params[:,-1].argsort()] #sort by misfit from best to worst fit\n",
    "\n",
    "#import r5 results\n",
    "ld_ml_r5_all_params = genfromtxt('../orange_section_R5/step2_params/all_params_' + ld_ml_model_number_R5 + '.csv', delimiter=',')\n",
    "ld_ml_r5_all_output=ld_ml_r5_all_params[ld_ml_r5_all_params[:,-1].argsort()] #sort by misfit\n",
    "\n",
    "#import r6 results\n",
    "ld_ml_r6_all_params = genfromtxt('../orange_section_r6/step2_params/all_params_' + ld_ml_model_number_R6 + '.csv', delimiter=',')\n",
    "ld_ml_r6_all_output=ld_ml_r6_all_params[ld_ml_r6_all_params[:,-1].argsort()] #sort by misfit\n",
    "\n",
    "#import r7 results\n",
    "ld_ml_r7_all_params = genfromtxt('../orange_section_R7/step2_params/all_params_' + ld_ml_model_number_R7 + '.csv', delimiter=',')\n",
    "ld_ml_r7_all_output=ld_ml_r7_all_params[ld_ml_r7_all_params[:,-1].argsort()] #sort by misfit\n",
    "\n",
    "#import r8 results\n",
    "ld_ml_r8_all_params = genfromtxt('../orange_section_R8/step2_params/all_params_' + ld_ml_model_number_R8 + '.csv', delimiter=',')\n",
    "ld_ml_r8_all_output=ld_ml_r8_all_params[ld_ml_r8_all_params[:,-1].argsort()] #sort by misfit"
   ]
  },
  {
   "cell_type": "code",
   "execution_count": 7,
   "id": "0f2ba0eb-7ff8-4ba1-a8c2-4b4f4fa4070a",
   "metadata": {},
   "outputs": [],
   "source": [
    "#LINEAR SURFACE-ONLY: import data from each one\n",
    "#import r1 results\n",
    "ld_r1_all_params = genfromtxt('../orange_section_R1/step2_params/all_params_' + ld_model_number_R1 + '.csv', delimiter=',')\n",
    "ld_r1_all_output=ld_r1_all_params[ld_r1_all_params[:,-1].argsort()] #sort by misfit from best to worst fit\n",
    "\n",
    "#import r3 results\n",
    "ld_r3_all_params = genfromtxt('../orange_section_R3/step2_params/all_params_' + ld_model_number_R3 + '.csv', delimiter=',')\n",
    "ld_r3_all_output=ld_r3_all_params[ld_r3_all_params[:,-1].argsort()] #sort by misfit\n",
    "\n",
    "#import r4 results\n",
    "ld_r4_all_params = genfromtxt('../orange_section_R4/step2_params/all_params_' + ld_model_number_R4 + '.csv', delimiter=',')\n",
    "ld_r4_all_output=ld_r4_all_params[ld_r4_all_params[:,-1].argsort()] #sort by misfit from best to worst fit\n",
    "\n",
    "#import r5 results\n",
    "ld_r5_all_params = genfromtxt('../orange_section_R5/step2_params/all_params_' + ld_model_number_R5 + '.csv', delimiter=',')\n",
    "ld_r5_all_output=ld_r5_all_params[ld_r5_all_params[:,-1].argsort()] #sort by misfit\n",
    "\n",
    "#import r6 results\n",
    "ld_r6_all_params = genfromtxt('../orange_section_r6/step2_params/all_params_' + ld_model_number_R6 + '.csv', delimiter=',')\n",
    "ld_r6_all_output=ld_r6_all_params[ld_r6_all_params[:,-1].argsort()] #sort by misfit\n",
    "\n",
    "#import r7 results\n",
    "ld_r7_all_params = genfromtxt('../orange_section_R7/step2_params/all_params_' + ld_model_number_R7 + '.csv', delimiter=',')\n",
    "ld_r7_all_output=ld_r7_all_params[ld_r7_all_params[:,-1].argsort()] #sort by misfit\n",
    "\n",
    "#import r8 results\n",
    "ld_r8_all_params = genfromtxt('../orange_section_R8/step2_params/all_params_' + ld_model_number_R8 + '.csv', delimiter=',')\n",
    "ld_r8_all_output=ld_r8_all_params[ld_r8_all_params[:,-1].argsort()] #sort by misfit"
   ]
  },
  {
   "cell_type": "code",
   "execution_count": 8,
   "id": "c74fccc9-f151-4e3e-aa12-7afb6953edc2",
   "metadata": {},
   "outputs": [
    {
     "data": {
      "image/png": "[encoded data removed]",
      "text/plain": [
       "<Figure size 432x288 with 1 Axes>"
      ]
     },
     "metadata": {
      "needs_background": "light"
     },
     "output_type": "display_data"
    }
   ],
   "source": [
    "%matplotlib inline\n",
    "from matplotlib import gridspec\n",
    "#set up the figure grid\n",
    "fig = plt.figure(figsize=(6,4))\n",
    "heights = [4]\n",
    "widths = [6]\n",
    "spec = fig.add_gridspec(ncols=len(widths), nrows=len(heights), width_ratios=widths,\n",
    "                          height_ratios=heights, wspace=0.3, hspace=0.3)\n",
    "misfit = fig.add_subplot(spec[0, 0])\n",
    "\n"
   ]
  },
  {
   "cell_type": "code",
   "execution_count": null,
   "id": "8d8823e4-0647-42dc-9f10-516d0df8ad59",
   "metadata": {},
   "outputs": [],
   "source": [
    "\n"
   ]
  },
  {
   "cell_type": "code",
   "execution_count": null,
   "id": "eed1d9d2-8aa6-4ffe-8d68-e1e5f5c346e5",
   "metadata": {},
   "outputs": [],
   "source": []
  },
  {
   "cell_type": "code",
   "execution_count": 9,
   "id": "6bb2f8c5-14e5-4937-90e1-1add7b4612de",
   "metadata": {},
   "outputs": [
    {
     "data": {
      "text/plain": [
       "(0.5, 7.5)"
      ]
     },
     "execution_count": 9,
     "metadata": {},
     "output_type": "execute_result"
    }
   ],
   "source": [
    "#surface only comparison#nl_lamda.set_title('Nonlocal, nonlinear model', pad = 10)\n",
    "\n",
    "nl_misfits = np.array([nl_r1_all_output[0, -1], \n",
    "                   nl_r3_all_output[0, -1],\n",
    "                   nl_r4_all_output[0, -1],\n",
    "                   nl_r5_all_output[0, -1],\n",
    "                   nl_r6_all_output[0, -1],\n",
    "                   nl_r7_all_output[0, -1],\n",
    "                   nl_r8_all_output[0, -1]])\n",
    "\n",
    "ld_misfits = np.array([ld_r1_all_output[0, -1], \n",
    "                   ld_r3_all_output[0, -1],\n",
    "                   ld_r4_all_output[0, -1],\n",
    "                   ld_r5_all_output[0, -1],\n",
    "                   ld_r6_all_output[0, -1],\n",
    "                   ld_r7_all_output[0, -1],\n",
    "                   ld_r8_all_output[0, -1]])\n",
    "\n",
    "labels = ['1', '3', '4', '5','6', '7', '8']\n",
    "x = np.arange(1, len(labels)+1)\n",
    "width = 0.4\n",
    "#nl_lamda.text(0.03, 0.75, 'Travel' + '\\n' + 'distance [m]', fontsize = 10, transform=nl_lamda.transAxes)\n",
    "\n",
    "a = misfit.bar(x - width/2, nl_misfits, width, label='Nonlocal, nonlinear', color = '#1f78b4', edgecolor = 'k')\n",
    "b = misfit.bar(x + width/2, ld_misfits, width, label='Local, linear', color = '#a6cee3', edgecolor = 'k')\n",
    "misfit.set_ylabel('Surface-only misfit')\n",
    "#a6cee3\n",
    "misfit.set_ylabel('Misfit: modern surface only [-]')\n",
    "#misfit.set_title('Scores by group and gender')\n",
    "misfit.set_xticks(x)\n",
    "misfit.set_xticklabels(labels)\n",
    "misfit.set_xlabel('Section')\n",
    "misfit.legend(loc = 'upper center')\n",
    "misfit.set_xlim(0.5, 7.5)\n",
    "\n",
    "#a.bar_label(rects1, padding=3)\n",
    "#b.bar_label(rects2, padding=3)\n",
    "\n",
    "#fig.tight_layout()\n",
    "\n"
   ]
  },
  {
   "cell_type": "code",
   "execution_count": 10,
   "id": "4dca6fda-0fab-4aab-ac72-e594ef4b75c2",
   "metadata": {},
   "outputs": [
    {
     "data": {
      "text/plain": [
       "array([47.93801809, 46.71893119, 34.4831496 , 37.1389768 , 33.95052288,\n",
       "       47.54462679, 38.32996758])"
      ]
     },
     "execution_count": 10,
     "metadata": {},
     "output_type": "execute_result"
    }
   ],
   "source": [
    "ld_misfits"
   ]
  },
  {
   "cell_type": "code",
   "execution_count": 24,
   "id": "0950f06c-3c91-4435-b236-923c266bbe33",
   "metadata": {},
   "outputs": [],
   "source": [
    "ld_max_misfits = np.array([ld_r1_all_output[-1, -1], \n",
    "                   ld_r3_all_output[-1, -1],\n",
    "                   ld_r4_all_output[-1, -1],\n",
    "                   ld_r5_all_output[-1, -1],\n",
    "                   ld_r6_all_output[-1, -1],\n",
    "                   ld_r7_all_output[-1, -1],\n",
    "                   ld_r8_all_output[-1, -1]])"
   ]
  },
  {
   "cell_type": "code",
   "execution_count": 25,
   "id": "daa81c99-7714-471b-a2d4-49338236d8a4",
   "metadata": {},
   "outputs": [
    {
     "data": {
      "text/plain": [
       "array([114.68630398, 309.58745533, 227.98787257, 198.98501003,\n",
       "       249.42509717, 289.22286233, 254.37714851])"
      ]
     },
     "execution_count": 25,
     "metadata": {},
     "output_type": "execute_result"
    }
   ],
   "source": [
    "ld_max_misfits"
   ]
  },
  {
   "cell_type": "code",
   "execution_count": 26,
   "id": "0a799735-85b4-4e2d-9fc9-54415db80d9a",
   "metadata": {},
   "outputs": [
    {
     "data": {
      "text/plain": [
       "array([51.84309518, 17.03234781, 20.30777169, 11.0881117 , 14.11662547,\n",
       "       28.07769732, 15.48481275])"
      ]
     },
     "execution_count": 26,
     "metadata": {},
     "output_type": "execute_result"
    }
   ],
   "source": [
    "nl_misfits"
   ]
  },
  {
   "cell_type": "code",
   "execution_count": 27,
   "id": "07ffe5e9-c038-4103-8f2d-7702ad866566",
   "metadata": {},
   "outputs": [],
   "source": [
    "nl_max_misfits = np.array([nl_r1_all_output[-1, -1], \n",
    "                   nl_r3_all_output[-1, -1],\n",
    "                   nl_r4_all_output[-1, -1],\n",
    "                   nl_r5_all_output[-1, -1],\n",
    "                   nl_r6_all_output[-1, -1],\n",
    "                   nl_r7_all_output[-1, -1],\n",
    "                   nl_r8_all_output[-1, -1]])"
   ]
  },
  {
   "cell_type": "code",
   "execution_count": 28,
   "id": "fd562329-7792-4d23-95f4-871dec2f88db",
   "metadata": {},
   "outputs": [
    {
     "data": {
      "text/plain": [
       "array([ 65.16913226, 131.39578825,  78.84210385,  78.8284035 ,\n",
       "        94.91390681,  94.07727873,  92.18109537])"
      ]
     },
     "execution_count": 28,
     "metadata": {},
     "output_type": "execute_result"
    }
   ],
   "source": [
    "nl_max_misfits"
   ]
  },
  {
   "cell_type": "code",
   "execution_count": 9,
   "id": "b4f98c35-8f07-4633-962a-04fd1bc53964",
   "metadata": {},
   "outputs": [],
   "source": [
    "fig.savefig('misfit_nl_vs_ld_surface', dpi=1000, bbox_inches='tight', facecolor='white', transparent=False)"
   ]
  },
  {
   "cell_type": "code",
   "execution_count": 10,
   "id": "5ce40bf8-4f10-4134-9954-163cfc512fc6",
   "metadata": {},
   "outputs": [
    {
     "data": {
      "image/png": "[encoded data removed]",
      "text/plain": [
       "<Figure size 432x288 with 1 Axes>"
      ]
     },
     "metadata": {
      "needs_background": "light"
     },
     "output_type": "display_data"
    }
   ],
   "source": [
    "%matplotlib inline\n",
    "from matplotlib import gridspec\n",
    "#set up the figure grid\n",
    "fig1 = plt.figure(figsize=(6,4))\n",
    "heights = [4]\n",
    "widths = [6]\n",
    "spec = fig1.add_gridspec(ncols=len(widths), nrows=len(heights), width_ratios=widths,\n",
    "                          height_ratios=heights, wspace=0.3, hspace=0.3)\n",
    "misfit = fig1.add_subplot(spec[0, 0])\n",
    "\n"
   ]
  },
  {
   "cell_type": "markdown",
   "id": "4ad3afb7-72c1-4ff8-9a62-cf5fc745c7f9",
   "metadata": {},
   "source": [
    "### and now for multilayer plot!\n"
   ]
  },
  {
   "cell_type": "code",
   "execution_count": 11,
   "id": "c43bb38a-ae7b-421d-ace0-9fd191370c4f",
   "metadata": {},
   "outputs": [
    {
     "data": {
      "text/plain": [
       "(0.5, 7.5)"
      ]
     },
     "execution_count": 11,
     "metadata": {},
     "output_type": "execute_result"
    }
   ],
   "source": [
    "#multilayer comparison\n",
    "#nl_lamda.set_title('Nonlocal, nonlinear model', pad = 10)\n",
    "\n",
    "nl_ml_misfits = np.array([nl_ml_r1_all_output[0, -1], \n",
    "                   nl_ml_r3_all_output[0, -1],\n",
    "                   nl_ml_r4_all_output[0, -1],\n",
    "                   nl_ml_r5_all_output[0, -1],\n",
    "                   nl_ml_r6_all_output[0, -1],\n",
    "                   nl_ml_r7_all_output[0, -1],\n",
    "                   nl_ml_r8_all_output[0, -1]])\n",
    "\n",
    "ld_ml_misfits = np.array([ld_ml_r1_all_output[0, -1], \n",
    "                   ld_ml_r3_all_output[0, -1],\n",
    "                   ld_ml_r4_all_output[0, -1],\n",
    "                   ld_ml_r5_all_output[0, -1],\n",
    "                   ld_ml_r6_all_output[0, -1],\n",
    "                   ld_ml_r7_all_output[0, -1],\n",
    "                   ld_ml_r8_all_output[0, -1]])\n",
    "\n",
    "labels = ['1', '3', '4', '5','6', '7', '8']\n",
    "x = np.arange(1, len(labels)+1)\n",
    "width = 0.4\n",
    "#nl_lamda.text(0.03, 0.75, 'Travel' + '\\n' + 'distance [m]', fontsize = 10, transform=nl_lamda.transAxes)\n",
    "\n",
    "a = misfit.bar(x - width/2, nl_ml_misfits, width, label='Nonlocal, nonlinear', color = '#1f78b4', edgecolor = 'k')\n",
    "b = misfit.bar(x + width/2, ld_ml_misfits, width, label='Local, linear', color = '#a6cee3', edgecolor = 'k')\n",
    "misfit.set_ylabel('Surface-only misfit')\n",
    "#a6cee3\n",
    "misfit.set_ylabel('Misfit: all reflectors [-]')\n",
    "#misfit.set_title('Scores by group and gender')\n",
    "misfit.set_xticks(x)\n",
    "misfit.set_xticklabels(labels)\n",
    "misfit.set_xlabel('Section')\n",
    "misfit.legend(loc = 'upper center')\n",
    "misfit.set_xlim(0.5, 7.5)\n",
    "\n"
   ]
  },
  {
   "cell_type": "code",
   "execution_count": 16,
   "id": "5f464f7a-9e03-4b15-ad74-a8a9496b7ff2",
   "metadata": {},
   "outputs": [
    {
     "data": {
      "text/plain": [
       "array([82.03090381, 91.26745849, 82.15306795, 76.29406764, 84.06574429,\n",
       "       91.84014608, 83.69439539])"
      ]
     },
     "execution_count": 16,
     "metadata": {},
     "output_type": "execute_result"
    }
   ],
   "source": [
    "nl_ml_misfits"
   ]
  },
  {
   "cell_type": "code",
   "execution_count": 17,
   "id": "3f983445-4740-4a08-8145-f9f4f5f8264e",
   "metadata": {},
   "outputs": [],
   "source": [
    "nl_ml_max_misfits = np.array([nl_ml_r1_all_output[-1, -1], \n",
    "                   nl_ml_r3_all_output[-1, -1],\n",
    "                   nl_ml_r4_all_output[-1, -1],\n",
    "                   nl_ml_r5_all_output[-1, -1],\n",
    "                   nl_ml_r6_all_output[-1, -1],\n",
    "                   nl_ml_r7_all_output[-1, -1],\n",
    "                   nl_ml_r8_all_output[-1, -1]])\n"
   ]
  },
  {
   "cell_type": "code",
   "execution_count": 18,
   "id": "9100a2ce-5a03-499c-bebb-6c6f52c0443a",
   "metadata": {},
   "outputs": [
    {
     "data": {
      "text/plain": [
       "array([ 85.2322998 , 147.508869  , 100.62577663, 103.64141805,\n",
       "       102.32883742, 108.8126862 , 100.50397629])"
      ]
     },
     "execution_count": 18,
     "metadata": {},
     "output_type": "execute_result"
    }
   ],
   "source": [
    "nl_ml_max_misfits"
   ]
  },
  {
   "cell_type": "code",
   "execution_count": 15,
   "id": "2e0e31f8-a9cc-4bfb-8c0d-9cb7d1c99916",
   "metadata": {},
   "outputs": [
    {
     "data": {
      "text/plain": [
       "array([ 86.13008919, 109.35461128,  97.91968413,  96.3673775 ,\n",
       "       103.9995559 , 121.46162554, 104.98514793])"
      ]
     },
     "execution_count": 15,
     "metadata": {},
     "output_type": "execute_result"
    }
   ],
   "source": [
    "ld_ml_misfits"
   ]
  },
  {
   "cell_type": "code",
   "execution_count": 20,
   "id": "87195b0e-2b96-40fb-be6b-a1d961b8652a",
   "metadata": {},
   "outputs": [],
   "source": [
    "ld_ml_max_misfits = np.array([ld_ml_r1_all_output[-1, -1], \n",
    "                   ld_ml_r3_all_output[-1, -1],\n",
    "                   ld_ml_r4_all_output[-1, -1],\n",
    "                   ld_ml_r5_all_output[-1, -1],\n",
    "                   ld_ml_r6_all_output[-1, -1],\n",
    "                   ld_ml_r7_all_output[-1, -1],\n",
    "                   ld_ml_r8_all_output[-1, -1]])"
   ]
  },
  {
   "cell_type": "code",
   "execution_count": 21,
   "id": "8a6e7da0-1ad2-455e-aecd-8a4766f25ac1",
   "metadata": {},
   "outputs": [
    {
     "data": {
      "text/plain": [
       "array([108.39944999, 275.8890136 , 190.43672242, 165.05875802,\n",
       "       188.18234496, 232.3216401 , 198.316627  ])"
      ]
     },
     "execution_count": 21,
     "metadata": {},
     "output_type": "execute_result"
    }
   ],
   "source": [
    "ld_ml_max_misfits"
   ]
  },
  {
   "cell_type": "code",
   "execution_count": 12,
   "id": "107c744b-3e9c-405e-acc2-7f38ca0536e6",
   "metadata": {},
   "outputs": [],
   "source": [
    "fig1.savefig('misfit_nl_vs_ld_multilayer', dpi=1000, bbox_inches='tight', facecolor='white', transparent=False)"
   ]
  }
 ],
 "metadata": {
  "kernelspec": {
   "display_name": "Python 3",
   "language": "python",
   "name": "python3"
  },
  "language_info": {
   "codemirror_mode": {
    "name": "ipython",
    "version": 3
   },
   "file_extension": ".py",
   "mimetype": "text/x-python",
   "name": "python",
   "nbconvert_exporter": "python",
   "pygments_lexer": "ipython3",
   "version": "3.7.10"
  }
 },
 "nbformat": 4,
 "nbformat_minor": 5
}
