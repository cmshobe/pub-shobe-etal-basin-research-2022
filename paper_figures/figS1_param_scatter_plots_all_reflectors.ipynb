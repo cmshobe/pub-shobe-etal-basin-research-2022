{
 "cells": [
  {
   "cell_type": "markdown",
   "metadata": {},
   "source": [
    "Make two sets of figures. The first is using all model simulations. The other is using only \"accepted\" particles."
   ]
  },
  {
   "cell_type": "code",
   "execution_count": 1,
   "metadata": {},
   "outputs": [],
   "source": [
    "import numpy as np\n",
    "import matplotlib.pyplot as plt\n",
    "import pandas as pd"
   ]
  },
  {
   "cell_type": "code",
   "execution_count": 2,
   "metadata": {},
   "outputs": [
    {
     "data": {
      "text/plain": [
       "'/Users/cshobe/Documents/research/deep_marine/results_from_WVU_hpc/plotting_results'"
      ]
     },
     "execution_count": 2,
     "metadata": {},
     "output_type": "execute_result"
    }
   ],
   "source": [
    "pwd"
   ]
  },
  {
   "cell_type": "code",
   "execution_count": 3,
   "metadata": {
    "tags": []
   },
   "outputs": [],
   "source": [
    "from numpy import genfromtxt\n",
    "\n",
    "#IMPORT PARAMETER: WHICH SET OF RESULTS TO USE FOR EACH SECTION?\n",
    "model_number_R1 = '002'#'ml2'\n",
    "model_number_R3 = '000'#'ml2'\n",
    "model_number_R4 = '000'#'ml2'\n",
    "model_number_R5 = '000'#'ml2'\n",
    "model_number_R6 = '000'#'ml2'\n",
    "model_number_R7 = '002'#'ml2'\n",
    "model_number_R8 = '001'#'ml2'\n",
    "\n",
    "#import r1 results\n",
    "r1_all_params = genfromtxt('../orange_section_R1/step2_params/all_params_' + model_number_R1 + '.csv', delimiter=',')\n",
    "#r1_all_output = genfromtxt('../orange_section_R1/step2_params/step2_results_' + model_number_R1 + '.csv', delimiter=',')\n",
    "r1_all_output=r1_all_params[r1_all_params[:,-1].argsort()] #sort by misfit from best to worst fit\n",
    "\n",
    "#import r3 results\n",
    "r3_all_params = genfromtxt('../orange_section_R3/step2_params/all_params_' + model_number_R3 + '.csv', delimiter=',')\n",
    "r3_all_output=r3_all_params[r3_all_params[:,-1].argsort()] #sort by misfit\n",
    "\n",
    "#import r4 results\n",
    "r4_all_params = genfromtxt('../orange_section_R4/step2_params/all_params_' + model_number_R4 + '.csv', delimiter=',')\n",
    "r4_all_output=r4_all_params[r4_all_params[:,-1].argsort()] #sort by misfit from best to worst fit\n",
    "\n",
    "#import r5 results\n",
    "r5_all_params = genfromtxt('../orange_section_R5/step2_params/all_params_' + model_number_R5 + '.csv', delimiter=',')\n",
    "r5_all_output=r5_all_params[r5_all_params[:,-1].argsort()] #sort by misfit\n",
    "\n",
    "#import r6 results\n",
    "r6_all_params = genfromtxt('../orange_section_r6/step2_params/all_params_' + model_number_R6 + '.csv', delimiter=',')\n",
    "r6_all_output=r6_all_params[r6_all_params[:,-1].argsort()] #sort by misfit\n",
    "\n",
    "#import r7 results\n",
    "r7_all_params = genfromtxt('../orange_section_R7/step2_params/all_params_' + model_number_R7 + '.csv', delimiter=',')\n",
    "r7_all_output=r7_all_params[r7_all_params[:,-1].argsort()] #sort by misfit\n",
    "\n",
    "#import r8 results\n",
    "r8_all_params = genfromtxt('../orange_section_R8/step2_params/all_params_' + model_number_R8 + '.csv', delimiter=',')\n",
    "r8_all_output=r8_all_params[r8_all_params[:,-1].argsort()] #sort by misfit"
   ]
  },
  {
   "cell_type": "code",
   "execution_count": 4,
   "metadata": {},
   "outputs": [
    {
     "name": "stdout",
     "output_type": "stream",
     "text": [
      "65.16913226118622\n",
      "51.84309518037884\n"
     ]
    }
   ],
   "source": [
    "#some kind of weird thing with r5 output\n",
    "#print(max(r5_all_distances))\n",
    "#print(min(r5_all_distances))\n",
    "print(max(r1_all_output[:, -1]))\n",
    "print(min(r1_all_output[:, -1]))\n"
   ]
  },
  {
   "cell_type": "code",
   "execution_count": 5,
   "metadata": {},
   "outputs": [
    {
     "data": {
      "text/plain": [
       "(array([10411.,  1538.,   448.,   236.,   130.,    79.,    68.,    51.,\n",
       "           23.,    11.]),\n",
       " array([11.0881117 , 17.86214088, 24.63617006, 31.41019924, 38.18422842,\n",
       "        44.9582576 , 51.73228678, 58.50631596, 65.28034514, 72.05437432,\n",
       "        78.8284035 ]),\n",
       " <BarContainer object of 10 artists>)"
      ]
     },
     "execution_count": 5,
     "metadata": {},
     "output_type": "execute_result"
    },
    {
     "data": {
      "image/png": "[encoded data removed]",
      "text/plain": [
       "<Figure size 432x288 with 1 Axes>"
      ]
     },
     "metadata": {
      "needs_background": "light"
     },
     "output_type": "display_data"
    }
   ],
   "source": [
    "plt.hist(r5_all_output[:,-1])"
   ]
  },
  {
   "cell_type": "code",
   "execution_count": 6,
   "metadata": {},
   "outputs": [
    {
     "name": "stdout",
     "output_type": "stream",
     "text": [
      "3.4011973816621555\n"
     ]
    }
   ],
   "source": [
    "print(np.log(30))"
   ]
  },
  {
   "cell_type": "code",
   "execution_count": 7,
   "metadata": {},
   "outputs": [
    {
     "data": {
      "text/plain": [
       "<Figure size 1080x864 with 0 Axes>"
      ]
     },
     "metadata": {},
     "output_type": "display_data"
    }
   ],
   "source": [
    "%matplotlib inline\n",
    "from matplotlib import gridspec\n",
    "#set up the figure grid\n",
    "fig5 = plt.figure(figsize=(15,12))\n",
    "widths = [3, 0.75, 1, 3, 0.75, 1, 3, 0.75, 1, 3, 0.75]\n",
    "heights = [1, 5, 1.5, 1, 5, 1.5, 1, 5, 1.5, 1, 5]\n",
    "spec5 = fig5.add_gridspec(ncols=len(widths), nrows=len(heights), width_ratios=widths,\n",
    "                          height_ratios=heights, wspace=0.0, hspace=0.025)\n",
    "#spec5.update(wspace=0.01)\n",
    "\n",
    "#colorbar axes\n",
    "#cax = fig5.add_subplot(spec5[6:10, -2:-1])"
   ]
  },
  {
   "cell_type": "code",
   "execution_count": 8,
   "metadata": {},
   "outputs": [],
   "source": [
    "#####first two columns: r1 subplot frames\n",
    "#top set of plots: lamda and sc\n",
    "r1_lamda_hist = fig5.add_subplot(spec5[0, 0])\n",
    "r1_lamda_sc_scatter = fig5.add_subplot(spec5[1, 0])\n",
    "r1_sc_hist = fig5.add_subplot(spec5[1, 1])\n",
    "\n",
    "#bottom set of plots: k and zstar\n",
    "r1_k_hist = fig5.add_subplot(spec5[3, 0])\n",
    "r1_k_zstar_scatter = fig5.add_subplot(spec5[4, 0])\n",
    "r1_zstar_hist = fig5.add_subplot(spec5[4, 1])\n",
    "\n"
   ]
  },
  {
   "cell_type": "code",
   "execution_count": 9,
   "metadata": {},
   "outputs": [],
   "source": [
    "#####second two columns: r3 subplot frames\n",
    "#top set of plots: lamda and sc\n",
    "r3_lamda_hist = fig5.add_subplot(spec5[0, 3])\n",
    "r3_lamda_sc_scatter = fig5.add_subplot(spec5[1, 3])\n",
    "r3_sc_hist = fig5.add_subplot(spec5[1, 4])\n",
    "\n",
    "#bottom set of plots: k and zstar\n",
    "r3_k_hist = fig5.add_subplot(spec5[3, 3])\n",
    "r3_k_zstar_scatter = fig5.add_subplot(spec5[4, 3])\n",
    "r3_zstar_hist = fig5.add_subplot(spec5[4, 4])"
   ]
  },
  {
   "cell_type": "code",
   "execution_count": 10,
   "metadata": {},
   "outputs": [],
   "source": [
    "#####third two columns: r4 subplot frames\n",
    "#top set of plots: lamda and sc\n",
    "r4_lamda_hist = fig5.add_subplot(spec5[0, 6])\n",
    "r4_lamda_sc_scatter = fig5.add_subplot(spec5[1, 6])\n",
    "r4_sc_hist = fig5.add_subplot(spec5[1, 7])\n",
    "\n",
    "#bottom set of plots: k and zstar\n",
    "r4_k_hist = fig5.add_subplot(spec5[3, 6])\n",
    "r4_k_zstar_scatter = fig5.add_subplot(spec5[4, 6])\n",
    "r4_zstar_hist = fig5.add_subplot(spec5[4, 7])"
   ]
  },
  {
   "cell_type": "code",
   "execution_count": 11,
   "metadata": {},
   "outputs": [],
   "source": [
    "#####fourth two columns: r5 subplot frames\n",
    "#top set of plots: lamda and sc\n",
    "r5_lamda_hist = fig5.add_subplot(spec5[0, 9])\n",
    "r5_lamda_sc_scatter = fig5.add_subplot(spec5[1, 9])\n",
    "r5_sc_hist = fig5.add_subplot(spec5[1, 10])\n",
    "\n",
    "#bottom set of plots: k and zstar\n",
    "r5_k_hist = fig5.add_subplot(spec5[3, 9])\n",
    "r5_k_zstar_scatter = fig5.add_subplot(spec5[4, 9])\n",
    "r5_zstar_hist = fig5.add_subplot(spec5[4, 10])"
   ]
  },
  {
   "cell_type": "code",
   "execution_count": 12,
   "metadata": {},
   "outputs": [],
   "source": [
    "#####fifth two columns: r6 subplot frames\n",
    "#top set of plots: lamda and sc\n",
    "r6_lamda_hist = fig5.add_subplot(spec5[6, 0])\n",
    "r6_lamda_sc_scatter = fig5.add_subplot(spec5[7, 0])\n",
    "r6_sc_hist = fig5.add_subplot(spec5[7, 1])\n",
    "\n",
    "#bottom set of plots: k and zstar\n",
    "r6_k_hist = fig5.add_subplot(spec5[9, 0])\n",
    "r6_k_zstar_scatter = fig5.add_subplot(spec5[10, 0])\n",
    "r6_zstar_hist = fig5.add_subplot(spec5[10, 1])"
   ]
  },
  {
   "cell_type": "code",
   "execution_count": 13,
   "metadata": {},
   "outputs": [],
   "source": [
    "#####sixth two columns: r7 subplot frames\n",
    "#top set of plots: lamda and sc\n",
    "r7_lamda_hist = fig5.add_subplot(spec5[6, 3])\n",
    "r7_lamda_sc_scatter = fig5.add_subplot(spec5[7, 3])\n",
    "r7_sc_hist = fig5.add_subplot(spec5[7, 4])\n",
    "\n",
    "#bottom set of plots: k and zstar\n",
    "r7_k_hist = fig5.add_subplot(spec5[9, 3])\n",
    "r7_k_zstar_scatter = fig5.add_subplot(spec5[10, 3])\n",
    "r7_zstar_hist = fig5.add_subplot(spec5[10, 4])"
   ]
  },
  {
   "cell_type": "code",
   "execution_count": 14,
   "metadata": {},
   "outputs": [],
   "source": [
    "#####seventh two columns: r8 subplot frames\n",
    "#top set of plots: lamda and sc\n",
    "r8_lamda_hist = fig5.add_subplot(spec5[6, 6])\n",
    "r8_lamda_sc_scatter = fig5.add_subplot(spec5[7, 6])\n",
    "r8_sc_hist = fig5.add_subplot(spec5[7, 7])\n",
    "\n",
    "#bottom set of plots: k and zstar\n",
    "r8_k_hist = fig5.add_subplot(spec5[9, 6])\n",
    "r8_k_zstar_scatter = fig5.add_subplot(spec5[10, 6])\n",
    "r8_zstar_hist = fig5.add_subplot(spec5[10, 7])"
   ]
  },
  {
   "cell_type": "code",
   "execution_count": 15,
   "metadata": {},
   "outputs": [
    {
     "name": "stdout",
     "output_type": "stream",
     "text": [
      "3.9482217566732913\n",
      "4.176985925251596\n",
      "2.8351143481420524\n",
      "4.878214052658748\n",
      "3.0110036545144667\n",
      "4.367447166966075\n",
      "2.4058735163696716\n",
      "4.3672733823652115\n",
      "2.647353214416179\n",
      "4.55297023663272\n",
      "3.3349755714029112\n",
      "4.544116558676745\n",
      "2.739859720799901\n",
      "4.523755070217216\n",
      "11.088111700211144\n"
     ]
    }
   ],
   "source": [
    "print(np.min(np.log(r1_all_output[:,-1][::-1])))\n",
    "print(np.max(np.log(r1_all_output[:,-1][::-1])))\n",
    "r1_min = np.min((r1_all_output[:,-1][::-1]))\n",
    "r1_max = np.max((r1_all_output[:,-1][::-1]))\n",
    "\n",
    "print(np.min(np.log(r3_all_output[:,-1][::-1])))\n",
    "print(np.max(np.log(r3_all_output[:,-1][::-1])))\n",
    "r3_min = np.min((r3_all_output[:,-1][::-1]))\n",
    "r3_max = np.max((r3_all_output[:,-1][::-1]))\n",
    "\n",
    "print(np.min(np.log(r4_all_output[:,-1][::-1])))\n",
    "print(np.max(np.log(r4_all_output[:,-1][::-1])))\n",
    "r4_min = np.min((r4_all_output[:,-1][::-1]))\n",
    "r4_max = np.max((r4_all_output[:,-1][::-1]))\n",
    "\n",
    "print(np.min(np.log(r5_all_output[:,-1][::-1])))\n",
    "print(np.max(np.log(r5_all_output[:,-1][::-1])))\n",
    "r5_min = np.min((r5_all_output[:,-1][::-1]))\n",
    "r5_max = np.max((r5_all_output[:,-1][::-1]))\n",
    "\n",
    "print(np.min(np.log(r6_all_output[:,-1][::-1])))\n",
    "print(np.max(np.log(r6_all_output[:,-1][::-1])))\n",
    "r6_min = np.min((r6_all_output[:,-1][::-1]))\n",
    "r6_max = np.max((r6_all_output[:,-1][::-1]))\n",
    "\n",
    "print(np.min(np.log(r7_all_output[:,-1][::-1])))\n",
    "print(np.max(np.log(r7_all_output[:,-1][::-1])))\n",
    "r7_min = np.min((r7_all_output[:,-1][::-1]))\n",
    "r7_max = np.max((r7_all_output[:,-1][::-1]))\n",
    "\n",
    "print(np.min(np.log(r8_all_output[:,-1][::-1])))\n",
    "print(np.max(np.log(r8_all_output[:,-1][::-1])))\n",
    "r8_min = np.min((r8_all_output[:,-1][::-1]))\n",
    "r8_max = np.max((r8_all_output[:,-1][::-1]))\n",
    "minima = np.array([r1_min, r3_min, r4_min, r5_min, r6_min, r7_min, r8_min])\n",
    "maxima = np.array([r1_max, r3_max, r4_max, r5_max, r6_max, r7_max, r8_max])\n",
    "\n",
    "\n",
    "total_min = np.min(minima)\n",
    "total_max = np.max(maxima)\n",
    "print(total_min)"
   ]
  },
  {
   "cell_type": "code",
   "execution_count": 16,
   "metadata": {},
   "outputs": [
    {
     "name": "stderr",
     "output_type": "stream",
     "text": [
      "//anaconda3/lib/python3.7/site-packages/seaborn/distributions.py:1647: FutureWarning: The `vertical` parameter is deprecated and will be removed in a future version. Assign the data to the `y` variable instead.\n",
      "  warnings.warn(msg, FutureWarning)\n",
      "//anaconda3/lib/python3.7/site-packages/seaborn/distributions.py:1647: FutureWarning: The `vertical` parameter is deprecated and will be removed in a future version. Assign the data to the `y` variable instead.\n",
      "  warnings.warn(msg, FutureWarning)\n"
     ]
    },
    {
     "data": {
      "text/plain": [
       "(0.0, 60.534852502018175, 0.06645760053058129, 0.1836743662335504)"
      ]
     },
     "execution_count": 16,
     "metadata": {},
     "output_type": "execute_result"
    }
   ],
   "source": [
    "import seaborn as sns\n",
    "import matplotlib.colors as colors\n",
    "\n",
    "#r1 plotting\n",
    "sns.kdeplot(r1_all_params[:,1], ax= r1_k_hist, color='k') #k histogram\n",
    "r1_k_hist.get_xaxis().set_ticks([])\n",
    "r1_k_hist.get_yaxis().set_ticks([])\n",
    "r1_k_hist.axis('off')\n",
    "#r51.spines['right'].set_visible(False)\n",
    "#r51.spines['top'].set_visible(False)\n",
    "\n",
    "sns.kdeplot(r1_all_params[:,0], ax= r1_lamda_hist, color='k') #lamda histogram\n",
    "r1_lamda_hist.get_xaxis().set_ticks([])\n",
    "r1_lamda_hist.get_yaxis().set_ticks([])\n",
    "r1_lamda_hist.axis('off')\n",
    "\n",
    "#r1_k_zstar_scatter.scatter(r1_all_output[:, 1][::-1], r1_all_output[:, 2][::-1], \n",
    "                           #c = np.log(r1_all_output[:,-1][::-1]), \n",
    "                           #vmin=r1_min, vmax=r1_max, s=10) #k, z* scatter\n",
    "\n",
    "r1_k_zstar_scatter.scatter(r1_all_output[:, 1][::-1], r1_all_output[:, 2][::-1], \n",
    "                           c = (r1_all_output[:,-1][::-1]),  \n",
    "                           norm=colors.LogNorm(vmin=r1_min, vmax=r1_min + (r1_max - r1_min)/10),\n",
    "                            cmap='viridis', s = 2)\n",
    "                           #vmin=r1_min, vmax=r1_max, s=10) #k, z* scatter\n",
    "\n",
    "\n",
    "#norm=colors.LogNorm(vmin=Z.min(), vmax=Z.max()),\n",
    "#r1_k_zstar_scatter.scatter(r1_all_output[0, 1], r1_all_output[0, 2], c = 'r', s=20) #k, z* scatter\n",
    "#r1_k_zstar_scatter.get_xaxis().set_ticks([])\n",
    "r1_k_zstar_scatter.set_xlabel('log(Erodibility [m/yr])')\n",
    "r1_k_zstar_scatter.set_ylabel('Erosion depth scale [m]')\n",
    "\n",
    "sns.kdeplot(r5_all_params[:,2], ax = r1_zstar_hist, vertical=True, color='k') #z* histogram\n",
    "r1_zstar_hist.get_xaxis().set_ticks([])\n",
    "r1_zstar_hist.get_yaxis().set_ticks([])\n",
    "r1_zstar_hist.axis('off')\n",
    "\n",
    "cbar_mappable = r1_lamda_sc_scatter.scatter(r1_all_output[:, 0][::-1], r1_all_output[:, 3][::-1], \n",
    "                           c = (r1_all_output[:,-1][::-1]),  \n",
    "                           norm=colors.LogNorm(vmin=r1_min, vmax=r1_min + (r1_max - r1_min)/10),\n",
    "                            cmap='viridis', s = 2)\n",
    "\n",
    "#r1_lamda_sc_scatter.scatter(r1_all_output[:, 0][::-1], r1_all_output[:, 3][::-1], \n",
    "#                            c = np.log(r1_all_output[:,-1][::-1]), \n",
    "#                            vmin=(r1_min + r1_max)/2, vmax=r1_max, s=10)#, vmin=0.5, vmax=2)\n",
    "#r1_lamda_sc_scatter.scatter(r1_all_output[0, 0], r1_all_output[0, 3], c = 'r', s=20) #k, z* scatter\n",
    "#r1_lamda_sc_scatter.get_xaxis().set_ticks([])\n",
    "r1_lamda_sc_scatter.set_xlabel('Travel distance [m]')\n",
    "r1_lamda_sc_scatter.set_ylabel('Critical slope [-]')\n",
    "\n",
    "\n",
    "sns.kdeplot(r1_all_params[:,3], ax = r1_sc_hist, vertical=True, color='k') #sc histogram\n",
    "r1_sc_hist.get_xaxis().set_ticks([])\n",
    "r1_sc_hist.get_yaxis().set_ticks([])\n",
    "r1_sc_hist.axis('off')\n"
   ]
  },
  {
   "cell_type": "code",
   "execution_count": 17,
   "metadata": {},
   "outputs": [
    {
     "name": "stderr",
     "output_type": "stream",
     "text": [
      "//anaconda3/lib/python3.7/site-packages/seaborn/distributions.py:1647: FutureWarning: The `vertical` parameter is deprecated and will be removed in a future version. Assign the data to the `y` variable instead.\n",
      "  warnings.warn(msg, FutureWarning)\n",
      "//anaconda3/lib/python3.7/site-packages/seaborn/distributions.py:1647: FutureWarning: The `vertical` parameter is deprecated and will be removed in a future version. Assign the data to the `y` variable instead.\n",
      "  warnings.warn(msg, FutureWarning)\n"
     ]
    },
    {
     "data": {
      "text/plain": [
       "(0.0, 62.57475254822903, -0.002289742759093082, 0.11226745779849819)"
      ]
     },
     "execution_count": 17,
     "metadata": {},
     "output_type": "execute_result"
    }
   ],
   "source": [
    "#r3 plotting\n",
    "sns.kdeplot(r3_all_params[:,1], ax= r3_k_hist, color='k') #k histogram\n",
    "r3_k_hist.get_xaxis().set_ticks([])\n",
    "r3_k_hist.get_yaxis().set_ticks([])\n",
    "r3_k_hist.axis('off')\n",
    "#r51.spines['right'].set_visible(False)\n",
    "#r51.spines['top'].set_visible(False)\n",
    "\n",
    "sns.kdeplot(r3_all_params[:,0], ax= r3_lamda_hist, color='k') #lamda histogram\n",
    "r3_lamda_hist.get_xaxis().set_ticks([])\n",
    "r3_lamda_hist.get_yaxis().set_ticks([])\n",
    "r3_lamda_hist.axis('off')\n",
    "\n",
    "r3_k_zstar_scatter.scatter(r3_all_output[:, 1][::-1], r3_all_output[:, 2][::-1], \n",
    "                           c = (r3_all_output[:,-1][::-1]),  \n",
    "                           norm=colors.LogNorm(vmin=r3_min, vmax=r3_min + (r3_max - r3_min)/10),\n",
    "                            cmap='viridis', s = 2)#r3_k_zstar_scatter.get_xaxis().set_ticks([])\n",
    "r3_k_zstar_scatter.set_xlabel('log(Erodibility [m/yr])')\n",
    "#r3_k_zstar_scatter.set_ylabel('Erosion depth scale [L]')\n",
    "\n",
    "sns.kdeplot(r3_all_params[:,2], ax = r3_zstar_hist, vertical=True, color='k') #z* histogram\n",
    "r3_zstar_hist.get_xaxis().set_ticks([])\n",
    "r3_zstar_hist.get_yaxis().set_ticks([])\n",
    "r3_zstar_hist.axis('off')\n",
    "\n",
    "r3_lamda_sc_scatter.scatter(r3_all_output[:, 0][::-1], r3_all_output[:, 3][::-1], \n",
    "                           c = (r3_all_output[:,-1][::-1]),  \n",
    "                           norm=colors.LogNorm(vmin=r3_min, vmax=r3_min + (r3_max - r3_min)/10),\n",
    "                            cmap='viridis', s = 2)#r3_lamda_sc_scatter.get_xaxis().set_ticks([])\n",
    "r3_lamda_sc_scatter.set_xlabel('Travel distance [m]')\n",
    "#r3_lamda_sc_scatter.set_ylabel('Critical slope [-]')\n",
    "\n",
    "\n",
    "sns.kdeplot(r3_all_params[:,3], ax = r3_sc_hist, vertical=True, color='k') #sc histogram\n",
    "r3_sc_hist.get_xaxis().set_ticks([])\n",
    "r3_sc_hist.get_yaxis().set_ticks([])\n",
    "r3_sc_hist.axis('off')"
   ]
  },
  {
   "cell_type": "code",
   "execution_count": 18,
   "metadata": {},
   "outputs": [
    {
     "name": "stderr",
     "output_type": "stream",
     "text": [
      "//anaconda3/lib/python3.7/site-packages/seaborn/distributions.py:1647: FutureWarning: The `vertical` parameter is deprecated and will be removed in a future version. Assign the data to the `y` variable instead.\n",
      "  warnings.warn(msg, FutureWarning)\n",
      "//anaconda3/lib/python3.7/site-packages/seaborn/distributions.py:1647: FutureWarning: The `vertical` parameter is deprecated and will be removed in a future version. Assign the data to the `y` variable instead.\n",
      "  warnings.warn(msg, FutureWarning)\n"
     ]
    },
    {
     "data": {
      "text/plain": [
       "(0.0, 65.04792911827687, -0.0014131103650561255, 0.11147091440428039)"
      ]
     },
     "execution_count": 18,
     "metadata": {},
     "output_type": "execute_result"
    }
   ],
   "source": [
    "#r4 plotting\n",
    "sns.kdeplot(r4_all_params[:,1], ax= r4_k_hist, color='k') #k histogram\n",
    "r4_k_hist.get_xaxis().set_ticks([])\n",
    "r4_k_hist.get_yaxis().set_ticks([])\n",
    "r4_k_hist.axis('off')\n",
    "#r51.spines['right'].set_visible(False)\n",
    "#r51.spines['top'].set_visible(False)\n",
    "\n",
    "sns.kdeplot(r4_all_params[:,0], ax= r4_lamda_hist, color='k') #lamda histogram\n",
    "r4_lamda_hist.get_xaxis().set_ticks([])\n",
    "r4_lamda_hist.get_yaxis().set_ticks([])\n",
    "r4_lamda_hist.axis('off')\n",
    "\n",
    "r4_k_zstar_scatter.scatter(r4_all_output[:, 1][::-1], r4_all_output[:, 2][::-1], \n",
    "                           c = (r4_all_output[:,-1][::-1]),  \n",
    "                           norm=colors.LogNorm(vmin=r4_min, vmax=r4_min + (r4_max - r4_min)/10),\n",
    "                            cmap='viridis', s = 2)#r4_k_zstar_scatter.get_xaxis().set_ticks([])\n",
    "r4_k_zstar_scatter.set_xlabel('log(Erodibility [m/yr])')\n",
    "#r4_k_zstar_scatter.set_ylabel('Erosion depth scale [L]')\n",
    "\n",
    "sns.kdeplot(r4_all_params[:,2], ax = r4_zstar_hist, vertical=True, color='k') #z* histogram\n",
    "r4_zstar_hist.get_xaxis().set_ticks([])\n",
    "r4_zstar_hist.get_yaxis().set_ticks([])\n",
    "r4_zstar_hist.axis('off')\n",
    "\n",
    "r4_lamda_sc_scatter.scatter(r4_all_output[:, 0][::-1], r4_all_output[:, 3][::-1], \n",
    "                           c = (r4_all_output[:,-1][::-1]),  \n",
    "                           norm=colors.LogNorm(vmin=r4_min, vmax=r4_min + (r4_max - r4_min)/10),\n",
    "                            cmap='viridis', s = 2)#r4_lamda_sc_scatter.get_xaxis().set_ticks([])\n",
    "r4_lamda_sc_scatter.set_xlabel('Travel distance [m]')\n",
    "#r4_lamda_sc_scatter.set_ylabel('Critical slope [-]')\n",
    "\n",
    "\n",
    "sns.kdeplot(r4_all_params[:,3], ax = r4_sc_hist, vertical=True, color='k') #sc histogram\n",
    "r4_sc_hist.get_xaxis().set_ticks([])\n",
    "r4_sc_hist.get_yaxis().set_ticks([])\n",
    "r4_sc_hist.axis('off')"
   ]
  },
  {
   "cell_type": "code",
   "execution_count": 19,
   "metadata": {},
   "outputs": [
    {
     "name": "stderr",
     "output_type": "stream",
     "text": [
      "//anaconda3/lib/python3.7/site-packages/seaborn/distributions.py:1647: FutureWarning: The `vertical` parameter is deprecated and will be removed in a future version. Assign the data to the `y` variable instead.\n",
      "  warnings.warn(msg, FutureWarning)\n",
      "//anaconda3/lib/python3.7/site-packages/seaborn/distributions.py:1647: FutureWarning: The `vertical` parameter is deprecated and will be removed in a future version. Assign the data to the `y` variable instead.\n",
      "  warnings.warn(msg, FutureWarning)\n"
     ]
    },
    {
     "data": {
      "text/plain": [
       "(0.0, 116.31010249292525, -0.0015626439635394148, 0.11146986579692131)"
      ]
     },
     "execution_count": 19,
     "metadata": {},
     "output_type": "execute_result"
    }
   ],
   "source": [
    "#r5 plotting\n",
    "sns.kdeplot(r5_all_params[:,1], ax= r5_k_hist, color='k') #k histogram\n",
    "r5_k_hist.get_xaxis().set_ticks([])\n",
    "r5_k_hist.get_yaxis().set_ticks([])\n",
    "r5_k_hist.axis('off')\n",
    "#r51.spines['right'].set_visible(False)\n",
    "#r51.spines['top'].set_visible(False)\n",
    "\n",
    "sns.kdeplot(r5_all_params[:,0], ax= r5_lamda_hist, color='k') #lamda histogram\n",
    "r5_lamda_hist.get_xaxis().set_ticks([])\n",
    "r5_lamda_hist.get_yaxis().set_ticks([])\n",
    "r5_lamda_hist.axis('off')\n",
    "\n",
    "r5_k_zstar_scatter.scatter(r5_all_output[:, 1][::-1], r5_all_output[:, 2][::-1], \n",
    "                           c = (r5_all_output[:,-1][::-1]),  \n",
    "                           norm=colors.LogNorm(vmin=r5_min, vmax=r5_min + (r5_max - r5_min)/10),\n",
    "                            cmap='viridis', s = 2)#r5_k_zstar_scatter.get_xaxis().set_ticks([])\n",
    "r5_k_zstar_scatter.set_xlabel('log(Erodibility [m/yr])')\n",
    "#r5_k_zstar_scatter.set_ylabel('Erosion depth scale [L]')\n",
    "\n",
    "sns.kdeplot(r5_all_params[:,2], ax = r5_zstar_hist, vertical=True, color='k') #z* histogram\n",
    "r5_zstar_hist.get_xaxis().set_ticks([])\n",
    "r5_zstar_hist.get_yaxis().set_ticks([])\n",
    "r5_zstar_hist.axis('off')\n",
    "\n",
    "r5_lamda_sc_scatter.scatter(r5_all_output[:, 0][::-1], r5_all_output[:, 3][::-1], \n",
    "                           c = (r5_all_output[:,-1][::-1]),  \n",
    "                           norm=colors.LogNorm(vmin=r5_min, vmax=r5_min + (r5_max - r5_min)/10),\n",
    "                            cmap='viridis', s = 2)#r5_lamda_sc_scatter.get_xaxis().set_ticks([])\n",
    "r5_lamda_sc_scatter.set_xlabel('Travel distance [m]')\n",
    "#r5_lamda_sc_scatter.set_ylabel('Critical slope [-]')\n",
    "\n",
    "\n",
    "sns.kdeplot(r5_all_params[:,3], ax = r5_sc_hist, vertical=True, color='k') #sc histogram\n",
    "r5_sc_hist.get_xaxis().set_ticks([])\n",
    "r5_sc_hist.get_yaxis().set_ticks([])\n",
    "r5_sc_hist.axis('off')"
   ]
  },
  {
   "cell_type": "code",
   "execution_count": 20,
   "metadata": {},
   "outputs": [
    {
     "name": "stderr",
     "output_type": "stream",
     "text": [
      "//anaconda3/lib/python3.7/site-packages/seaborn/distributions.py:1647: FutureWarning: The `vertical` parameter is deprecated and will be removed in a future version. Assign the data to the `y` variable instead.\n",
      "  warnings.warn(msg, FutureWarning)\n",
      "//anaconda3/lib/python3.7/site-packages/seaborn/distributions.py:1647: FutureWarning: The `vertical` parameter is deprecated and will be removed in a future version. Assign the data to the `y` variable instead.\n",
      "  warnings.warn(msg, FutureWarning)\n"
     ]
    },
    {
     "data": {
      "text/plain": [
       "(0.0, 102.85739599519918, -0.0014408374049735872, 0.11154457922241506)"
      ]
     },
     "execution_count": 20,
     "metadata": {},
     "output_type": "execute_result"
    }
   ],
   "source": [
    "#r6 plotting\n",
    "sns.kdeplot(r6_all_params[:,1], ax= r6_k_hist, color='k') #k histogram\n",
    "r6_k_hist.get_xaxis().set_ticks([])\n",
    "r6_k_hist.get_yaxis().set_ticks([])\n",
    "r6_k_hist.axis('off')\n",
    "#r61.spines['right'].set_visible(False)\n",
    "#r61.spines['top'].set_visible(False)\n",
    "\n",
    "sns.kdeplot(r6_all_params[:,0], ax= r6_lamda_hist, color='k') #lamda histogram\n",
    "r6_lamda_hist.get_xaxis().set_ticks([])\n",
    "r6_lamda_hist.get_yaxis().set_ticks([])\n",
    "r6_lamda_hist.axis('off')\n",
    "\n",
    "r6_k_zstar_scatter.scatter(r6_all_output[:, 1][::-1], r6_all_output[:, 2][::-1], \n",
    "                           c = (r6_all_output[:,-1][::-1]),  \n",
    "                           norm=colors.LogNorm(vmin=r6_min, vmax=r6_min + (r6_max - r6_min)/10),\n",
    "                            cmap='viridis', s = 2)#r6_k_zstar_scatter.get_xaxis().set_ticks([])\n",
    "r6_k_zstar_scatter.set_xlabel('log(Erodibility [m/yr])')\n",
    "r6_k_zstar_scatter.set_ylabel('Erosion depth scale [m]')\n",
    "\n",
    "sns.kdeplot(r6_all_params[:,2], ax = r6_zstar_hist, vertical=True, color='k') #z* histogram\n",
    "r6_zstar_hist.get_xaxis().set_ticks([])\n",
    "r6_zstar_hist.get_yaxis().set_ticks([])\n",
    "r6_zstar_hist.axis('off')\n",
    "\n",
    "r6_lamda_sc_scatter.scatter(r6_all_output[:, 0][::-1], r6_all_output[:, 3][::-1], \n",
    "                           c = (r6_all_output[:,-1][::-1]),  \n",
    "                           norm=colors.LogNorm(vmin=r6_min, vmax=r6_min + (r6_max - r6_min)/10),\n",
    "                            cmap='viridis', s = 2)#r6_lamda_sc_scatter.get_xaxis().set_ticks([])\n",
    "r6_lamda_sc_scatter.set_xlabel('Travel distance [m]')\n",
    "r6_lamda_sc_scatter.set_ylabel('Critical slope [-]')\n",
    "\n",
    "\n",
    "sns.kdeplot(r6_all_params[:,3], ax = r6_sc_hist, vertical=True, color='k') #sc histogram\n",
    "r6_sc_hist.get_xaxis().set_ticks([])\n",
    "r6_sc_hist.get_yaxis().set_ticks([])\n",
    "r6_sc_hist.axis('off')"
   ]
  },
  {
   "cell_type": "code",
   "execution_count": 21,
   "metadata": {},
   "outputs": [
    {
     "name": "stderr",
     "output_type": "stream",
     "text": [
      "//anaconda3/lib/python3.7/site-packages/seaborn/distributions.py:1647: FutureWarning: The `vertical` parameter is deprecated and will be removed in a future version. Assign the data to the `y` variable instead.\n",
      "  warnings.warn(msg, FutureWarning)\n",
      "//anaconda3/lib/python3.7/site-packages/seaborn/distributions.py:1647: FutureWarning: The `vertical` parameter is deprecated and will be removed in a future version. Assign the data to the `y` variable instead.\n",
      "  warnings.warn(msg, FutureWarning)\n"
     ]
    },
    {
     "data": {
      "text/plain": [
       "(0.0, 99.27906612745191, -0.0022103392351365088, 0.11208393228870289)"
      ]
     },
     "execution_count": 21,
     "metadata": {},
     "output_type": "execute_result"
    }
   ],
   "source": [
    "#r7 plotting\n",
    "sns.kdeplot(r7_all_params[:,1], ax= r7_k_hist, color='k') #k histogram\n",
    "r7_k_hist.get_xaxis().set_ticks([])\n",
    "r7_k_hist.get_yaxis().set_ticks([])\n",
    "r7_k_hist.axis('off')\n",
    "#r71.spines['right'].set_visible(False)\n",
    "#r71.spines['top'].set_visible(False)\n",
    "\n",
    "sns.kdeplot(r7_all_params[:,0], ax= r7_lamda_hist, color='k') #lamda histogram\n",
    "r7_lamda_hist.get_xaxis().set_ticks([])\n",
    "r7_lamda_hist.get_yaxis().set_ticks([])\n",
    "r7_lamda_hist.axis('off')\n",
    "\n",
    "r7_k_zstar_scatter.scatter(r7_all_output[:, 1][::-1], r7_all_output[:, 2][::-1], \n",
    "                           c = (r7_all_output[:,-1][::-1]),  \n",
    "                           norm=colors.LogNorm(vmin=r7_min, vmax=r7_min + (r7_max - r7_min)/10),\n",
    "                            cmap='viridis', s = 2)#r7_k_zstar_scatter.get_xaxis().set_ticks([])\n",
    "r7_k_zstar_scatter.set_xlabel('log(Erodibility [m/yr])')\n",
    "#r7_k_zstar_scatter.set_ylabel('Erosion depth scale [L]')\n",
    "\n",
    "sns.kdeplot(r7_all_params[:,2], ax = r7_zstar_hist, vertical=True, color='k') #z* histogram\n",
    "r7_zstar_hist.get_xaxis().set_ticks([])\n",
    "r7_zstar_hist.get_yaxis().set_ticks([])\n",
    "r7_zstar_hist.axis('off')\n",
    "\n",
    "r7_lamda_sc_scatter.scatter(r7_all_output[:, 0][::-1], r7_all_output[:, 3][::-1], \n",
    "                           c = (r7_all_output[:,-1][::-1]),  \n",
    "                           norm=colors.LogNorm(vmin=r7_min, vmax=r7_min + (r7_max - r7_min)/10),\n",
    "                            cmap='viridis', s = 2)#r7_lamda_sc_scatter.get_xaxis().set_ticks([])\n",
    "r7_lamda_sc_scatter.set_xlabel('Travel distance [m]')\n",
    "#r7_lamda_sc_scatter.set_ylabel('Critical slope [-]')\n",
    "\n",
    "\n",
    "sns.kdeplot(r7_all_params[:,3], ax = r7_sc_hist, vertical=True, color='k') #sc histogram\n",
    "r7_sc_hist.get_xaxis().set_ticks([])\n",
    "r7_sc_hist.get_yaxis().set_ticks([])\n",
    "r7_sc_hist.axis('off')"
   ]
  },
  {
   "cell_type": "code",
   "execution_count": 22,
   "metadata": {},
   "outputs": [
    {
     "name": "stderr",
     "output_type": "stream",
     "text": [
      "//anaconda3/lib/python3.7/site-packages/seaborn/distributions.py:1647: FutureWarning: The `vertical` parameter is deprecated and will be removed in a future version. Assign the data to the `y` variable instead.\n",
      "  warnings.warn(msg, FutureWarning)\n",
      "//anaconda3/lib/python3.7/site-packages/seaborn/distributions.py:1647: FutureWarning: The `vertical` parameter is deprecated and will be removed in a future version. Assign the data to the `y` variable instead.\n",
      "  warnings.warn(msg, FutureWarning)\n"
     ]
    },
    {
     "data": {
      "text/plain": [
       "(0.0, 109.03354564033828, -0.002293707115820314, 0.11225022954111026)"
      ]
     },
     "execution_count": 22,
     "metadata": {},
     "output_type": "execute_result"
    }
   ],
   "source": [
    "#r8 plotting\n",
    "sns.kdeplot(r8_all_params[:,1], ax= r8_k_hist, color='k') #k histogram\n",
    "r8_k_hist.get_xaxis().set_ticks([])\n",
    "r8_k_hist.get_yaxis().set_ticks([])\n",
    "r8_k_hist.axis('off')\n",
    "#r81.spines['right'].set_visible(False)\n",
    "#r81.spines['top'].set_visible(False)\n",
    "\n",
    "sns.kdeplot(r8_all_params[:,0], ax= r8_lamda_hist, color='k') #lamda histogram\n",
    "r8_lamda_hist.get_xaxis().set_ticks([])\n",
    "r8_lamda_hist.get_yaxis().set_ticks([])\n",
    "r8_lamda_hist.axis('off')\n",
    "\n",
    "r8_k_zstar_scatter.scatter(r8_all_output[:, 1][::-1], r8_all_output[:, 2][::-1], \n",
    "                           c = (r8_all_output[:,-1][::-1]),  \n",
    "                           norm=colors.LogNorm(vmin=r8_min, vmax=r8_min + (r8_max - r8_min)/10),\n",
    "                            cmap='viridis', s = 2)#r8_k_zstar_scatter.get_xaxis().set_ticks([])\n",
    "r8_k_zstar_scatter.set_xlabel('log(Erodibility [m/yr])')\n",
    "#r8_k_zstar_scatter.set_ylabel('Erosion depth scale [L]')\n",
    "\n",
    "sns.kdeplot(r8_all_params[:,2], ax = r8_zstar_hist, vertical=True, color='k') #z* histogram\n",
    "r8_zstar_hist.get_xaxis().set_ticks([])\n",
    "r8_zstar_hist.get_yaxis().set_ticks([])\n",
    "r8_zstar_hist.axis('off')\n",
    "\n",
    "r8_lamda_sc_scatter.scatter(r8_all_output[:, 0][::-1], r8_all_output[:, 3][::-1], \n",
    "                           c = (r8_all_output[:,-1][::-1]),  \n",
    "                           norm=colors.LogNorm(vmin=r8_min, vmax=r8_min + (r8_max - r8_min)/10),\n",
    "                            cmap='viridis', s = 2)#r8_lamda_sc_scatter.get_xaxis().set_ticks([])\n",
    "r8_lamda_sc_scatter.set_xlabel('Travel distance [m]')\n",
    "#r8_lamda_sc_scatter.set_ylabel('Critical slope [-]')\n",
    "\n",
    "\n",
    "sns.kdeplot(r8_all_params[:,3], ax = r8_sc_hist, vertical=True, color='k') #sc histogram\n",
    "r8_sc_hist.get_xaxis().set_ticks([])\n",
    "r8_sc_hist.get_yaxis().set_ticks([])\n",
    "r8_sc_hist.axis('off')"
   ]
  },
  {
   "cell_type": "code",
   "execution_count": null,
   "metadata": {},
   "outputs": [],
   "source": []
  },
  {
   "cell_type": "code",
   "execution_count": 23,
   "metadata": {},
   "outputs": [
    {
     "data": {
      "text/plain": [
       "Text(1.05, 1, '8')"
      ]
     },
     "execution_count": 23,
     "metadata": {},
     "output_type": "execute_result"
    }
   ],
   "source": [
    "#text labels to identify sections\n",
    "r1_lamda_sc_scatter.text(1.05, 1, '1', fontsize=18, transform=r1_lamda_sc_scatter.transAxes, bbox=dict(linewidth = 1, facecolor='white'))\n",
    "r3_lamda_sc_scatter.text(1.05, 1, '3', fontsize=18, transform=r3_lamda_sc_scatter.transAxes, bbox=dict(linewidth = 1, facecolor='white'))\n",
    "r4_lamda_sc_scatter.text(1.05, 1, '4', fontsize=18, transform=r4_lamda_sc_scatter.transAxes, bbox=dict(linewidth = 1, facecolor='white'))\n",
    "r5_lamda_sc_scatter.text(1.05, 1, '5', fontsize=18, transform=r5_lamda_sc_scatter.transAxes, bbox=dict(linewidth = 1, facecolor='white'))\n",
    "r6_lamda_sc_scatter.text(1.05, 1, '6', fontsize=18, transform=r6_lamda_sc_scatter.transAxes, bbox=dict(linewidth = 1, facecolor='white'))\n",
    "r7_lamda_sc_scatter.text(1.05, 1, '7', fontsize=18, transform=r7_lamda_sc_scatter.transAxes, bbox=dict(linewidth = 1, facecolor='white'))\n",
    "r8_lamda_sc_scatter.text(1.05, 1, '8', fontsize=18, transform=r8_lamda_sc_scatter.transAxes, bbox=dict(linewidth = 1, facecolor='white'))"
   ]
  },
  {
   "cell_type": "code",
   "execution_count": 24,
   "metadata": {},
   "outputs": [],
   "source": [
    "#rectangle around each set of subplots\n",
    "rect = plt.Rectangle(\n",
    "    # (lower-left corner), width, height\n",
    "    (0.075, 0.485), 0.215, 0.4, fill=False, color=\"k\", lw=1, \n",
    "    zorder=1000, transform=fig5.transFigure, figure=fig5\n",
    ")\n",
    "fig5.patches.extend([rect])\n",
    "\n",
    "rect = plt.Rectangle(\n",
    "    # (lower-left corner), width, height\n",
    "    (0.29, 0.485), 0.21, 0.4, fill=False, color=\"k\", lw=1, \n",
    "    zorder=1000, transform=fig5.transFigure, figure=fig5\n",
    ")\n",
    "fig5.patches.extend([rect])\n",
    "\n",
    "rect = plt.Rectangle(\n",
    "    # (lower-left corner), width, height\n",
    "    (0.5, 0.485), 0.2, 0.4, fill=False, color=\"k\", lw=1, \n",
    "    zorder=1000, transform=fig5.transFigure, figure=fig5\n",
    ")\n",
    "fig5.patches.extend([rect])\n",
    "\n",
    "rect = plt.Rectangle(\n",
    "    # (lower-left corner), width, height\n",
    "    (0.7, 0.485), 0.2, 0.4, fill=False, color=\"k\", lw=1, \n",
    "    zorder=1000, transform=fig5.transFigure, figure=fig5\n",
    ")\n",
    "fig5.patches.extend([rect])\n",
    "\n",
    "rect = plt.Rectangle(\n",
    "    # (lower-left corner), width, height\n",
    "    (0.075, 0.085), 0.215, 0.4, fill=False, color=\"k\", lw=1, \n",
    "    zorder=1000, transform=fig5.transFigure, figure=fig5\n",
    ")\n",
    "fig5.patches.extend([rect])\n",
    "\n",
    "rect = plt.Rectangle(\n",
    "    # (lower-left corner), width, height\n",
    "    (0.29, 0.085), 0.21, 0.4, fill=False, color=\"k\", lw=1, \n",
    "    zorder=1000, transform=fig5.transFigure, figure=fig5\n",
    ")\n",
    "fig5.patches.extend([rect])\n",
    "\n",
    "rect = plt.Rectangle(\n",
    "    # (lower-left corner), width, height\n",
    "    (0.5, 0.085), 0.2, 0.4, fill=False, color=\"k\", lw=1, \n",
    "    zorder=1000, transform=fig5.transFigure, figure=fig5\n",
    ")\n",
    "fig5.patches.extend([rect])"
   ]
  },
  {
   "cell_type": "code",
   "execution_count": 25,
   "metadata": {},
   "outputs": [],
   "source": [
    "# slide top left histogram (r51) down to mesh with top of scatter (r53)\n",
    "pos4 = r1_lamda_sc_scatter.get_position()\n",
    "pos5 = r1_lamda_hist.get_position()\n",
    "points4 = pos4.get_points()\n",
    "points5 = pos5.get_points()\n",
    "points5[0][1]=points4[1][1]\n",
    "pos5.set_points(points5)\n",
    "r1_lamda_hist.set_position(pos5)\n",
    "\n",
    "# slide top right histogram (r52) down to mesh with top of right scatter (r55)\n",
    "pos4 = r1_k_zstar_scatter.get_position()\n",
    "pos5 = r1_k_hist.get_position()\n",
    "points4 = pos4.get_points()\n",
    "points5 = pos5.get_points()\n",
    "points5[0][1]=points4[1][1]\n",
    "pos5.set_points(points5)\n",
    "r1_k_hist.set_position(pos5)\n",
    "\n",
    "# slide top left histogram (r51) down to mesh with top of scatter (r53)\n",
    "pos4 = r3_lamda_sc_scatter.get_position()\n",
    "pos5 = r3_lamda_hist.get_position()\n",
    "points4 = pos4.get_points()\n",
    "points5 = pos5.get_points()\n",
    "points5[0][1]=points4[1][1]\n",
    "pos5.set_points(points5)\n",
    "r3_lamda_hist.set_position(pos5)\n",
    "\n",
    "# slide top right histogram (r52) down to mesh with top of right scatter (r55)\n",
    "pos4 = r3_k_zstar_scatter.get_position()\n",
    "pos5 = r3_k_hist.get_position()\n",
    "points4 = pos4.get_points()\n",
    "points5 = pos5.get_points()\n",
    "points5[0][1]=points4[1][1]\n",
    "pos5.set_points(points5)\n",
    "r3_k_hist.set_position(pos5)\n",
    "\n",
    "# slide top left histogram (r51) down to mesh with top of scatter (r53)\n",
    "pos4 = r4_lamda_sc_scatter.get_position()\n",
    "pos5 = r4_lamda_hist.get_position()\n",
    "points4 = pos4.get_points()\n",
    "points5 = pos5.get_points()\n",
    "points5[0][1]=points4[1][1]\n",
    "pos5.set_points(points5)\n",
    "r4_lamda_hist.set_position(pos5)\n",
    "\n",
    "# slide top right histogram (r52) down to mesh with top of right scatter (r55)\n",
    "pos4 = r4_k_zstar_scatter.get_position()\n",
    "pos5 = r4_k_hist.get_position()\n",
    "points4 = pos4.get_points()\n",
    "points5 = pos5.get_points()\n",
    "points5[0][1]=points4[1][1]\n",
    "pos5.set_points(points5)\n",
    "r4_k_hist.set_position(pos5)\n",
    "\n",
    "# slide top left histogram (r51) down to mesh with top of scatter (r53)\n",
    "pos4 = r5_lamda_sc_scatter.get_position()\n",
    "pos5 = r5_lamda_hist.get_position()\n",
    "points4 = pos4.get_points()\n",
    "points5 = pos5.get_points()\n",
    "points5[0][1]=points4[1][1]\n",
    "pos5.set_points(points5)\n",
    "r5_lamda_hist.set_position(pos5)\n",
    "\n",
    "# slide top right histogram (r52) down to mesh with top of right scatter (r55)\n",
    "pos4 = r5_k_zstar_scatter.get_position()\n",
    "pos5 = r5_k_hist.get_position()\n",
    "points4 = pos4.get_points()\n",
    "points5 = pos5.get_points()\n",
    "points5[0][1]=points4[1][1]\n",
    "pos5.set_points(points5)\n",
    "r5_k_hist.set_position(pos5)\n",
    "\n",
    "# slide top left histogram (r51) down to mesh with top of scatter (r53)\n",
    "pos4 = r6_lamda_sc_scatter.get_position()\n",
    "pos5 = r6_lamda_hist.get_position()\n",
    "points4 = pos4.get_points()\n",
    "points5 = pos5.get_points()\n",
    "points5[0][1]=points4[1][1]\n",
    "pos5.set_points(points5)\n",
    "r6_lamda_hist.set_position(pos5)\n",
    "\n",
    "# slide top right histogram (r52) down to mesh with top of right scatter (r55)\n",
    "pos4 = r6_k_zstar_scatter.get_position()\n",
    "pos5 = r6_k_hist.get_position()\n",
    "points4 = pos4.get_points()\n",
    "points5 = pos5.get_points()\n",
    "points5[0][1]=points4[1][1]\n",
    "pos5.set_points(points5)\n",
    "r6_k_hist.set_position(pos5)\n",
    "\n",
    "# slide top left histogram (r51) down to mesh with top of scatter (r53)\n",
    "pos4 = r7_lamda_sc_scatter.get_position()\n",
    "pos5 = r7_lamda_hist.get_position()\n",
    "points4 = pos4.get_points()\n",
    "points5 = pos5.get_points()\n",
    "points5[0][1]=points4[1][1]\n",
    "pos5.set_points(points5)\n",
    "r7_lamda_hist.set_position(pos5)\n",
    "\n",
    "# slide top right histogram (r52) down to mesh with top of right scatter (r55)\n",
    "pos4 = r7_k_zstar_scatter.get_position()\n",
    "pos5 = r7_k_hist.get_position()\n",
    "points4 = pos4.get_points()\n",
    "points5 = pos5.get_points()\n",
    "points5[0][1]=points4[1][1]\n",
    "pos5.set_points(points5)\n",
    "r7_k_hist.set_position(pos5)\n",
    "\n",
    "# slide top left histogram (r51) down to mesh with top of scatter (r53)\n",
    "pos4 = r8_lamda_sc_scatter.get_position()\n",
    "pos5 = r8_lamda_hist.get_position()\n",
    "points4 = pos4.get_points()\n",
    "points5 = pos5.get_points()\n",
    "points5[0][1]=points4[1][1]\n",
    "pos5.set_points(points5)\n",
    "r8_lamda_hist.set_position(pos5)\n",
    "\n",
    "# slide top right histogram (r52) down to mesh with top of right scatter (r55)\n",
    "pos4 = r8_k_zstar_scatter.get_position()\n",
    "pos5 = r8_k_hist.get_position()\n",
    "points4 = pos4.get_points()\n",
    "points5 = pos5.get_points()\n",
    "points5[0][1]=points4[1][1]\n",
    "pos5.set_points(points5)\n",
    "r8_k_hist.set_position(pos5)\n",
    "\n",
    "\n"
   ]
  },
  {
   "cell_type": "code",
   "execution_count": 26,
   "metadata": {},
   "outputs": [
    {
     "data": {
      "text/plain": [
       "Text(0.5, 1.0, 'log(misfit) [-]')"
      ]
     },
     "execution_count": 26,
     "metadata": {},
     "output_type": "execute_result"
    }
   ],
   "source": [
    "#colorbar\n",
    "#fig5.colorbar(cbar_mappable, cax=cax, orientation='vertical')\n",
    "cax = fig5.add_axes([0.78, 0.15, 0.03, 0.2])\n",
    "c = fig5.colorbar(cbar_mappable, cax = cax)\n",
    "c.ax.yaxis.set_visible(False)\n",
    "cax.text(1.1, 0.01, 'low', transform=cax.transAxes, fontsize=16)\n",
    "cax.text(1.1, 0.93, 'high', transform=cax.transAxes, fontsize=16)\n",
    "cax.set_title('log(misfit) [-]', fontsize=16)"
   ]
  },
  {
   "cell_type": "code",
   "execution_count": 27,
   "metadata": {},
   "outputs": [],
   "source": [
    "fig5.savefig('param_scatter_nl.png', dpi=1000, bbox_inches='tight', facecolor='white', transparent=False)"
   ]
  },
  {
   "cell_type": "code",
   "execution_count": null,
   "metadata": {},
   "outputs": [],
   "source": []
  },
  {
   "cell_type": "code",
   "execution_count": 28,
   "metadata": {},
   "outputs": [
    {
     "ename": "NameError",
     "evalue": "name 'dummy' is not defined",
     "output_type": "error",
     "traceback": [
      "\u001b[0;31m---------------------------------------------------------------------------\u001b[0m",
      "\u001b[0;31mNameError\u001b[0m                                 Traceback (most recent call last)",
      "\u001b[0;32m<ipython-input-28-ae6e536b04dc>\u001b[0m in \u001b[0;36m<module>\u001b[0;34m\u001b[0m\n\u001b[0;32m----> 1\u001b[0;31m \u001b[0mprint\u001b[0m\u001b[0;34m(\u001b[0m\u001b[0mstr\u001b[0m\u001b[0;34m(\u001b[0m\u001b[0mdummy\u001b[0m\u001b[0;34m)\u001b[0m\u001b[0;34m)\u001b[0m\u001b[0;34m\u001b[0m\u001b[0;34m\u001b[0m\u001b[0m\n\u001b[0m",
      "\u001b[0;31mNameError\u001b[0m: name 'dummy' is not defined"
     ]
    }
   ],
   "source": [
    "print(str(dummy))"
   ]
  },
  {
   "cell_type": "code",
   "execution_count": null,
   "metadata": {},
   "outputs": [],
   "source": [
    "# slide top left histogram (r51) down to mesh with top of scatter (r53)\n",
    "pos4 = r53.get_position()\n",
    "pos5 = r51.get_position()\n",
    "points4 = pos4.get_points()\n",
    "points5 = pos5.get_points()\n",
    "points5[0][1]=points4[1][1]\n",
    "pos5.set_points(points5)\n",
    "r51.set_position(pos5)\n",
    "\n",
    "# slide top right histogram (r52) down to mesh with top of right scatter (r55)\n",
    "pos4 = r55.get_position()\n",
    "pos5 = r52.get_position()\n",
    "points4 = pos4.get_points()\n",
    "points5 = pos5.get_points()\n",
    "points5[0][1]=points4[1][1]\n",
    "pos5.set_points(points5)\n",
    "r52.set_position(pos5)\n",
    "\n",
    "# slide middle left histogram (r41) down to mesh with top of scatter (r43)\n",
    "pos4 = r43.get_position()\n",
    "pos5 = r41.get_position()\n",
    "points4 = pos4.get_points()\n",
    "points5 = pos5.get_points()\n",
    "points5[0][1]=points4[1][1]\n",
    "pos5.set_points(points5)\n",
    "r41.set_position(pos5)\n",
    "\n",
    "# slide middle right histogram (r42) down to mesh with top of right scatter (r45)\n",
    "pos4 = r45.get_position()\n",
    "pos5 = r42.get_position()\n",
    "points4 = pos4.get_points()\n",
    "points5 = pos5.get_points()\n",
    "points5[0][1]=points4[1][1]\n",
    "pos5.set_points(points5)\n",
    "r42.set_position(pos5)\n",
    "\n",
    "# slide lower left histogram (r31) down to mesh with top of scatter (r33)\n",
    "pos4 = r33.get_position()\n",
    "pos5 = r31.get_position()\n",
    "points4 = pos4.get_points()\n",
    "points5 = pos5.get_points()\n",
    "points5[0][1]=points4[1][1]\n",
    "pos5.set_points(points5)\n",
    "r31.set_position(pos5)\n",
    "\n",
    "# slide lower right histogram (r32) down to mesh with top of right scatter (r35)\n",
    "pos4 = r35.get_position()\n",
    "pos5 = r32.get_position()\n",
    "points4 = pos4.get_points()\n",
    "points5 = pos5.get_points()\n",
    "points5[0][1]=points4[1][1]\n",
    "pos5.set_points(points5)\n",
    "r32.set_position(pos5)\n",
    "\n"
   ]
  },
  {
   "cell_type": "code",
   "execution_count": null,
   "metadata": {},
   "outputs": [],
   "source": []
  },
  {
   "cell_type": "code",
   "execution_count": null,
   "metadata": {},
   "outputs": [],
   "source": [
    "points4"
   ]
  },
  {
   "cell_type": "code",
   "execution_count": null,
   "metadata": {},
   "outputs": [],
   "source": [
    "#fig5.savefig('all_results.png', dpi=500, bbox_inches='tight')"
   ]
  },
  {
   "cell_type": "code",
   "execution_count": null,
   "metadata": {},
   "outputs": [],
   "source": []
  },
  {
   "cell_type": "code",
   "execution_count": null,
   "metadata": {},
   "outputs": [],
   "source": [
    "#now make another one that's just the pyABC results\n",
    "import pandas as pd\n",
    "\n",
    "#import and manage r5\n",
    "r5_all_output = pd.read_csv('../orange_section_R5/step2_params/step2_results_005.csv')\n",
    "#r3_all_output = pd.read_csv('../orange_section_R3/step2_params/step2_results_005.csv')\n",
    "\n",
    "r5_all_output = r5_all_output[r5_all_output.sumstat_name != 'params_for_record']\n",
    "r5_all_output = r5_all_output.drop(columns='Unnamed: 0')\n",
    "\n",
    "r5_all_output = r5_all_output.sort_values('distance')\n",
    "r5_all_output = r5_all_output.iloc[::-1]\n",
    "\n",
    "r5_lambdas = r5_all_output[r5_all_output['par_name'] == 'erode__travel_dist']['par_val']\n",
    "r5_ks = r5_all_output[r5_all_output['par_name'] == 'erode__k_factor']['par_val']\n",
    "r5_z0s = r5_all_output[r5_all_output['par_name'] == 'erode__k_depth_scale']['par_val']\n",
    "r5_scs = r5_all_output[r5_all_output['par_name'] == 'erode__s_crit']['par_val']\n",
    "r5_misfits = r5_all_output[r5_all_output['par_name'] == 'erode__travel_dist']['distance']"
   ]
  },
  {
   "cell_type": "code",
   "execution_count": null,
   "metadata": {},
   "outputs": [],
   "source": [
    "#import and manage r4\n",
    "\n",
    "r4_all_output = pd.read_csv('../orange_section_R4/step2_params/step2_results_003.csv')\n",
    "r4_all_output = r4_all_output[r4_all_output.sumstat_name != 'params_for_record']\n",
    "r4_all_output = r4_all_output.drop(columns='Unnamed: 0')\n",
    "\n",
    "r4_all_output = r4_all_output.sort_values('distance')\n",
    "r4_all_output = r4_all_output.iloc[::-1]\n",
    "\n",
    "r4_lambdas = r4_all_output[r4_all_output['par_name'] == 'erode__travel_dist']['par_val']\n",
    "r4_ks = r4_all_output[r4_all_output['par_name'] == 'erode__k_factor']['par_val']\n",
    "r4_z0s = r4_all_output[r4_all_output['par_name'] == 'erode__k_depth_scale']['par_val']\n",
    "r4_scs = r4_all_output[r4_all_output['par_name'] == 'erode__s_crit']['par_val']\n",
    "r4_misfits = r4_all_output[r4_all_output['par_name'] == 'erode__travel_dist']['distance']"
   ]
  },
  {
   "cell_type": "code",
   "execution_count": null,
   "metadata": {},
   "outputs": [],
   "source": [
    "#import and manage r3\n",
    "\n",
    "r3_all_output = pd.read_csv('../orange_section_R3/step2_params/step2_results_005.csv')\n",
    "r3_all_output = r3_all_output[r3_all_output.sumstat_name != 'params_for_record']\n",
    "r3_all_output = r3_all_output.drop(columns='Unnamed: 0')\n",
    "\n",
    "r3_all_output = r3_all_output.sort_values('distance')\n",
    "r3_all_output = r3_all_output.iloc[::-1]\n",
    "\n",
    "r3_lambdas = r3_all_output[r3_all_output['par_name'] == 'erode__travel_dist']['par_val']\n",
    "r3_ks = r3_all_output[r3_all_output['par_name'] == 'erode__k_factor']['par_val']\n",
    "r3_z0s = r3_all_output[r3_all_output['par_name'] == 'erode__k_depth_scale']['par_val']\n",
    "r3_scs = r3_all_output[r3_all_output['par_name'] == 'erode__s_crit']['par_val']\n",
    "r3_misfits = r3_all_output[r3_all_output['par_name'] == 'erode__travel_dist']['distance']"
   ]
  },
  {
   "cell_type": "code",
   "execution_count": null,
   "metadata": {},
   "outputs": [],
   "source": [
    "#set up the figure grid\n",
    "fig6 = plt.figure(figsize=(9,10))\n",
    "widths = [3, 0.75, 1, 3, 0.75]\n",
    "heights = [1, 5, 1, 5, 1, 5]\n",
    "spec6 = fig6.add_gridspec(ncols=5, nrows=6, width_ratios=widths,\n",
    "                          height_ratios=heights, wspace=0.0, hspace=0.025)"
   ]
  },
  {
   "cell_type": "code",
   "execution_count": null,
   "metadata": {},
   "outputs": [],
   "source": [
    "#first row: R5 top row\n",
    "r51 = fig6.add_subplot(spec5[0, 0]) #R5 k histogram\n",
    "#leave the next empty\n",
    "r52 = fig6.add_subplot(spec5[0, 3]) #R5 lamda histogram\n",
    "#leave the next empty\n",
    "\n",
    "#second row: r5 bottom row\n",
    "r53 = fig6.add_subplot(spec5[1, 0])\n",
    "r54 = fig6.add_subplot(spec5[1, 1])\n",
    "r55 = fig6.add_subplot(spec5[1, 3])\n",
    "r56 = fig6.add_subplot(spec5[1, 4])\n",
    "\n",
    "#third row: r4 top row\n",
    "r41 = fig6.add_subplot(spec5[2, 0]) #R5 k histogram\n",
    "#leave the next empty\n",
    "r42 = fig6.add_subplot(spec5[2, 3]) #R5 lamda histogram\n",
    "#leave the next empty\n",
    "\n",
    "#fourth row: r4 bottom row\n",
    "r43 = fig6.add_subplot(spec5[3, 0])\n",
    "r44 = fig6.add_subplot(spec5[3, 1])\n",
    "r45 = fig6.add_subplot(spec5[3, 3])\n",
    "r46 = fig6.add_subplot(spec5[3, 4])\n",
    "\n",
    "#fifth row: r3 top row\n",
    "r31 = fig6.add_subplot(spec5[4, 0]) #R5 k histogram\n",
    "#leave the next empty\n",
    "r32 = fig6.add_subplot(spec5[4, 3]) #R5 lamda histogram\n",
    "#leave the next empty\n",
    "\n",
    "#sixth row: r3 bottom row\n",
    "r33 = fig6.add_subplot(spec5[5, 0])\n",
    "r34 = fig6.add_subplot(spec5[5, 1])\n",
    "r35 = fig6.add_subplot(spec5[5, 3])\n",
    "r36 = fig6.add_subplot(spec5[5, 4])"
   ]
  },
  {
   "cell_type": "code",
   "execution_count": null,
   "metadata": {},
   "outputs": [],
   "source": [
    "#r5 plotting\n",
    "sns.kdeplot(r5_ks, ax= r51, color='k', legend=False) #k histogram\n",
    "r51.get_xaxis().set_ticks([])\n",
    "r51.get_yaxis().set_ticks([])\n",
    "r51.axis('off')\n",
    "#r51.spines['right'].set_visible(False)\n",
    "#r51.spines['top'].set_visible(False)\n",
    "\n",
    "sns.kdeplot(r5_lambdas, ax= r52, color='k', legend=False) #lamda histogram\n",
    "r52.get_xaxis().set_ticks([])\n",
    "r52.get_yaxis().set_ticks([])\n",
    "r52.axis('off')\n",
    "\n",
    "r53.scatter(r5_ks, r5_z0s, c = np.log(r5_misfits), s=10) #k, z* scatter\n",
    "r53.get_xaxis().set_ticks([])\n",
    "r53.set_ylabel('Erosion depth scale [m]')\n",
    "\n",
    "sns.kdeplot(r5_z0s, ax = r54, vertical=True, color='k', legend=False) #z* histogram\n",
    "r54.get_xaxis().set_ticks([])\n",
    "r54.get_yaxis().set_ticks([])\n",
    "r54.axis('off')\n",
    "\n",
    "r55.scatter(r5_lambdas, r5_scs, c = np.log(r5_misfits), s=10)#, vmin=0.5, vmax=2)\n",
    "r55.get_xaxis().set_ticks([])\n",
    "r55.set_ylabel('Critical slope [-]')\n",
    "\n",
    "\n",
    "sns.kdeplot(r5_all_params[:,3], ax = r56, vertical=True, color='k', legend=False) #sc histogram\n",
    "r56.get_xaxis().set_ticks([])\n",
    "r56.get_yaxis().set_ticks([])\n",
    "r56.axis('off')"
   ]
  },
  {
   "cell_type": "code",
   "execution_count": null,
   "metadata": {},
   "outputs": [],
   "source": [
    "#r4 plotting\n",
    "sns.kdeplot(r4_ks, ax= r41, color='k', legend=False) #k histogram\n",
    "r41.get_xaxis().set_ticks([])\n",
    "r41.get_yaxis().set_ticks([])\n",
    "r41.axis('off')\n",
    "\n",
    "sns.kdeplot(r4_lambdas, ax= r42, color='k', legend=False) #lamda histogram\n",
    "r42.get_xaxis().set_ticks([])\n",
    "r42.get_yaxis().set_ticks([])\n",
    "r42.axis('off')\n",
    "\n",
    "r43.scatter(r4_ks, r4_z0s, c = np.log(r4_misfits), s=10) #k, z* scatter\n",
    "r43.get_xaxis().set_ticks([])\n",
    "r43.set_ylabel('Erosion depth scale [m]')\n",
    "\n",
    "sns.kdeplot(r4_z0s, ax = r44, vertical=True, color='k', legend=False) #z* histogram\n",
    "r44.get_xaxis().set_ticks([])\n",
    "r44.get_yaxis().set_ticks([])\n",
    "r44.axis('off')\n",
    "\n",
    "r45.scatter(r4_lambdas, r4_scs, c = np.log(r4_misfits), s=10)#, vmin=0.5, vmax=2)\n",
    "r45.get_xaxis().set_ticks([])\n",
    "r45.set_ylabel('Critical slope [-]')\n",
    "\n",
    "\n",
    "sns.kdeplot(r4_scs, ax = r46, vertical=True, color='k', legend=False) #sc histogram\n",
    "r46.get_xaxis().set_ticks([])\n",
    "r46.get_yaxis().set_ticks([])\n",
    "r46.axis('off')"
   ]
  },
  {
   "cell_type": "code",
   "execution_count": null,
   "metadata": {},
   "outputs": [],
   "source": [
    "#r3 plotting\n",
    "sns.kdeplot(r3_ks, ax= r31, color='k', legend=False) #k histogram\n",
    "r31.get_xaxis().set_ticks([])\n",
    "r31.get_yaxis().set_ticks([])\n",
    "r31.axis('off')\n",
    "\n",
    "sns.kdeplot(r3_lambdas, ax= r32, color='k', legend=False) #lamda histogram\n",
    "r32.get_xaxis().set_ticks([])\n",
    "r32.get_yaxis().set_ticks([])\n",
    "r32.axis('off')\n",
    "\n",
    "r33.scatter(r3_ks, r3_z0s, c = np.log(r3_misfits), s=10) #k, z* scatter\n",
    "#r33.get_xaxis().set_ticks([])\n",
    "r33.set_ylabel('Erosion depth scale [m]')\n",
    "\n",
    "sns.kdeplot(r3_z0s, ax = r34, vertical=True, color='k', legend=False) #z* histogram\n",
    "r34.get_xaxis().set_ticks([])\n",
    "r34.get_yaxis().set_ticks([])\n",
    "r34.axis('off')\n",
    "\n",
    "r35.scatter(r3_lambdas, r3_scs, c = np.log(r3_misfits), s=10)#, vmin=0.5, vmax=2)\n",
    "#r35.get_xaxis().set_ticks([])\n",
    "r35.set_ylabel('Critical slope [-]')\n",
    "\n",
    "\n",
    "sns.kdeplot(r3_scs, ax = r36, vertical=True, color='k', legend=False) #sc histogram\n",
    "r36.get_xaxis().set_ticks([])\n",
    "r36.get_yaxis().set_ticks([])\n",
    "r36.axis('off')\n",
    "\n",
    "\n",
    "r33.set_xlabel('Erodibility [L/T]')\n",
    "r33.set_ylabel('Erosion depth scale [m]')\n",
    "\n",
    "r35.set_xlabel('Travel distance [m]')\n",
    "r35.set_ylabel('Critical slope [-]')\n"
   ]
  },
  {
   "cell_type": "code",
   "execution_count": null,
   "metadata": {},
   "outputs": [],
   "source": [
    "# slide top left histogram (r51) down to mesh with top of scatter (r53)\n",
    "pos4 = r53.get_position()\n",
    "pos5 = r51.get_position()\n",
    "points4 = pos4.get_points()\n",
    "points5 = pos5.get_points()\n",
    "points5[0][1]=points4[1][1]\n",
    "pos5.set_points(points5)\n",
    "r51.set_position(pos5)\n",
    "\n",
    "# slide top right histogram (r52) down to mesh with top of right scatter (r55)\n",
    "pos4 = r55.get_position()\n",
    "pos5 = r52.get_position()\n",
    "points4 = pos4.get_points()\n",
    "points5 = pos5.get_points()\n",
    "points5[0][1]=points4[1][1]\n",
    "pos5.set_points(points5)\n",
    "r52.set_position(pos5)\n",
    "\n",
    "# slide middle left histogram (r41) down to mesh with top of scatter (r43)\n",
    "pos4 = r43.get_position()\n",
    "pos5 = r41.get_position()\n",
    "points4 = pos4.get_points()\n",
    "points5 = pos5.get_points()\n",
    "points5[0][1]=points4[1][1]\n",
    "pos5.set_points(points5)\n",
    "r41.set_position(pos5)\n",
    "\n",
    "# slide middle right histogram (r42) down to mesh with top of right scatter (r45)\n",
    "pos4 = r45.get_position()\n",
    "pos5 = r42.get_position()\n",
    "points4 = pos4.get_points()\n",
    "points5 = pos5.get_points()\n",
    "points5[0][1]=points4[1][1]\n",
    "pos5.set_points(points5)\n",
    "r42.set_position(pos5)\n",
    "\n",
    "# slide lower left histogram (r31) down to mesh with top of scatter (r33)\n",
    "pos4 = r33.get_position()\n",
    "pos5 = r31.get_position()\n",
    "points4 = pos4.get_points()\n",
    "points5 = pos5.get_points()\n",
    "points5[0][1]=points4[1][1]\n",
    "pos5.set_points(points5)\n",
    "r31.set_position(pos5)\n",
    "\n",
    "# slide lower right histogram (r32) down to mesh with top of right scatter (r35)\n",
    "pos4 = r35.get_position()\n",
    "pos5 = r32.get_position()\n",
    "points4 = pos4.get_points()\n",
    "points5 = pos5.get_points()\n",
    "points5[0][1]=points4[1][1]\n",
    "pos5.set_points(points5)\n",
    "r32.set_position(pos5)"
   ]
  },
  {
   "cell_type": "code",
   "execution_count": null,
   "metadata": {},
   "outputs": [],
   "source": [
    "#fig6.savefig('pyabc_results.eps', dpi=1000, bbox_inches='tight')"
   ]
  },
  {
   "cell_type": "code",
   "execution_count": null,
   "metadata": {},
   "outputs": [],
   "source": []
  },
  {
   "cell_type": "code",
   "execution_count": null,
   "metadata": {},
   "outputs": [],
   "source": []
  }
 ],
 "metadata": {
  "kernelspec": {
   "display_name": "Python 3",
   "language": "python",
   "name": "python3"
  },
  "language_info": {
   "codemirror_mode": {
    "name": "ipython",
    "version": 3
   },
   "file_extension": ".py",
   "mimetype": "text/x-python",
   "name": "python",
   "nbconvert_exporter": "python",
   "pygments_lexer": "ipython3",
   "version": "3.7.10"
  }
 },
 "nbformat": 4,
 "nbformat_minor": 4
}
