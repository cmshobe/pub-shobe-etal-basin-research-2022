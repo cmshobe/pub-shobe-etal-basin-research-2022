{
 "cells": [
  {
   "cell_type": "markdown",
   "id": "a3d1f94e-2aac-44f3-b6d5-0e4060ea65ca",
   "metadata": {},
   "source": [
    "8-panel figure plotting surface only param values against multilayer param values versus 1:1 line"
   ]
  },
  {
   "cell_type": "code",
   "execution_count": 1,
   "id": "8e4f432e-cf76-452d-ac1c-df349557b23e",
   "metadata": {},
   "outputs": [],
   "source": [
    "import numpy as np\n",
    "from numpy import genfromtxt\n",
    "import matplotlib.pyplot as plt\n",
    "plt.rcParams.update({'font.size': 22})\n"
   ]
  },
  {
   "cell_type": "code",
   "execution_count": 2,
   "id": "494a8bfd-ee2f-4eb9-bcc3-7f5a9a98d6f2",
   "metadata": {},
   "outputs": [],
   "source": [
    "#nonlinear, multilayer model\n",
    "nl_ml_model_number_R1 = 'ml2'\n",
    "nl_ml_model_number_R3 = 'ml2'\n",
    "nl_ml_model_number_R4 = 'ml2'\n",
    "nl_ml_model_number_R5 = 'ml2'\n",
    "nl_ml_model_number_R6 = 'ml2'\n",
    "nl_ml_model_number_R7 = 'ml2'\n",
    "nl_ml_model_number_R8 = 'ml2'\n",
    "\n",
    "#nonlinear, surface-only model\n",
    "nl_model_number_R1 = '002'\n",
    "nl_model_number_R3 = '000'\n",
    "nl_model_number_R4 = '000'\n",
    "nl_model_number_R5 = '000'\n",
    "nl_model_number_R6 = '000'\n",
    "nl_model_number_R7 = '002'\n",
    "nl_model_number_R8 = '001'\n",
    "\n",
    "#linear, multilayer model\n",
    "ld_ml_model_number_R1 = 'ldml2'\n",
    "ld_ml_model_number_R3 = 'ldml2'\n",
    "ld_ml_model_number_R4 = 'ldml2'\n",
    "ld_ml_model_number_R5 = 'ldml2'\n",
    "ld_ml_model_number_R6 = 'ldml2'\n",
    "ld_ml_model_number_R7 = 'ldml2'\n",
    "ld_ml_model_number_R8 = 'ldml2'\n",
    "\n",
    "#linear, surface-only model\n",
    "ld_model_number_R1 = 'ld8'\n",
    "ld_model_number_R3 = 'ld8'\n",
    "ld_model_number_R4 = 'ld8'\n",
    "ld_model_number_R5 = 'ld8'\n",
    "ld_model_number_R6 = 'ld8'\n",
    "ld_model_number_R7 = 'ld8'\n",
    "ld_model_number_R8 = 'ld8'"
   ]
  },
  {
   "cell_type": "code",
   "execution_count": 3,
   "id": "fdff2f8b-6a4f-4092-adce-9ba3e330eb53",
   "metadata": {},
   "outputs": [],
   "source": [
    "#NONLINEAR MULTILAYER: import data from each one\n",
    "#import r1 results\n",
    "nl_ml_r1_all_params = genfromtxt('../orange_section_R1/step2_params/all_params_' + nl_ml_model_number_R1 + '.csv', delimiter=',')\n",
    "nl_ml_r1_all_output=nl_ml_r1_all_params[nl_ml_r1_all_params[:,-1].argsort()] #sort by misfit from best to worst fit\n",
    "\n",
    "#import r3 results\n",
    "nl_ml_r3_all_params = genfromtxt('../orange_section_R3/step2_params/all_params_' + nl_ml_model_number_R3 + '.csv', delimiter=',')\n",
    "nl_ml_r3_all_output=nl_ml_r3_all_params[nl_ml_r3_all_params[:,-1].argsort()] #sort by misfit\n",
    "\n",
    "#import r4 results\n",
    "nl_ml_r4_all_params = genfromtxt('../orange_section_R4/step2_params/all_params_' + nl_ml_model_number_R4 + '.csv', delimiter=',')\n",
    "nl_ml_r4_all_output=nl_ml_r4_all_params[nl_ml_r4_all_params[:,-1].argsort()] #sort by misfit from best to worst fit\n",
    "\n",
    "#import r5 results\n",
    "nl_ml_r5_all_params = genfromtxt('../orange_section_R5/step2_params/all_params_' + nl_ml_model_number_R5 + '.csv', delimiter=',')\n",
    "nl_ml_r5_all_output=nl_ml_r5_all_params[nl_ml_r5_all_params[:,-1].argsort()] #sort by misfit\n",
    "\n",
    "#import r6 results\n",
    "nl_ml_r6_all_params = genfromtxt('../orange_section_r6/step2_params/all_params_' + nl_ml_model_number_R6 + '.csv', delimiter=',')\n",
    "nl_ml_r6_all_output=nl_ml_r6_all_params[nl_ml_r6_all_params[:,-1].argsort()] #sort by misfit\n",
    "\n",
    "#import r7 results\n",
    "nl_ml_r7_all_params = genfromtxt('../orange_section_R7/step2_params/all_params_' + nl_ml_model_number_R7 + '.csv', delimiter=',')\n",
    "nl_ml_r7_all_output=nl_ml_r7_all_params[nl_ml_r7_all_params[:,-1].argsort()] #sort by misfit\n",
    "\n",
    "#import r8 results\n",
    "nl_ml_r8_all_params = genfromtxt('../orange_section_R8/step2_params/all_params_' + nl_ml_model_number_R8 + '.csv', delimiter=',')\n",
    "nl_ml_r8_all_output=nl_ml_r8_all_params[nl_ml_r8_all_params[:,-1].argsort()] #sort by misfit"
   ]
  },
  {
   "cell_type": "code",
   "execution_count": null,
   "id": "9d737d54-10d7-49cb-b4cd-32cbfafc0fb9",
   "metadata": {},
   "outputs": [],
   "source": []
  },
  {
   "cell_type": "code",
   "execution_count": 4,
   "id": "6e0bd451-d397-47b6-afc7-ef174eaa93fa",
   "metadata": {},
   "outputs": [],
   "source": [
    "#NONLINEAR SURFACE-ONLY: import data from each one\n",
    "#import r1 results\n",
    "nl_r1_all_params = genfromtxt('../orange_section_R1/step2_params/all_params_' + nl_model_number_R1 + '.csv', delimiter=',')\n",
    "nl_r1_all_output=nl_r1_all_params[nl_r1_all_params[:,-1].argsort()] #sort by misfit from best to worst fit\n",
    "\n",
    "#import r3 results\n",
    "nl_r3_all_params = genfromtxt('../orange_section_R3/step2_params/all_params_' + nl_model_number_R3 + '.csv', delimiter=',')\n",
    "nl_r3_all_output=nl_r3_all_params[nl_r3_all_params[:,-1].argsort()] #sort by misfit\n",
    "\n",
    "#import r4 results\n",
    "nl_r4_all_params = genfromtxt('../orange_section_R4/step2_params/all_params_' + nl_model_number_R4 + '.csv', delimiter=',')\n",
    "nl_r4_all_output=nl_r4_all_params[nl_r4_all_params[:,-1].argsort()] #sort by misfit from best to worst fit\n",
    "\n",
    "#import r5 results\n",
    "nl_r5_all_params = genfromtxt('../orange_section_R5/step2_params/all_params_' + nl_model_number_R5 + '.csv', delimiter=',')\n",
    "nl_r5_all_output=nl_r5_all_params[nl_r5_all_params[:,-1].argsort()] #sort by misfit\n",
    "\n",
    "#import r6 results\n",
    "nl_r6_all_params = genfromtxt('../orange_section_r6/step2_params/all_params_' + nl_model_number_R6 + '.csv', delimiter=',')\n",
    "nl_r6_all_output=nl_r6_all_params[nl_r6_all_params[:,-1].argsort()] #sort by misfit\n",
    "\n",
    "#import r7 results\n",
    "nl_r7_all_params = genfromtxt('../orange_section_R7/step2_params/all_params_' + nl_model_number_R7 + '.csv', delimiter=',')\n",
    "nl_r7_all_output=nl_r7_all_params[nl_r7_all_params[:,-1].argsort()] #sort by misfit\n",
    "\n",
    "#import r8 results\n",
    "nl_r8_all_params = genfromtxt('../orange_section_R8/step2_params/all_params_' + nl_model_number_R8 + '.csv', delimiter=',')\n",
    "nl_r8_all_output=nl_r8_all_params[nl_r8_all_params[:,-1].argsort()] #sort by misfit"
   ]
  },
  {
   "cell_type": "code",
   "execution_count": null,
   "id": "7ff2c9f6-fe08-4b9b-be0e-3464f6fee511",
   "metadata": {},
   "outputs": [],
   "source": []
  },
  {
   "cell_type": "code",
   "execution_count": null,
   "id": "4a94e515-0c0c-4aef-8f04-9160caf37077",
   "metadata": {},
   "outputs": [],
   "source": []
  },
  {
   "cell_type": "code",
   "execution_count": 5,
   "id": "458a9be5-b184-4808-8bd1-aec92ac703f3",
   "metadata": {},
   "outputs": [
    {
     "data": {
      "text/plain": [
       "[<matplotlib.lines.Line2D at 0x107188210>]"
      ]
     },
     "execution_count": 5,
     "metadata": {},
     "output_type": "execute_result"
    },
    {
     "data": {
      "image/png": "[encoded data removed]",
      "text/plain": [
       "<Figure size 432x288 with 1 Axes>"
      ]
     },
     "metadata": {
      "needs_background": "light"
     },
     "output_type": "display_data"
    }
   ],
   "source": [
    "plt.scatter(np.average(nl_ml_r1_all_output[0:50, 0]), np.average(nl_r1_all_output[0:50, 0]))\n",
    "plt.scatter(np.average(nl_ml_r3_all_output[0:50, 0]), np.average(nl_r3_all_output[0:50, 0]))\n",
    "plt.scatter(np.average(nl_ml_r4_all_output[0:50, 0]), np.average(nl_r4_all_output[0:50, 0]))\n",
    "plt.scatter(np.average(nl_ml_r5_all_output[0:50, 0]), np.average(nl_r5_all_output[0:50, 0]))\n",
    "plt.scatter(np.average(nl_ml_r6_all_output[0:50, 0]), np.average(nl_r6_all_output[0:50, 0]))\n",
    "plt.scatter(np.average(nl_ml_r7_all_output[0:50, 0]), np.average(nl_r7_all_output[0:50, 0]))\n",
    "plt.scatter(np.average(nl_ml_r8_all_output[0:50, 0]), np.average(nl_r8_all_output[0:50, 0]))\n",
    "plt.plot(np.arange(150000, 350000), np.arange(150000, 350000))\n"
   ]
  },
  {
   "cell_type": "code",
   "execution_count": null,
   "id": "212df310-4da9-49e9-9f06-5e42bbc28431",
   "metadata": {},
   "outputs": [],
   "source": []
  },
  {
   "cell_type": "code",
   "execution_count": 6,
   "id": "e54908d3-5d09-4641-a8d2-20657ed11fbb",
   "metadata": {},
   "outputs": [],
   "source": [
    "#LINEAR MULTILAYER: import data from each one\n",
    "#import r1 results\n",
    "ld_ml_r1_all_params = genfromtxt('../orange_section_R1/step2_params/all_params_' + ld_ml_model_number_R1 + '.csv', delimiter=',')\n",
    "ld_ml_r1_all_output=ld_ml_r1_all_params[ld_ml_r1_all_params[:,-1].argsort()] #sort by misfit from best to worst fit\n",
    "\n",
    "#import r3 results\n",
    "ld_ml_r3_all_params = genfromtxt('../orange_section_R3/step2_params/all_params_' + ld_ml_model_number_R3 + '.csv', delimiter=',')\n",
    "ld_ml_r3_all_output=ld_ml_r3_all_params[ld_ml_r3_all_params[:,-1].argsort()] #sort by misfit\n",
    "\n",
    "#import r4 results\n",
    "ld_ml_r4_all_params = genfromtxt('../orange_section_R4/step2_params/all_params_' + ld_ml_model_number_R4 + '.csv', delimiter=',')\n",
    "ld_ml_r4_all_output=ld_ml_r4_all_params[ld_ml_r4_all_params[:,-1].argsort()] #sort by misfit from best to worst fit\n",
    "\n",
    "#import r5 results\n",
    "ld_ml_r5_all_params = genfromtxt('../orange_section_R5/step2_params/all_params_' + ld_ml_model_number_R5 + '.csv', delimiter=',')\n",
    "ld_ml_r5_all_output=ld_ml_r5_all_params[ld_ml_r5_all_params[:,-1].argsort()] #sort by misfit\n",
    "\n",
    "#import r6 results\n",
    "ld_ml_r6_all_params = genfromtxt('../orange_section_r6/step2_params/all_params_' + ld_ml_model_number_R6 + '.csv', delimiter=',')\n",
    "ld_ml_r6_all_output=ld_ml_r6_all_params[ld_ml_r6_all_params[:,-1].argsort()] #sort by misfit\n",
    "\n",
    "#import r7 results\n",
    "ld_ml_r7_all_params = genfromtxt('../orange_section_R7/step2_params/all_params_' + ld_ml_model_number_R7 + '.csv', delimiter=',')\n",
    "ld_ml_r7_all_output=ld_ml_r7_all_params[ld_ml_r7_all_params[:,-1].argsort()] #sort by misfit\n",
    "\n",
    "#import r8 results\n",
    "ld_ml_r8_all_params = genfromtxt('../orange_section_R8/step2_params/all_params_' + ld_ml_model_number_R8 + '.csv', delimiter=',')\n",
    "ld_ml_r8_all_output=ld_ml_r8_all_params[ld_ml_r8_all_params[:,-1].argsort()] #sort by misfit"
   ]
  },
  {
   "cell_type": "code",
   "execution_count": 7,
   "id": "0f2ba0eb-7ff8-4ba1-a8c2-4b4f4fa4070a",
   "metadata": {},
   "outputs": [],
   "source": [
    "#LINEAR SURFACE-ONLY: import data from each one\n",
    "#import r1 results\n",
    "ld_r1_all_params = genfromtxt('../orange_section_R1/step2_params/all_params_' + ld_model_number_R1 + '.csv', delimiter=',')\n",
    "ld_r1_all_output=ld_r1_all_params[ld_r1_all_params[:,-1].argsort()] #sort by misfit from best to worst fit\n",
    "\n",
    "#import r3 results\n",
    "ld_r3_all_params = genfromtxt('../orange_section_R3/step2_params/all_params_' + ld_model_number_R3 + '.csv', delimiter=',')\n",
    "ld_r3_all_output=ld_r3_all_params[ld_r3_all_params[:,-1].argsort()] #sort by misfit\n",
    "\n",
    "#import r4 results\n",
    "ld_r4_all_params = genfromtxt('../orange_section_R4/step2_params/all_params_' + ld_model_number_R4 + '.csv', delimiter=',')\n",
    "ld_r4_all_output=ld_r4_all_params[ld_r4_all_params[:,-1].argsort()] #sort by misfit from best to worst fit\n",
    "\n",
    "#import r5 results\n",
    "ld_r5_all_params = genfromtxt('../orange_section_R5/step2_params/all_params_' + ld_model_number_R5 + '.csv', delimiter=',')\n",
    "ld_r5_all_output=ld_r5_all_params[ld_r5_all_params[:,-1].argsort()] #sort by misfit\n",
    "\n",
    "#import r6 results\n",
    "ld_r6_all_params = genfromtxt('../orange_section_r6/step2_params/all_params_' + ld_model_number_R6 + '.csv', delimiter=',')\n",
    "ld_r6_all_output=ld_r6_all_params[ld_r6_all_params[:,-1].argsort()] #sort by misfit\n",
    "\n",
    "#import r7 results\n",
    "ld_r7_all_params = genfromtxt('../orange_section_R7/step2_params/all_params_' + ld_model_number_R7 + '.csv', delimiter=',')\n",
    "ld_r7_all_output=ld_r7_all_params[ld_r7_all_params[:,-1].argsort()] #sort by misfit\n",
    "\n",
    "#import r8 results\n",
    "ld_r8_all_params = genfromtxt('../orange_section_R8/step2_params/all_params_' + ld_model_number_R8 + '.csv', delimiter=',')\n",
    "ld_r8_all_output=ld_r8_all_params[ld_r8_all_params[:,-1].argsort()] #sort by misfit"
   ]
  },
  {
   "cell_type": "code",
   "execution_count": 8,
   "id": "c74fccc9-f151-4e3e-aa12-7afb6953edc2",
   "metadata": {},
   "outputs": [
    {
     "data": {
      "text/plain": [
       "<Figure size 432x576 with 0 Axes>"
      ]
     },
     "metadata": {},
     "output_type": "display_data"
    }
   ],
   "source": [
    "%matplotlib inline\n",
    "from matplotlib import gridspec\n",
    "#set up the figure grid\n",
    "fig = plt.figure(figsize=(6,8))\n",
    "heights = [3, 3, 3, 3 ]\n",
    "widths = [6, 6]\n",
    "spec = fig.add_gridspec(ncols=len(widths), nrows=len(heights), width_ratios=widths,\n",
    "                          height_ratios=heights, wspace=0.3, hspace=0.3)"
   ]
  },
  {
   "cell_type": "code",
   "execution_count": 9,
   "id": "8d8823e4-0647-42dc-9f10-516d0df8ad59",
   "metadata": {},
   "outputs": [],
   "source": [
    "#plot frames\n",
    "nl_lamda = fig.add_subplot(spec[0, 0])\n",
    "#ld_lamda = fig.add_subplot(spec[0, 1])\n",
    "\n",
    "nl_sc = fig.add_subplot(spec[1, 0])\n",
    "#ld_sc = fig.add_subplot(spec[1, 1])\n",
    "\n",
    "nl_k = fig.add_subplot(spec[2, 0])\n",
    "ld_k = fig.add_subplot(spec[2, 1])\n",
    "\n",
    "nl_zstar = fig.add_subplot(spec[3, 0])\n",
    "ld_zstar = fig.add_subplot(spec[3, 1])\n"
   ]
  },
  {
   "cell_type": "code",
   "execution_count": 10,
   "id": "eed1d9d2-8aa6-4ffe-8d68-e1e5f5c346e5",
   "metadata": {},
   "outputs": [],
   "source": [
    "c1 = '#66c2a5'\n",
    "c3 = '#fc8d62'\n",
    "c4 = '#8da0cb'\n",
    "c5 = '#e78ac3'\n",
    "c6 = '#a6d854'\n",
    "c7 = '#ffd92f'\n",
    "c8 = '#e5c494'\n",
    "\n",
    "m1 = 'o'\n",
    "m3 = 'v'\n",
    "m4 = '^'\n",
    "m5 = 's'\n",
    "m6 = 'P'\n",
    "m7 = 'D'\n",
    "m8 = 'X'"
   ]
  },
  {
   "cell_type": "code",
   "execution_count": 11,
   "id": "6bb2f8c5-14e5-4937-90e1-1add7b4612de",
   "metadata": {},
   "outputs": [
    {
     "data": {
      "text/plain": [
       "Text(0, 0.5, 'Surface-only value')"
      ]
     },
     "execution_count": 11,
     "metadata": {},
     "output_type": "execute_result"
    }
   ],
   "source": [
    "#NONLINEAR LAMDA\n",
    "nl_lamda.set_title('Nonlocal, nonlinear model', pad = 10)\n",
    "\n",
    "\n",
    "nl_lamda.text(0.03, 0.75, 'A) Travel' + '\\n' + 'distance [m]', fontsize = 10, transform=nl_lamda.transAxes)\n",
    "\n",
    "nl_lamda.scatter(np.average(nl_ml_r1_all_output[0:50, 0]), np.average(nl_r1_all_output[0:50, 0]), color = c1, marker = m1)\n",
    "nl_lamda.scatter(np.average(nl_ml_r3_all_output[0:50, 0]), np.average(nl_r3_all_output[0:50, 0]), color = c3, marker = m3)\n",
    "nl_lamda.scatter(np.average(nl_ml_r4_all_output[0:50, 0]), np.average(nl_r4_all_output[0:50, 0]), color = c4, marker = m4)\n",
    "nl_lamda.scatter(np.average(nl_ml_r5_all_output[0:50, 0]), np.average(nl_r5_all_output[0:50, 0]), color = c5, marker = m5)\n",
    "nl_lamda.scatter(np.average(nl_ml_r6_all_output[0:50, 0]), np.average(nl_r6_all_output[0:50, 0]), color = c6, marker = m6)\n",
    "nl_lamda.scatter(np.average(nl_ml_r7_all_output[0:50, 0]), np.average(nl_r7_all_output[0:50, 0]), color = c7, marker = m7)\n",
    "nl_lamda.scatter(np.average(nl_ml_r8_all_output[0:50, 0]), np.average(nl_r8_all_output[0:50, 0]), color = c8, marker = m8)\n",
    "nl_lamda.plot(np.arange(150000, 350000), np.arange(150000, 350000), color = 'k', linewidth = 3)\n",
    "\n",
    "nl_lamda.set_ylabel('Surface-only value')\n",
    "\n"
   ]
  },
  {
   "cell_type": "code",
   "execution_count": 12,
   "id": "5ce40bf8-4f10-4134-9954-163cfc512fc6",
   "metadata": {},
   "outputs": [
    {
     "data": {
      "text/plain": [
       "<matplotlib.legend.Legend at 0x1170be250>"
      ]
     },
     "execution_count": 12,
     "metadata": {},
     "output_type": "execute_result"
    }
   ],
   "source": [
    "#NONLINEAR Sc\n",
    "\n",
    "nl_sc.text(0.03, 0.75, 'B) Critical' + '\\n' + 'slope [-]', fontsize = 10, transform=nl_sc.transAxes)\n",
    "\n",
    "\n",
    "param_index = -2\n",
    "nl_sc.scatter(np.average(nl_ml_r1_all_output[0:50, param_index]), np.average(nl_r1_all_output[0:50, param_index]), color = c1, label = '1', marker = m1)\n",
    "nl_sc.scatter(np.average(nl_ml_r3_all_output[0:50, param_index]), np.average(nl_r3_all_output[0:50, param_index]), color = c3, label = '3', marker = m3)\n",
    "nl_sc.scatter(np.average(nl_ml_r4_all_output[0:50, param_index]), np.average(nl_r4_all_output[0:50, param_index]), color = c4, label = '4', marker = m4)\n",
    "nl_sc.scatter(np.average(nl_ml_r5_all_output[0:50, param_index]), np.average(nl_r5_all_output[0:50, param_index]), color = c5, label = '5', marker = m5)\n",
    "nl_sc.scatter(np.average(nl_ml_r6_all_output[0:50, param_index]), np.average(nl_r6_all_output[0:50, param_index]), color = c6, label = '6', marker = m6)\n",
    "nl_sc.scatter(np.average(nl_ml_r7_all_output[0:50, param_index]), np.average(nl_r7_all_output[0:50, param_index]), color = c7, label = '7', marker = m7)\n",
    "nl_sc.scatter(np.average(nl_ml_r8_all_output[0:50, param_index]), np.average(nl_r8_all_output[0:50, param_index]), color = c8, label = '8', marker = m8)\n",
    "nl_sc.plot(np.arange(0, 0.2, 0.001), np.arange(0, 0.2, 0.001), color = 'k', linewidth = 3)\n",
    "\n",
    "nl_sc.set_ylabel('Surface-only value')\n",
    "\n",
    "nl_sc.legend(bbox_to_anchor=(1.5,0.5), loc=\"lower left\", title='Section')\n"
   ]
  },
  {
   "cell_type": "code",
   "execution_count": 13,
   "id": "4fc22b46-e1cf-44d7-89b5-4070d4b651df",
   "metadata": {},
   "outputs": [
    {
     "data": {
      "text/plain": [
       "Text(0, 0.5, 'Surface-only value')"
      ]
     },
     "execution_count": 13,
     "metadata": {},
     "output_type": "execute_result"
    }
   ],
   "source": [
    "#NONLINEAR K0\n",
    "\n",
    "nl_k.text(0.03, 0.85, 'C) Erodibility [m/yr]', fontsize = 10, transform=nl_k.transAxes)\n",
    "\n",
    "\n",
    "param_index = 1\n",
    "nl_k.scatter(np.average(nl_ml_r1_all_output[0:50, param_index]), np.average(nl_r1_all_output[0:50, param_index]), color = c1, marker = m1)\n",
    "nl_k.scatter(np.average(nl_ml_r3_all_output[0:50, param_index]), np.average(nl_r3_all_output[0:50, param_index]), color = c3, marker = m3)\n",
    "nl_k.scatter(np.average(nl_ml_r4_all_output[0:50, param_index]), np.average(nl_r4_all_output[0:50, param_index]), color = c4, marker = m4)\n",
    "nl_k.scatter(np.average(nl_ml_r5_all_output[0:50, param_index]), np.average(nl_r5_all_output[0:50, param_index]), color = c5, marker = m5)\n",
    "nl_k.scatter(np.average(nl_ml_r6_all_output[0:50, param_index]), np.average(nl_r6_all_output[0:50, param_index]), color = c6, marker = m6)\n",
    "nl_k.scatter(np.average(nl_ml_r7_all_output[0:50, param_index]), np.average(nl_r7_all_output[0:50, param_index]), color = c7, marker = m7)\n",
    "nl_k.scatter(np.average(nl_ml_r8_all_output[0:50, param_index]), np.average(nl_r8_all_output[0:50, param_index]), color = c8, marker = m8)\n",
    "nl_k.plot(np.arange(-3, 2, 0.001), np.arange(-3, 2, 0.001), color = 'k', linewidth = 3)\n",
    "\n",
    "nl_k.set_ylabel('Surface-only value')\n",
    "\n"
   ]
  },
  {
   "cell_type": "code",
   "execution_count": 14,
   "id": "c43bb38a-ae7b-421d-ace0-9fd191370c4f",
   "metadata": {},
   "outputs": [
    {
     "data": {
      "text/plain": [
       "Text(0, 0.5, 'Surface-only value')"
      ]
     },
     "execution_count": 14,
     "metadata": {},
     "output_type": "execute_result"
    }
   ],
   "source": [
    "#NONLINEAR ZSTAR\n",
    "\n",
    "nl_zstar.text(0.03, 0.6, 'D) Erosion' + '\\n' + 'depth' + '\\n' + 'scale [m]', fontsize = 10, transform=nl_zstar.transAxes)\n",
    "\n",
    "\n",
    "param_index = 2\n",
    "nl_zstar.scatter(np.average(nl_ml_r1_all_output[0:50, param_index]), np.average(nl_r1_all_output[0:50, param_index]), color = c1, marker = m1)\n",
    "nl_zstar.scatter(np.average(nl_ml_r3_all_output[0:50, param_index]), np.average(nl_r3_all_output[0:50, param_index]), color = c3, marker = m3)\n",
    "nl_zstar.scatter(np.average(nl_ml_r4_all_output[0:50, param_index]), np.average(nl_r4_all_output[0:50, param_index]), color = c4, marker = m4)\n",
    "nl_zstar.scatter(np.average(nl_ml_r5_all_output[0:50, param_index]), np.average(nl_r5_all_output[0:50, param_index]), color = c5, marker = m5)\n",
    "nl_zstar.scatter(np.average(nl_ml_r6_all_output[0:50, param_index]), np.average(nl_r6_all_output[0:50, param_index]), color = c6, marker = m6)\n",
    "nl_zstar.scatter(np.average(nl_ml_r7_all_output[0:50, param_index]), np.average(nl_r7_all_output[0:50, param_index]), color = c7, marker = m7)\n",
    "nl_zstar.scatter(np.average(nl_ml_r8_all_output[0:50, param_index]), np.average(nl_r8_all_output[0:50, param_index]), color = c8, marker = m8)\n",
    "nl_zstar.plot(np.arange(0, 200, 1), np.arange(0, 200, 1), color = 'k', linewidth = 3)\n",
    "\n",
    "nl_zstar.set_xlabel('Multiple-reflector value')\n",
    "nl_zstar.set_ylabel('Surface-only value')\n",
    "\n",
    "\n"
   ]
  },
  {
   "cell_type": "code",
   "execution_count": 15,
   "id": "5f464f7a-9e03-4b15-ad74-a8a9496b7ff2",
   "metadata": {},
   "outputs": [
    {
     "data": {
      "text/plain": [
       "[<matplotlib.lines.Line2D at 0x116503e90>]"
      ]
     },
     "execution_count": 15,
     "metadata": {},
     "output_type": "execute_result"
    }
   ],
   "source": [
    "#LINEAR K0\n",
    "\n",
    "ld_k.set_title('Local, linear model', pad = 10)\n",
    "ld_k.text(0.03, 0.85, 'E) Erodibility [m/yr]', fontsize = 10, transform=ld_k.transAxes)\n",
    "\n",
    "\n",
    "\n",
    "param_index = 0\n",
    "ld_k.scatter(np.average(ld_ml_r1_all_output[0:50, param_index]), np.average(ld_r1_all_output[0:50, param_index]), color = c1, marker = m1)\n",
    "ld_k.scatter(np.average(ld_ml_r3_all_output[0:50, param_index]), np.average(ld_r3_all_output[0:50, param_index]), color = c3, marker = m3)\n",
    "ld_k.scatter(np.average(ld_ml_r4_all_output[0:50, param_index]), np.average(ld_r4_all_output[0:50, param_index]), color = c4, marker = m4)\n",
    "ld_k.scatter(np.average(ld_ml_r5_all_output[0:50, param_index]), np.average(ld_r5_all_output[0:50, param_index]), color = c5, marker = m5)\n",
    "ld_k.scatter(np.average(ld_ml_r6_all_output[0:50, param_index]), np.average(ld_r6_all_output[0:50, param_index]), color = c6, marker = m6)\n",
    "ld_k.scatter(np.average(ld_ml_r7_all_output[0:50, param_index]), np.average(ld_r7_all_output[0:50, param_index]), color = c7, marker = m7)\n",
    "ld_k.scatter(np.average(ld_ml_r8_all_output[0:50, param_index]), np.average(ld_r8_all_output[0:50, param_index]), color = c8, marker = m8)\n",
    "ld_k.plot(np.arange(-3, 2, 0.001), np.arange(-3, 2, 0.001), color = 'k', linewidth = 3)\n",
    "\n",
    "\n"
   ]
  },
  {
   "cell_type": "code",
   "execution_count": 16,
   "id": "3f983445-4740-4a08-8145-f9f4f5f8264e",
   "metadata": {},
   "outputs": [
    {
     "data": {
      "text/plain": [
       "Text(0.5, 0, 'Multiple-reflector value')"
      ]
     },
     "execution_count": 16,
     "metadata": {},
     "output_type": "execute_result"
    }
   ],
   "source": [
    "#LINEAR ZSTAR\n",
    "ld_zstar.text(0.03, 0.58, 'F) Erosion' + '\\n' + 'depth' + '\\n' + 'scale [m]', fontsize = 10, transform=ld_zstar.transAxes)\n",
    "\n",
    "\n",
    "\n",
    "param_index = 1\n",
    "ld_zstar.scatter(np.average(ld_ml_r1_all_output[0:50, param_index]), np.average(ld_r1_all_output[0:50, param_index]), color = c1, marker = m1)\n",
    "ld_zstar.scatter(np.average(ld_ml_r3_all_output[0:50, param_index]), np.average(ld_r3_all_output[0:50, param_index]), color = c3, marker = m3)\n",
    "ld_zstar.scatter(np.average(ld_ml_r4_all_output[0:50, param_index]), np.average(ld_r4_all_output[0:50, param_index]), color = c4, marker = m4)\n",
    "ld_zstar.scatter(np.average(ld_ml_r5_all_output[0:50, param_index]), np.average(ld_r5_all_output[0:50, param_index]), color = c5, marker = m5)\n",
    "ld_zstar.scatter(np.average(ld_ml_r6_all_output[0:50, param_index]), np.average(ld_r6_all_output[0:50, param_index]), color = c6, marker = m6)\n",
    "ld_zstar.scatter(np.average(ld_ml_r7_all_output[0:50, param_index]), np.average(ld_r7_all_output[0:50, param_index]), color = c7, marker = m7)\n",
    "ld_zstar.scatter(np.average(ld_ml_r8_all_output[0:50, param_index]), np.average(ld_r8_all_output[0:50, param_index]), color = c8, marker = m8)\n",
    "ld_zstar.plot(np.arange(0, 40000, 1), np.arange(0, 40000, 1), color = 'k', linewidth = 3)\n",
    "\n",
    "ld_zstar.set_xlabel('Multiple-reflector value')\n",
    "\n"
   ]
  },
  {
   "cell_type": "code",
   "execution_count": null,
   "id": "ed77eca3-bae5-497f-adf8-4b8a124b7b9b",
   "metadata": {},
   "outputs": [],
   "source": []
  },
  {
   "cell_type": "code",
   "execution_count": 17,
   "id": "107c744b-3e9c-405e-acc2-7f38ca0536e6",
   "metadata": {},
   "outputs": [],
   "source": [
    "fig.savefig('ml_versus_surface_param_scatter_rev1.png', dpi=1000, bbox_inches='tight', facecolor='white', transparent=False)"
   ]
  }
 ],
 "metadata": {
  "kernelspec": {
   "display_name": "Python 3",
   "language": "python",
   "name": "python3"
  },
  "language_info": {
   "codemirror_mode": {
    "name": "ipython",
    "version": 3
   },
   "file_extension": ".py",
   "mimetype": "text/x-python",
   "name": "python",
   "nbconvert_exporter": "python",
   "pygments_lexer": "ipython3",
   "version": "3.7.10"
  }
 },
 "nbformat": 4,
 "nbformat_minor": 5
}
