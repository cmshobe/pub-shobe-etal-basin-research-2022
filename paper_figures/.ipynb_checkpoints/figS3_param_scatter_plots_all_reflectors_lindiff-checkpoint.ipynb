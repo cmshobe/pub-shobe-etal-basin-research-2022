{
 "cells": [
  {
   "cell_type": "markdown",
   "metadata": {},
   "source": [
    "#### Script to produce Figure S3 in Shobe et al. (2022; _Basin Research_): Scatter plots showing convergence of the inversion algorithm, using the local, linear model, to best-fit parameter values when using all seismic reflectors to calculate model-data misfit."
   ]
  },
  {
   "cell_type": "code",
   "execution_count": 1,
   "metadata": {},
   "outputs": [],
   "source": [
    "import numpy as np\n",
    "from numpy import genfromtxt\n",
    "import matplotlib.pyplot as plt\n",
    "import seaborn as sns\n",
    "import matplotlib.colors as colors\n",
    "from matplotlib import gridspec"
   ]
  },
  {
   "cell_type": "markdown",
   "metadata": {},
   "source": [
    "Import the results from each seismic section. Results consist of a csv file containing parameter values and misfit values."
   ]
  },
  {
   "cell_type": "code",
   "execution_count": 3,
   "metadata": {},
   "outputs": [],
   "source": [
    "#Define which inversion run will be used to make the figure\n",
    "#(values pre-filled here were used to produce the figures in the paper)\n",
    "model_number_R1 = 'ldml2'\n",
    "model_number_R3 = 'ldml2'\n",
    "model_number_R4 = 'ldml2'\n",
    "model_number_R5 = 'ldml2'\n",
    "model_number_R6 = 'ldml2'\n",
    "model_number_R7 = 'ldml2'\n",
    "model_number_R8 = 'ldml2'\n",
    "\n",
    "#import r1 results\n",
    "r1_all_params = genfromtxt('../orange_section_R1/step2_params/all_params_' + model_number_R1 + '.csv', delimiter=',')\n",
    "r1_all_output=r1_all_params[r1_all_params[:,-1].argsort()] #sort by misfit from best to worst fit\n",
    "\n",
    "#import r3 results\n",
    "r3_all_params = genfromtxt('../orange_section_R3/step2_params/all_params_' + model_number_R3 + '.csv', delimiter=',')\n",
    "r3_all_output=r3_all_params[r3_all_params[:,-1].argsort()] #sort by misfit\n",
    "\n",
    "#import r4 results\n",
    "r4_all_params = genfromtxt('../orange_section_R4/step2_params/all_params_' + model_number_R4 + '.csv', delimiter=',')\n",
    "r4_all_output=r4_all_params[r4_all_params[:,-1].argsort()] #sort by misfit from best to worst fit\n",
    "\n",
    "#import r5 results\n",
    "r5_all_params = genfromtxt('../orange_section_R5/step2_params/all_params_' + model_number_R5 + '.csv', delimiter=',')\n",
    "r5_all_output=r5_all_params[r5_all_params[:,-1].argsort()] #sort by misfit\n",
    "\n",
    "#import r6 results\n",
    "r6_all_params = genfromtxt('../orange_section_r6/step2_params/all_params_' + model_number_R6 + '.csv', delimiter=',')\n",
    "r6_all_output=r6_all_params[r6_all_params[:,-1].argsort()] #sort by misfit\n",
    "\n",
    "#import r7 results\n",
    "r7_all_params = genfromtxt('../orange_section_R7/step2_params/all_params_' + model_number_R7 + '.csv', delimiter=',')\n",
    "r7_all_output=r7_all_params[r7_all_params[:,-1].argsort()] #sort by misfit\n",
    "\n",
    "#import r8 results\n",
    "r8_all_params = genfromtxt('../orange_section_R8/step2_params/all_params_' + model_number_R8 + '.csv', delimiter=',')\n",
    "r8_all_output=r8_all_params[r8_all_params[:,-1].argsort()] #sort by misfit"
   ]
  },
  {
   "cell_type": "markdown",
   "metadata": {},
   "source": [
    "Set up the figure"
   ]
  },
  {
   "cell_type": "code",
   "execution_count": 7,
   "metadata": {},
   "outputs": [
    {
     "data": {
      "text/plain": [
       "<Figure size 1080x432 with 0 Axes>"
      ]
     },
     "metadata": {},
     "output_type": "display_data"
    }
   ],
   "source": [
    "%matplotlib inline\n",
    "from matplotlib import gridspec\n",
    "#set up the figure grid\n",
    "figs3 = plt.figure(figsize=(15,6))\n",
    "widths = [3, 0.75, 1, 3, 0.75, 1, 3, 0.75, 1, 3, 0.75]\n",
    "heights = [1, 5, 1.5, 1, 5]\n",
    "spec5 = figs3.add_gridspec(ncols=len(widths), nrows=len(heights), width_ratios=widths,\n",
    "                          height_ratios=heights, wspace=0.0, hspace=0.025)"
   ]
  },
  {
   "cell_type": "code",
   "execution_count": 13,
   "metadata": {},
   "outputs": [],
   "source": [
    "#####first two columns: r1 subplot frames\n",
    "#k and zstar plot\n",
    "r1_k_hist = figs3.add_subplot(spec5[0, 0])\n",
    "r1_k_zstar_scatter = figs3.add_subplot(spec5[1, 0])\n",
    "r1_zstar_hist = figs3.add_subplot(spec5[1, 1])\n",
    "\n",
    "#####second two columns: r3 subplot frames\n",
    "#k and zstar plot\n",
    "r3_k_hist = figs3.add_subplot(spec5[0, 3])\n",
    "r3_k_zstar_scatter = figs3.add_subplot(spec5[1, 3])\n",
    "r3_zstar_hist = figs3.add_subplot(spec5[1, 4])\n",
    "\n",
    "#####third two columns: r4 subplot frames\n",
    "#k and zstar plot\n",
    "r4_k_hist = figs3.add_subplot(spec5[0, 6])\n",
    "r4_k_zstar_scatter = figs3.add_subplot(spec5[1, 6])\n",
    "r4_zstar_hist = figs3.add_subplot(spec5[1, 7])\n",
    "\n",
    "#####fourth two columns: r5 subplot frames\n",
    "#k and zstar plot\n",
    "r5_k_hist = figs3.add_subplot(spec5[0, 9])\n",
    "r5_k_zstar_scatter = figs3.add_subplot(spec5[1, 9])\n",
    "r5_zstar_hist = figs3.add_subplot(spec5[1, 10])\n",
    "\n",
    "#####fifth two columns: r6 subplot frames\n",
    "#k and zstar plot\n",
    "r6_k_hist = figs3.add_subplot(spec5[3, 0])\n",
    "r6_k_zstar_scatter = figs3.add_subplot(spec5[4, 0])\n",
    "r6_zstar_hist = figs3.add_subplot(spec5[4, 1])\n",
    "\n",
    "#####sixth two columns: r7 subplot frames\n",
    "#k and zstar plot\n",
    "r7_k_hist = figs3.add_subplot(spec5[3, 3])\n",
    "r7_k_zstar_scatter = figs3.add_subplot(spec5[4, 3])\n",
    "r7_zstar_hist = figs3.add_subplot(spec5[4, 4])\n",
    "\n",
    "#####seventh two columns: r8 subplot frames\n",
    "#k and zstar plot\n",
    "r8_k_hist = figs3.add_subplot(spec5[3, 6])\n",
    "r8_k_zstar_scatter = figs3.add_subplot(spec5[4, 6])\n",
    "r8_zstar_hist = figs3.add_subplot(spec5[4, 7])"
   ]
  },
  {
   "cell_type": "markdown",
   "metadata": {},
   "source": [
    "Find minimum and maximum misfit values for scaling misfit colorbar"
   ]
  },
  {
   "cell_type": "code",
   "execution_count": 14,
   "metadata": {},
   "outputs": [],
   "source": [
    "r1_min = np.min((r1_all_output[:,-1][::-1]))\n",
    "r1_max = np.max((r1_all_output[:,-1][::-1]))\n",
    "\n",
    "r3_min = np.min((r3_all_output[:,-1][::-1]))\n",
    "r3_max = np.max((r3_all_output[:,-1][::-1]))\n",
    "\n",
    "r4_min = np.min((r4_all_output[:,-1][::-1]))\n",
    "r4_max = np.max((r4_all_output[:,-1][::-1]))\n",
    "\n",
    "r5_min = np.min((r5_all_output[:,-1][::-1]))\n",
    "r5_max = np.max((r5_all_output[:,-1][::-1]))\n",
    "\n",
    "r6_min = np.min((r6_all_output[:,-1][::-1]))\n",
    "r6_max = np.max((r6_all_output[:,-1][::-1]))\n",
    "\n",
    "r7_min = np.min((r7_all_output[:,-1][::-1]))\n",
    "r7_max = np.max((r7_all_output[:,-1][::-1]))\n",
    "\n",
    "r8_min = np.min((r8_all_output[:,-1][::-1]))\n",
    "r8_max = np.max((r8_all_output[:,-1][::-1]))"
   ]
  },
  {
   "cell_type": "markdown",
   "metadata": {},
   "source": [
    "Plot section 1 results"
   ]
  },
  {
   "cell_type": "code",
   "execution_count": 16,
   "metadata": {},
   "outputs": [
    {
     "name": "stderr",
     "output_type": "stream",
     "text": [
      "//anaconda3/lib/python3.7/site-packages/seaborn/distributions.py:1647: FutureWarning: The `vertical` parameter is deprecated and will be removed in a future version. Assign the data to the `y` variable instead.\n",
      "  warnings.warn(msg, FutureWarning)\n"
     ]
    },
    {
     "data": {
      "text/plain": [
       "(0.0, 0.00010204446775671211, -8018.888662568513, 48020.051350744354)"
      ]
     },
     "execution_count": 16,
     "metadata": {},
     "output_type": "execute_result"
    }
   ],
   "source": [
    "sns.kdeplot(r1_all_params[:,0], ax= r1_k_hist, color='k') #k histogram\n",
    "r1_k_hist.get_xaxis().set_ticks([])\n",
    "r1_k_hist.get_yaxis().set_ticks([])\n",
    "r1_k_hist.axis('off')\n",
    "\n",
    "r1_k_zstar_scatter.scatter(r1_all_output[:, 0][::-1], r1_all_output[:, 1][::-1], \n",
    "                           c = (r1_all_output[:,-1][::-1]),  \n",
    "                           norm=colors.LogNorm(vmin=r1_min, vmax=r1_min + (r1_max - r1_min)/10),\n",
    "                            cmap='viridis', s = 2)\n",
    "\n",
    "r1_k_zstar_scatter.set_xlabel('log(Erodibility [m/yr])')\n",
    "r1_k_zstar_scatter.set_ylabel('Erosion depth scale [m]')\n",
    "\n",
    "sns.kdeplot(r1_all_params[:,1], ax = r1_zstar_hist, vertical=True, color='k') #z* histogram\n",
    "r1_zstar_hist.get_xaxis().set_ticks([])\n",
    "r1_zstar_hist.get_yaxis().set_ticks([])\n",
    "r1_zstar_hist.axis('off')"
   ]
  },
  {
   "cell_type": "markdown",
   "metadata": {},
   "source": [
    "Plot section 3 results"
   ]
  },
  {
   "cell_type": "code",
   "execution_count": 17,
   "metadata": {},
   "outputs": [
    {
     "name": "stderr",
     "output_type": "stream",
     "text": [
      "//anaconda3/lib/python3.7/site-packages/seaborn/distributions.py:1647: FutureWarning: The `vertical` parameter is deprecated and will be removed in a future version. Assign the data to the `y` variable instead.\n",
      "  warnings.warn(msg, FutureWarning)\n"
     ]
    },
    {
     "data": {
      "text/plain": [
       "(0.0, 0.00011287139431262832, -7343.665845209883, 47626.333802798246)"
      ]
     },
     "execution_count": 17,
     "metadata": {},
     "output_type": "execute_result"
    }
   ],
   "source": [
    "sns.kdeplot(r3_all_params[:,0], ax= r3_k_hist, color='k') #k histogram\n",
    "r3_k_hist.get_xaxis().set_ticks([])\n",
    "r3_k_hist.get_yaxis().set_ticks([])\n",
    "r3_k_hist.axis('off')\n",
    "\n",
    "r3_k_zstar_scatter.scatter(r3_all_output[:, 0][::-1], r3_all_output[:, 1][::-1], \n",
    "                           c = (r3_all_output[:,-1][::-1]),  \n",
    "                           norm=colors.LogNorm(vmin=r3_min, vmax=r3_min + (r3_max - r3_min)/10),\n",
    "                            cmap='viridis', s = 2)\n",
    "r3_k_zstar_scatter.set_xlabel('log(Erodibility [m/yr])')\n",
    "\n",
    "sns.kdeplot(r3_all_params[:,1], ax = r3_zstar_hist, vertical=True, color='k') #z* histogram\n",
    "r3_zstar_hist.get_xaxis().set_ticks([])\n",
    "r3_zstar_hist.get_yaxis().set_ticks([])\n",
    "r3_zstar_hist.axis('off')"
   ]
  },
  {
   "cell_type": "markdown",
   "metadata": {},
   "source": [
    "Plot section 4 results"
   ]
  },
  {
   "cell_type": "code",
   "execution_count": 18,
   "metadata": {},
   "outputs": [
    {
     "name": "stderr",
     "output_type": "stream",
     "text": [
      "//anaconda3/lib/python3.7/site-packages/seaborn/distributions.py:1647: FutureWarning: The `vertical` parameter is deprecated and will be removed in a future version. Assign the data to the `y` variable instead.\n",
      "  warnings.warn(msg, FutureWarning)\n"
     ]
    },
    {
     "data": {
      "text/plain": [
       "(0.0, 7.063312130228244e-05, -8353.273373701099, 48620.271564065915)"
      ]
     },
     "execution_count": 18,
     "metadata": {},
     "output_type": "execute_result"
    }
   ],
   "source": [
    "sns.kdeplot(r4_all_params[:,0], ax= r4_k_hist, color='k') #k histogram\n",
    "r4_k_hist.get_xaxis().set_ticks([])\n",
    "r4_k_hist.get_yaxis().set_ticks([])\n",
    "r4_k_hist.axis('off')\n",
    "\n",
    "r4_k_zstar_scatter.scatter(r4_all_output[:, 0][::-1], r4_all_output[:, 1][::-1], \n",
    "                           c = (r4_all_output[:,-1][::-1]),  \n",
    "                           norm=colors.LogNorm(vmin=r4_min, vmax=r4_min + (r4_max - r4_min)/10),\n",
    "                            cmap='viridis', s = 2)\n",
    "r4_k_zstar_scatter.set_xlabel('log(Erodibility [m/yr])')\n",
    "\n",
    "sns.kdeplot(r4_all_params[:,1], ax = r4_zstar_hist, vertical=True, color='k') #z* histogram\n",
    "r4_zstar_hist.get_xaxis().set_ticks([])\n",
    "r4_zstar_hist.get_yaxis().set_ticks([])\n",
    "r4_zstar_hist.axis('off')"
   ]
  },
  {
   "cell_type": "markdown",
   "metadata": {},
   "source": [
    "Plot section 5 results"
   ]
  },
  {
   "cell_type": "code",
   "execution_count": 19,
   "metadata": {},
   "outputs": [
    {
     "name": "stderr",
     "output_type": "stream",
     "text": [
      "//anaconda3/lib/python3.7/site-packages/seaborn/distributions.py:1647: FutureWarning: The `vertical` parameter is deprecated and will be removed in a future version. Assign the data to the `y` variable instead.\n",
      "  warnings.warn(msg, FutureWarning)\n"
     ]
    },
    {
     "data": {
      "text/plain": [
       "(0.0, 7.358548283998126e-05, -8299.864373444065, 48550.54733293538)"
      ]
     },
     "execution_count": 19,
     "metadata": {},
     "output_type": "execute_result"
    }
   ],
   "source": [
    "sns.kdeplot(r5_all_params[:,0], ax= r5_k_hist, color='k') #k histogram\n",
    "r5_k_hist.get_xaxis().set_ticks([])\n",
    "r5_k_hist.get_yaxis().set_ticks([])\n",
    "r5_k_hist.axis('off')\n",
    "\n",
    "r5_k_zstar_scatter.scatter(r5_all_output[:, 0][::-1], r5_all_output[:, 1][::-1], \n",
    "                           c = (r5_all_output[:,-1][::-1]),  \n",
    "                           norm=colors.LogNorm(vmin=r5_min, vmax=r5_min + (r5_max - r5_min)/10),\n",
    "                            cmap='viridis', s = 2)\n",
    "r5_k_zstar_scatter.set_xlabel('log(Erodibility [m/yr])')\n",
    "\n",
    "sns.kdeplot(r5_all_params[:,1], ax = r5_zstar_hist, vertical=True, color='k') #z* histogram\n",
    "r5_zstar_hist.get_xaxis().set_ticks([])\n",
    "r5_zstar_hist.get_yaxis().set_ticks([])\n",
    "r5_zstar_hist.axis('off')"
   ]
  },
  {
   "cell_type": "markdown",
   "metadata": {},
   "source": [
    "Plot section 6 results"
   ]
  },
  {
   "cell_type": "code",
   "execution_count": 20,
   "metadata": {},
   "outputs": [
    {
     "name": "stderr",
     "output_type": "stream",
     "text": [
      "//anaconda3/lib/python3.7/site-packages/seaborn/distributions.py:1647: FutureWarning: The `vertical` parameter is deprecated and will be removed in a future version. Assign the data to the `y` variable instead.\n",
      "  warnings.warn(msg, FutureWarning)\n"
     ]
    },
    {
     "data": {
      "text/plain": [
       "(0.0, 6.922968669644517e-05, -7070.030163481464, 47206.26292967059)"
      ]
     },
     "execution_count": 20,
     "metadata": {},
     "output_type": "execute_result"
    }
   ],
   "source": [
    "sns.kdeplot(r6_all_params[:,0], ax= r6_k_hist, color='k') #k histogram\n",
    "r6_k_hist.get_xaxis().set_ticks([])\n",
    "r6_k_hist.get_yaxis().set_ticks([])\n",
    "r6_k_hist.axis('off')\n",
    "\n",
    "r6_k_zstar_scatter.scatter(r6_all_output[:, 0][::-1], r6_all_output[:, 1][::-1], \n",
    "                           c = (r6_all_output[:,-1][::-1]),  \n",
    "                           norm=colors.LogNorm(vmin=r6_min, vmax=r6_min + (r6_max - r6_min)/10),\n",
    "                            cmap='viridis', s = 2)\n",
    "r6_k_zstar_scatter.set_xlabel('log(Erodibility [m/yr])')\n",
    "r6_k_zstar_scatter.set_ylabel('Erosion depth scale [m]')\n",
    "\n",
    "sns.kdeplot(r6_all_params[:,1], ax = r6_zstar_hist, vertical=True, color='k') #z* histogram\n",
    "r6_zstar_hist.get_xaxis().set_ticks([])\n",
    "r6_zstar_hist.get_yaxis().set_ticks([])\n",
    "r6_zstar_hist.axis('off')"
   ]
  },
  {
   "cell_type": "markdown",
   "metadata": {},
   "source": [
    "Plot section 7 results"
   ]
  },
  {
   "cell_type": "code",
   "execution_count": 21,
   "metadata": {},
   "outputs": [
    {
     "name": "stderr",
     "output_type": "stream",
     "text": [
      "//anaconda3/lib/python3.7/site-packages/seaborn/distributions.py:1647: FutureWarning: The `vertical` parameter is deprecated and will be removed in a future version. Assign the data to the `y` variable instead.\n",
      "  warnings.warn(msg, FutureWarning)\n"
     ]
    },
    {
     "data": {
      "text/plain": [
       "(0.0, 6.684453323640342e-05, -8050.937992215724, 48348.92882059667)"
      ]
     },
     "execution_count": 21,
     "metadata": {},
     "output_type": "execute_result"
    }
   ],
   "source": [
    "sns.kdeplot(r7_all_params[:,0], ax= r7_k_hist, color='k') #k histogram\n",
    "r7_k_hist.get_xaxis().set_ticks([])\n",
    "r7_k_hist.get_yaxis().set_ticks([])\n",
    "r7_k_hist.axis('off')\n",
    "\n",
    "r7_k_zstar_scatter.scatter(r7_all_output[:, 0][::-1], r7_all_output[:, 1][::-1], \n",
    "                           c = (r7_all_output[:,-1][::-1]),  \n",
    "                           norm=colors.LogNorm(vmin=r7_min, vmax=r7_min + (r7_max - r7_min)/10),\n",
    "                            cmap='viridis', s = 2)\n",
    "r7_k_zstar_scatter.set_xlabel('log(Erodibility [m/yr])')\n",
    "\n",
    "sns.kdeplot(r7_all_params[:,1], ax = r7_zstar_hist, vertical=True, color='k') #z* histogram\n",
    "r7_zstar_hist.get_xaxis().set_ticks([])\n",
    "r7_zstar_hist.get_yaxis().set_ticks([])\n",
    "r7_zstar_hist.axis('off')"
   ]
  },
  {
   "cell_type": "markdown",
   "metadata": {},
   "source": [
    "Plot section 8 results"
   ]
  },
  {
   "cell_type": "code",
   "execution_count": 22,
   "metadata": {},
   "outputs": [
    {
     "name": "stderr",
     "output_type": "stream",
     "text": [
      "//anaconda3/lib/python3.7/site-packages/seaborn/distributions.py:1647: FutureWarning: The `vertical` parameter is deprecated and will be removed in a future version. Assign the data to the `y` variable instead.\n",
      "  warnings.warn(msg, FutureWarning)\n"
     ]
    },
    {
     "data": {
      "text/plain": [
       "(0.0, 5.4210774126813106e-05, -7979.840059158621, 48279.799857549726)"
      ]
     },
     "execution_count": 22,
     "metadata": {},
     "output_type": "execute_result"
    }
   ],
   "source": [
    "sns.kdeplot(r8_all_params[:,0], ax= r8_k_hist, color='k') #k histogram\n",
    "r8_k_hist.get_xaxis().set_ticks([])\n",
    "r8_k_hist.get_yaxis().set_ticks([])\n",
    "r8_k_hist.axis('off')\n",
    "\n",
    "r8_k_zstar_scatter.scatter(r8_all_output[:, 0][::-1], r8_all_output[:, 1][::-1], \n",
    "                           c = (r8_all_output[:,-1][::-1]),  \n",
    "                           norm=colors.LogNorm(vmin=r8_min, vmax=r8_min + (r8_max - r8_min)/10),\n",
    "                            cmap='viridis', s = 2)\n",
    "r8_k_zstar_scatter.set_xlabel('log(Erodibility [m/yr])')\n",
    "\n",
    "sns.kdeplot(r8_all_params[:,1], ax = r8_zstar_hist, vertical=True, color='k') #z* histogram\n",
    "r8_zstar_hist.get_xaxis().set_ticks([])\n",
    "r8_zstar_hist.get_yaxis().set_ticks([])\n",
    "r8_zstar_hist.axis('off')"
   ]
  },
  {
   "cell_type": "markdown",
   "metadata": {},
   "source": [
    "Polish plot, add labels, etc"
   ]
  },
  {
   "cell_type": "code",
   "execution_count": 23,
   "metadata": {},
   "outputs": [],
   "source": [
    "# slide top right histogram (r52) down to mesh with top of right scatter (r55)\n",
    "pos4 = r1_k_zstar_scatter.get_position()\n",
    "pos5 = r1_k_hist.get_position()\n",
    "points4 = pos4.get_points()\n",
    "points5 = pos5.get_points()\n",
    "points5[0][1]=points4[1][1]\n",
    "pos5.set_points(points5)\n",
    "r1_k_hist.set_position(pos5)\n",
    "\n",
    "# slide top right histogram (r52) down to mesh with top of right scatter (r55)\n",
    "pos4 = r3_k_zstar_scatter.get_position()\n",
    "pos5 = r3_k_hist.get_position()\n",
    "points4 = pos4.get_points()\n",
    "points5 = pos5.get_points()\n",
    "points5[0][1]=points4[1][1]\n",
    "pos5.set_points(points5)\n",
    "r3_k_hist.set_position(pos5)\n",
    "\n",
    "# slide top right histogram (r52) down to mesh with top of right scatter (r55)\n",
    "pos4 = r4_k_zstar_scatter.get_position()\n",
    "pos5 = r4_k_hist.get_position()\n",
    "points4 = pos4.get_points()\n",
    "points5 = pos5.get_points()\n",
    "points5[0][1]=points4[1][1]\n",
    "pos5.set_points(points5)\n",
    "r4_k_hist.set_position(pos5)\n",
    "\n",
    "# slide top right histogram (r52) down to mesh with top of right scatter (r55)\n",
    "pos4 = r5_k_zstar_scatter.get_position()\n",
    "pos5 = r5_k_hist.get_position()\n",
    "points4 = pos4.get_points()\n",
    "points5 = pos5.get_points()\n",
    "points5[0][1]=points4[1][1]\n",
    "pos5.set_points(points5)\n",
    "r5_k_hist.set_position(pos5)\n",
    "\n",
    "# slide top right histogram (r52) down to mesh with top of right scatter (r55)\n",
    "pos4 = r6_k_zstar_scatter.get_position()\n",
    "pos5 = r6_k_hist.get_position()\n",
    "points4 = pos4.get_points()\n",
    "points5 = pos5.get_points()\n",
    "points5[0][1]=points4[1][1]\n",
    "pos5.set_points(points5)\n",
    "r6_k_hist.set_position(pos5)\n",
    "\n",
    "# slide top right histogram (r52) down to mesh with top of right scatter (r55)\n",
    "pos4 = r7_k_zstar_scatter.get_position()\n",
    "pos5 = r7_k_hist.get_position()\n",
    "points4 = pos4.get_points()\n",
    "points5 = pos5.get_points()\n",
    "points5[0][1]=points4[1][1]\n",
    "pos5.set_points(points5)\n",
    "r7_k_hist.set_position(pos5)\n",
    "\n",
    "# slide top right histogram (r52) down to mesh with top of right scatter (r55)\n",
    "pos4 = r8_k_zstar_scatter.get_position()\n",
    "pos5 = r8_k_hist.get_position()\n",
    "points4 = pos4.get_points()\n",
    "points5 = pos5.get_points()\n",
    "points5[0][1]=points4[1][1]\n",
    "pos5.set_points(points5)\n",
    "r8_k_hist.set_position(pos5)"
   ]
  },
  {
   "cell_type": "code",
   "execution_count": 24,
   "metadata": {},
   "outputs": [
    {
     "data": {
      "text/plain": [
       "Text(1.05, 1, '8')"
      ]
     },
     "execution_count": 24,
     "metadata": {},
     "output_type": "execute_result"
    }
   ],
   "source": [
    "#text labels to identify sections\n",
    "r1_k_zstar_scatter.text(1.05, 1, '1', fontsize=18, transform=r1_k_zstar_scatter.transAxes, bbox=dict(linewidth = 1, facecolor='white'))\n",
    "r3_k_zstar_scatter.text(1.05, 1, '3', fontsize=18, transform=r3_k_zstar_scatter.transAxes, bbox=dict(linewidth = 1, facecolor='white'))\n",
    "r4_k_zstar_scatter.text(1.05, 1, '4', fontsize=18, transform=r4_k_zstar_scatter.transAxes, bbox=dict(linewidth = 1, facecolor='white'))\n",
    "r5_k_zstar_scatter.text(1.05, 1, '5', fontsize=18, transform=r5_k_zstar_scatter.transAxes, bbox=dict(linewidth = 1, facecolor='white'))\n",
    "r6_k_zstar_scatter.text(1.05, 1, '6', fontsize=18, transform=r6_k_zstar_scatter.transAxes, bbox=dict(linewidth = 1, facecolor='white'))\n",
    "r7_k_zstar_scatter.text(1.05, 1, '7', fontsize=18, transform=r7_k_zstar_scatter.transAxes, bbox=dict(linewidth = 1, facecolor='white'))\n",
    "r8_k_zstar_scatter.text(1.05, 1, '8', fontsize=18, transform=r8_k_zstar_scatter.transAxes, bbox=dict(linewidth = 1, facecolor='white'))"
   ]
  },
  {
   "cell_type": "code",
   "execution_count": 25,
   "metadata": {},
   "outputs": [
    {
     "data": {
      "text/plain": [
       "Text(0.5, 1.0, 'log(misfit) [-]')"
      ]
     },
     "execution_count": 25,
     "metadata": {},
     "output_type": "execute_result"
    }
   ],
   "source": [
    "#colorbar\n",
    "cbar_mappable = r1_k_zstar_scatter.scatter(r1_all_output[:, 0][::-1], r1_all_output[:, 1][::-1], \n",
    "                           c = (r1_all_output[:,-1][::-1]),  \n",
    "                           norm=colors.LogNorm(vmin=r1_min, vmax=r1_min + (r1_max - r1_min)/10),\n",
    "                            cmap='viridis', s = 2)\n",
    "cax = figs3.add_axes([0.78, 0.15, 0.03, 0.2])\n",
    "c = figs3.colorbar(cbar_mappable, cax = cax)\n",
    "c.ax.yaxis.set_visible(False)\n",
    "cax.text(1.1, 0.01, 'low', transform=cax.transAxes, fontsize=16)\n",
    "cax.text(1.1, 0.93, 'high', transform=cax.transAxes, fontsize=16)\n",
    "cax.set_title('log(misfit) [-]', fontsize=16, pad = 10)"
   ]
  },
  {
   "cell_type": "code",
   "execution_count": 26,
   "metadata": {},
   "outputs": [],
   "source": [
    "figs3.savefig('Shobe_etal_figS3.png', dpi=1000, bbox_inches='tight', facecolor='white', transparent=False)"
   ]
  }
 ],
 "metadata": {
  "kernelspec": {
   "display_name": "Python 3",
   "language": "python",
   "name": "python3"
  },
  "language_info": {
   "codemirror_mode": {
    "name": "ipython",
    "version": 3
   },
   "file_extension": ".py",
   "mimetype": "text/x-python",
   "name": "python",
   "nbconvert_exporter": "python",
   "pygments_lexer": "ipython3",
   "version": "3.7.10"
  }
 },
 "nbformat": 4,
 "nbformat_minor": 4
}
