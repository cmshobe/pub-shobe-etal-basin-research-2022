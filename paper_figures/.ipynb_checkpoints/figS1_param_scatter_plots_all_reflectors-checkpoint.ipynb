{
 "cells": [
  {
   "cell_type": "markdown",
   "metadata": {},
   "source": [
    "#### Script to produce Figure S1 in Shobe et al. (2022; _Basin Research_): Scatter plots showing convergence of the inversion algorithm, using the nonlocal, nonlinear model, to best-fit parameter values when using all seismic reflectors to calculate model-data misfit."
   ]
  },
  {
   "cell_type": "code",
   "execution_count": 1,
   "metadata": {},
   "outputs": [],
   "source": [
    "import numpy as np\n",
    "from numpy import genfromtxt\n",
    "import matplotlib.pyplot as plt\n",
    "import seaborn as sns\n",
    "import matplotlib.colors as colors\n",
    "from matplotlib import gridspec"
   ]
  },
  {
   "cell_type": "markdown",
   "metadata": {},
   "source": [
    "Import the results from each seismic section. Results consist of a csv file containing parameter values and misfit values."
   ]
  },
  {
   "cell_type": "code",
   "execution_count": 3,
   "metadata": {
    "tags": []
   },
   "outputs": [],
   "source": [
    "#Define which inversion run will be used to make the figure\n",
    "#(values pre-filled here were used to produce the figures in the paper)\n",
    "model_number_R1 = 'ml2'\n",
    "model_number_R3 = 'ml2'\n",
    "model_number_R4 = 'ml2'\n",
    "model_number_R5 = 'ml2'\n",
    "model_number_R6 = 'ml2'\n",
    "model_number_R7 = 'ml2'\n",
    "model_number_R8 = 'ml2'\n",
    "\n",
    "#import r1 results\n",
    "r1_all_params = genfromtxt('../orange_section_R1/step2_params/all_params_' + model_number_R1 + '.csv', delimiter=',')\n",
    "r1_all_output=r1_all_params[r1_all_params[:,-1].argsort()] #sort by misfit from best to worst fit\n",
    "\n",
    "#import r3 results\n",
    "r3_all_params = genfromtxt('../orange_section_R3/step2_params/all_params_' + model_number_R3 + '.csv', delimiter=',')\n",
    "r3_all_output=r3_all_params[r3_all_params[:,-1].argsort()] #sort by misfit\n",
    "\n",
    "#import r4 results\n",
    "r4_all_params = genfromtxt('../orange_section_R4/step2_params/all_params_' + model_number_R4 + '.csv', delimiter=',')\n",
    "r4_all_output=r4_all_params[r4_all_params[:,-1].argsort()] #sort by misfit from best to worst fit\n",
    "\n",
    "#import r5 results\n",
    "r5_all_params = genfromtxt('../orange_section_R5/step2_params/all_params_' + model_number_R5 + '.csv', delimiter=',')\n",
    "r5_all_output=r5_all_params[r5_all_params[:,-1].argsort()] #sort by misfit\n",
    "\n",
    "#import r6 results\n",
    "r6_all_params = genfromtxt('../orange_section_r6/step2_params/all_params_' + model_number_R6 + '.csv', delimiter=',')\n",
    "r6_all_output=r6_all_params[r6_all_params[:,-1].argsort()] #sort by misfit\n",
    "\n",
    "#import r7 results\n",
    "r7_all_params = genfromtxt('../orange_section_R7/step2_params/all_params_' + model_number_R7 + '.csv', delimiter=',')\n",
    "r7_all_output=r7_all_params[r7_all_params[:,-1].argsort()] #sort by misfit\n",
    "\n",
    "#import r8 results\n",
    "r8_all_params = genfromtxt('../orange_section_R8/step2_params/all_params_' + model_number_R8 + '.csv', delimiter=',')\n",
    "r8_all_output=r8_all_params[r8_all_params[:,-1].argsort()] #sort by misfit"
   ]
  },
  {
   "cell_type": "markdown",
   "metadata": {},
   "source": [
    "Set up the figure"
   ]
  },
  {
   "cell_type": "code",
   "execution_count": 7,
   "metadata": {},
   "outputs": [
    {
     "data": {
      "text/plain": [
       "<Figure size 1080x864 with 0 Axes>"
      ]
     },
     "metadata": {},
     "output_type": "display_data"
    }
   ],
   "source": [
    "%matplotlib inline\n",
    "#set up the figure grid\n",
    "figs1 = plt.figure(figsize=(15,12))\n",
    "widths = [3, 0.75, 1, 3, 0.75, 1, 3, 0.75, 1, 3, 0.75]\n",
    "heights = [1, 5, 1.5, 1, 5, 1.5, 1, 5, 1.5, 1, 5]\n",
    "spec5 = figs1.add_gridspec(ncols=len(widths), nrows=len(heights), width_ratios=widths,\n",
    "                          height_ratios=heights, wspace=0.0, hspace=0.025)"
   ]
  },
  {
   "cell_type": "code",
   "execution_count": 14,
   "metadata": {},
   "outputs": [],
   "source": [
    "#####first two columns: r1 subplot frames\n",
    "#top set of plots: lambda and sc\n",
    "r1_lambda_hist = figs1.add_subplot(spec5[0, 0])\n",
    "r1_lambda_sc_scatter = figs1.add_subplot(spec5[1, 0])\n",
    "r1_sc_hist = figs1.add_subplot(spec5[1, 1])\n",
    "\n",
    "#bottom set of plots: k and zstar\n",
    "r1_k_hist = figs1.add_subplot(spec5[3, 0])\n",
    "r1_k_zstar_scatter = figs1.add_subplot(spec5[4, 0])\n",
    "r1_zstar_hist = figs1.add_subplot(spec5[4, 1])\n",
    "\n",
    "#####second two columns: r3 subplot frames\n",
    "#top set of plots: lambda and sc\n",
    "r3_lambda_hist = figs1.add_subplot(spec5[0, 3])\n",
    "r3_lambda_sc_scatter = figs1.add_subplot(spec5[1, 3])\n",
    "r3_sc_hist = figs1.add_subplot(spec5[1, 4])\n",
    "\n",
    "#bottom set of plots: k and zstar\n",
    "r3_k_hist = figs1.add_subplot(spec5[3, 3])\n",
    "r3_k_zstar_scatter = figs1.add_subplot(spec5[4, 3])\n",
    "r3_zstar_hist = figs1.add_subplot(spec5[4, 4])\n",
    "\n",
    "#####third two columns: r4 subplot frames\n",
    "#top set of plots: lambda and sc\n",
    "r4_lambda_hist = figs1.add_subplot(spec5[0, 6])\n",
    "r4_lambda_sc_scatter = figs1.add_subplot(spec5[1, 6])\n",
    "r4_sc_hist = figs1.add_subplot(spec5[1, 7])\n",
    "\n",
    "#bottom set of plots: k and zstar\n",
    "r4_k_hist = figs1.add_subplot(spec5[3, 6])\n",
    "r4_k_zstar_scatter = figs1.add_subplot(spec5[4, 6])\n",
    "r4_zstar_hist = figs1.add_subplot(spec5[4, 7])\n",
    "\n",
    "#####fourth two columns: r5 subplot frames\n",
    "#top set of plots: lambda and sc\n",
    "r5_lambda_hist = figs1.add_subplot(spec5[0, 9])\n",
    "r5_lambda_sc_scatter = figs1.add_subplot(spec5[1, 9])\n",
    "r5_sc_hist = figs1.add_subplot(spec5[1, 10])\n",
    "\n",
    "#bottom set of plots: k and zstar\n",
    "r5_k_hist = figs1.add_subplot(spec5[3, 9])\n",
    "r5_k_zstar_scatter = figs1.add_subplot(spec5[4, 9])\n",
    "r5_zstar_hist = figs1.add_subplot(spec5[4, 10])\n",
    "\n",
    "#####fifth two columns: r6 subplot frames\n",
    "#top set of plots: lambda and sc\n",
    "r6_lambda_hist = figs1.add_subplot(spec5[6, 0])\n",
    "r6_lambda_sc_scatter = figs1.add_subplot(spec5[7, 0])\n",
    "r6_sc_hist = figs1.add_subplot(spec5[7, 1])\n",
    "\n",
    "#bottom set of plots: k and zstar\n",
    "r6_k_hist = figs1.add_subplot(spec5[9, 0])\n",
    "r6_k_zstar_scatter = figs1.add_subplot(spec5[10, 0])\n",
    "r6_zstar_hist = figs1.add_subplot(spec5[10, 1])\n",
    "\n",
    "#####sixth two columns: r7 subplot frames\n",
    "#top set of plots: lambda and sc\n",
    "r7_lambda_hist = figs1.add_subplot(spec5[6, 3])\n",
    "r7_lambda_sc_scatter = figs1.add_subplot(spec5[7, 3])\n",
    "r7_sc_hist = figs1.add_subplot(spec5[7, 4])\n",
    "\n",
    "#bottom set of plots: k and zstar\n",
    "r7_k_hist = figs1.add_subplot(spec5[9, 3])\n",
    "r7_k_zstar_scatter = figs1.add_subplot(spec5[10, 3])\n",
    "r7_zstar_hist = figs1.add_subplot(spec5[10, 4])\n",
    "\n",
    "#####seventh two columns: r8 subplot frames\n",
    "#top set of plots: lambda and sc\n",
    "r8_lambda_hist = figs1.add_subplot(spec5[6, 6])\n",
    "r8_lambda_sc_scatter = figs1.add_subplot(spec5[7, 6])\n",
    "r8_sc_hist = figs1.add_subplot(spec5[7, 7])\n",
    "\n",
    "#bottom set of plots: k and zstar\n",
    "r8_k_hist = figs1.add_subplot(spec5[9, 6])\n",
    "r8_k_zstar_scatter = figs1.add_subplot(spec5[10, 6])\n",
    "r8_zstar_hist = figs1.add_subplot(spec5[10, 7])"
   ]
  },
  {
   "cell_type": "markdown",
   "metadata": {},
   "source": [
    "Find minimum and maximum misfit values for scaling misfit colorbar"
   ]
  },
  {
   "cell_type": "code",
   "execution_count": 15,
   "metadata": {},
   "outputs": [
    {
     "name": "stdout",
     "output_type": "stream",
     "text": [
      "3.9482217566732913\n",
      "4.176985925251596\n",
      "2.8351143481420524\n",
      "4.878214052658748\n",
      "3.0110036545144667\n",
      "4.367447166966075\n",
      "2.4058735163696716\n",
      "4.3672733823652115\n",
      "2.647353214416179\n",
      "4.55297023663272\n",
      "3.3349755714029112\n",
      "4.544116558676745\n",
      "2.739859720799901\n",
      "4.523755070217216\n",
      "11.088111700211144\n"
     ]
    }
   ],
   "source": [
    "r1_min = np.min((r1_all_output[:,-1][::-1]))\n",
    "r1_max = np.max((r1_all_output[:,-1][::-1]))\n",
    "\n",
    "r3_min = np.min((r3_all_output[:,-1][::-1]))\n",
    "r3_max = np.max((r3_all_output[:,-1][::-1]))\n",
    "\n",
    "r4_min = np.min((r4_all_output[:,-1][::-1]))\n",
    "r4_max = np.max((r4_all_output[:,-1][::-1]))\n",
    "\n",
    "r5_min = np.min((r5_all_output[:,-1][::-1]))\n",
    "r5_max = np.max((r5_all_output[:,-1][::-1]))\n",
    "\n",
    "r6_min = np.min((r6_all_output[:,-1][::-1]))\n",
    "r6_max = np.max((r6_all_output[:,-1][::-1]))\n",
    "\n",
    "r7_min = np.min((r7_all_output[:,-1][::-1]))\n",
    "r7_max = np.max((r7_all_output[:,-1][::-1]))\n",
    "\n",
    "r8_min = np.min((r8_all_output[:,-1][::-1]))\n",
    "r8_max = np.max((r8_all_output[:,-1][::-1]))"
   ]
  },
  {
   "cell_type": "markdown",
   "metadata": {},
   "source": [
    "Plot section 1 results"
   ]
  },
  {
   "cell_type": "code",
   "execution_count": 16,
   "metadata": {},
   "outputs": [
    {
     "name": "stderr",
     "output_type": "stream",
     "text": [
      "//anaconda3/lib/python3.7/site-packages/seaborn/distributions.py:1647: FutureWarning: The `vertical` parameter is deprecated and will be removed in a future version. Assign the data to the `y` variable instead.\n",
      "  warnings.warn(msg, FutureWarning)\n",
      "//anaconda3/lib/python3.7/site-packages/seaborn/distributions.py:1647: FutureWarning: The `vertical` parameter is deprecated and will be removed in a future version. Assign the data to the `y` variable instead.\n",
      "  warnings.warn(msg, FutureWarning)\n"
     ]
    },
    {
     "data": {
      "text/plain": [
       "(0.0, 60.534852502018175, 0.06645760053058129, 0.1836743662335504)"
      ]
     },
     "execution_count": 16,
     "metadata": {},
     "output_type": "execute_result"
    }
   ],
   "source": [
    "sns.kdeplot(r1_all_params[:,1], ax= r1_k_hist, color='k') #k histogram\n",
    "r1_k_hist.get_xaxis().set_ticks([])\n",
    "r1_k_hist.get_yaxis().set_ticks([])\n",
    "r1_k_hist.axis('off')\n",
    "\n",
    "sns.kdeplot(r1_all_params[:,0], ax= r1_lambda_hist, color='k') #lambda histogram\n",
    "r1_lambda_hist.get_xaxis().set_ticks([])\n",
    "r1_lambda_hist.get_yaxis().set_ticks([])\n",
    "r1_lambda_hist.axis('off')\n",
    "\n",
    "r1_k_zstar_scatter.scatter(r1_all_output[:, 1][::-1], r1_all_output[:, 2][::-1], \n",
    "                           c = (r1_all_output[:,-1][::-1]),  \n",
    "                           norm=colors.LogNorm(vmin=r1_min, vmax=r1_min + (r1_max - r1_min)/10),\n",
    "                            cmap='viridis', s = 2)\n",
    "\n",
    "r1_k_zstar_scatter.set_xlabel('log(Erodibility [m/yr])')\n",
    "r1_k_zstar_scatter.set_ylabel('Erosion depth scale [m]')\n",
    "\n",
    "sns.kdeplot(r5_all_params[:,2], ax = r1_zstar_hist, vertical=True, color='k') #z* histogram\n",
    "r1_zstar_hist.get_xaxis().set_ticks([])\n",
    "r1_zstar_hist.get_yaxis().set_ticks([])\n",
    "r1_zstar_hist.axis('off')\n",
    "\n",
    "cbar_mappable = r1_lambda_sc_scatter.scatter(r1_all_output[:, 0][::-1], r1_all_output[:, 3][::-1], \n",
    "                           c = (r1_all_output[:,-1][::-1]),  \n",
    "                           norm=colors.LogNorm(vmin=r1_min, vmax=r1_min + (r1_max - r1_min)/10),\n",
    "                            cmap='viridis', s = 2)\n",
    "\n",
    "r1_lambda_sc_scatter.set_xlabel('Travel distance [m]')\n",
    "r1_lambda_sc_scatter.set_ylabel('Critical slope [-]')\n",
    "\n",
    "sns.kdeplot(r1_all_params[:,3], ax = r1_sc_hist, vertical=True, color='k') #sc histogram\n",
    "r1_sc_hist.get_xaxis().set_ticks([])\n",
    "r1_sc_hist.get_yaxis().set_ticks([])\n",
    "r1_sc_hist.axis('off')"
   ]
  },
  {
   "cell_type": "markdown",
   "metadata": {},
   "source": [
    "Plot section 3 results"
   ]
  },
  {
   "cell_type": "code",
   "execution_count": 17,
   "metadata": {},
   "outputs": [
    {
     "name": "stderr",
     "output_type": "stream",
     "text": [
      "//anaconda3/lib/python3.7/site-packages/seaborn/distributions.py:1647: FutureWarning: The `vertical` parameter is deprecated and will be removed in a future version. Assign the data to the `y` variable instead.\n",
      "  warnings.warn(msg, FutureWarning)\n",
      "//anaconda3/lib/python3.7/site-packages/seaborn/distributions.py:1647: FutureWarning: The `vertical` parameter is deprecated and will be removed in a future version. Assign the data to the `y` variable instead.\n",
      "  warnings.warn(msg, FutureWarning)\n"
     ]
    },
    {
     "data": {
      "text/plain": [
       "(0.0, 62.57475254822903, -0.002289742759093082, 0.11226745779849819)"
      ]
     },
     "execution_count": 17,
     "metadata": {},
     "output_type": "execute_result"
    }
   ],
   "source": [
    "sns.kdeplot(r3_all_params[:,1], ax= r3_k_hist, color='k') #k histogram\n",
    "r3_k_hist.get_xaxis().set_ticks([])\n",
    "r3_k_hist.get_yaxis().set_ticks([])\n",
    "r3_k_hist.axis('off')\n",
    "\n",
    "sns.kdeplot(r3_all_params[:,0], ax= r3_lambda_hist, color='k') #lambda histogram\n",
    "r3_lambda_hist.get_xaxis().set_ticks([])\n",
    "r3_lambda_hist.get_yaxis().set_ticks([])\n",
    "r3_lambda_hist.axis('off')\n",
    "\n",
    "r3_k_zstar_scatter.scatter(r3_all_output[:, 1][::-1], r3_all_output[:, 2][::-1], \n",
    "                           c = (r3_all_output[:,-1][::-1]),  \n",
    "                           norm=colors.LogNorm(vmin=r3_min, vmax=r3_min + (r3_max - r3_min)/10),\n",
    "                            cmap='viridis', s = 2)\n",
    "r3_k_zstar_scatter.set_xlabel('log(Erodibility [m/yr])')\n",
    "\n",
    "sns.kdeplot(r3_all_params[:,2], ax = r3_zstar_hist, vertical=True, color='k') #z* histogram\n",
    "r3_zstar_hist.get_xaxis().set_ticks([])\n",
    "r3_zstar_hist.get_yaxis().set_ticks([])\n",
    "r3_zstar_hist.axis('off')\n",
    "\n",
    "r3_lambda_sc_scatter.scatter(r3_all_output[:, 0][::-1], r3_all_output[:, 3][::-1], \n",
    "                           c = (r3_all_output[:,-1][::-1]),  \n",
    "                           norm=colors.LogNorm(vmin=r3_min, vmax=r3_min + (r3_max - r3_min)/10),\n",
    "                            cmap='viridis', s = 2)\n",
    "r3_lambda_sc_scatter.set_xlabel('Travel distance [m]')\n",
    "\n",
    "sns.kdeplot(r3_all_params[:,3], ax = r3_sc_hist, vertical=True, color='k') #sc histogram\n",
    "r3_sc_hist.get_xaxis().set_ticks([])\n",
    "r3_sc_hist.get_yaxis().set_ticks([])\n",
    "r3_sc_hist.axis('off')"
   ]
  },
  {
   "cell_type": "markdown",
   "metadata": {},
   "source": [
    "Plot section 4 results"
   ]
  },
  {
   "cell_type": "code",
   "execution_count": 18,
   "metadata": {},
   "outputs": [
    {
     "name": "stderr",
     "output_type": "stream",
     "text": [
      "//anaconda3/lib/python3.7/site-packages/seaborn/distributions.py:1647: FutureWarning: The `vertical` parameter is deprecated and will be removed in a future version. Assign the data to the `y` variable instead.\n",
      "  warnings.warn(msg, FutureWarning)\n",
      "//anaconda3/lib/python3.7/site-packages/seaborn/distributions.py:1647: FutureWarning: The `vertical` parameter is deprecated and will be removed in a future version. Assign the data to the `y` variable instead.\n",
      "  warnings.warn(msg, FutureWarning)\n"
     ]
    },
    {
     "data": {
      "text/plain": [
       "(0.0, 65.04792911827687, -0.0014131103650561255, 0.11147091440428039)"
      ]
     },
     "execution_count": 18,
     "metadata": {},
     "output_type": "execute_result"
    }
   ],
   "source": [
    "sns.kdeplot(r4_all_params[:,1], ax= r4_k_hist, color='k') #k histogram\n",
    "r4_k_hist.get_xaxis().set_ticks([])\n",
    "r4_k_hist.get_yaxis().set_ticks([])\n",
    "r4_k_hist.axis('off')\n",
    "\n",
    "sns.kdeplot(r4_all_params[:,0], ax= r4_lambda_hist, color='k') #lambda histogram\n",
    "r4_lambda_hist.get_xaxis().set_ticks([])\n",
    "r4_lambda_hist.get_yaxis().set_ticks([])\n",
    "r4_lambda_hist.axis('off')\n",
    "\n",
    "r4_k_zstar_scatter.scatter(r4_all_output[:, 1][::-1], r4_all_output[:, 2][::-1], \n",
    "                           c = (r4_all_output[:,-1][::-1]),  \n",
    "                           norm=colors.LogNorm(vmin=r4_min, vmax=r4_min + (r4_max - r4_min)/10),\n",
    "                            cmap='viridis', s = 2)\n",
    "r4_k_zstar_scatter.set_xlabel('log(Erodibility [m/yr])')\n",
    "\n",
    "sns.kdeplot(r4_all_params[:,2], ax = r4_zstar_hist, vertical=True, color='k') #z* histogram\n",
    "r4_zstar_hist.get_xaxis().set_ticks([])\n",
    "r4_zstar_hist.get_yaxis().set_ticks([])\n",
    "r4_zstar_hist.axis('off')\n",
    "\n",
    "r4_lambda_sc_scatter.scatter(r4_all_output[:, 0][::-1], r4_all_output[:, 3][::-1], \n",
    "                           c = (r4_all_output[:,-1][::-1]),  \n",
    "                           norm=colors.LogNorm(vmin=r4_min, vmax=r4_min + (r4_max - r4_min)/10),\n",
    "                            cmap='viridis', s = 2)\n",
    "r4_lambda_sc_scatter.set_xlabel('Travel distance [m]')\n",
    "\n",
    "sns.kdeplot(r4_all_params[:,3], ax = r4_sc_hist, vertical=True, color='k') #sc histogram\n",
    "r4_sc_hist.get_xaxis().set_ticks([])\n",
    "r4_sc_hist.get_yaxis().set_ticks([])\n",
    "r4_sc_hist.axis('off')"
   ]
  },
  {
   "cell_type": "markdown",
   "metadata": {},
   "source": [
    "Plot section 5 results"
   ]
  },
  {
   "cell_type": "code",
   "execution_count": 19,
   "metadata": {},
   "outputs": [
    {
     "name": "stderr",
     "output_type": "stream",
     "text": [
      "//anaconda3/lib/python3.7/site-packages/seaborn/distributions.py:1647: FutureWarning: The `vertical` parameter is deprecated and will be removed in a future version. Assign the data to the `y` variable instead.\n",
      "  warnings.warn(msg, FutureWarning)\n",
      "//anaconda3/lib/python3.7/site-packages/seaborn/distributions.py:1647: FutureWarning: The `vertical` parameter is deprecated and will be removed in a future version. Assign the data to the `y` variable instead.\n",
      "  warnings.warn(msg, FutureWarning)\n"
     ]
    },
    {
     "data": {
      "text/plain": [
       "(0.0, 116.31010249292525, -0.0015626439635394148, 0.11146986579692131)"
      ]
     },
     "execution_count": 19,
     "metadata": {},
     "output_type": "execute_result"
    }
   ],
   "source": [
    "sns.kdeplot(r5_all_params[:,1], ax= r5_k_hist, color='k') #k histogram\n",
    "r5_k_hist.get_xaxis().set_ticks([])\n",
    "r5_k_hist.get_yaxis().set_ticks([])\n",
    "r5_k_hist.axis('off')\n",
    "\n",
    "sns.kdeplot(r5_all_params[:,0], ax= r5_lambda_hist, color='k') #lambda histogram\n",
    "r5_lambda_hist.get_xaxis().set_ticks([])\n",
    "r5_lambda_hist.get_yaxis().set_ticks([])\n",
    "r5_lambda_hist.axis('off')\n",
    "\n",
    "r5_k_zstar_scatter.scatter(r5_all_output[:, 1][::-1], r5_all_output[:, 2][::-1], \n",
    "                           c = (r5_all_output[:,-1][::-1]),  \n",
    "                           norm=colors.LogNorm(vmin=r5_min, vmax=r5_min + (r5_max - r5_min)/10),\n",
    "                            cmap='viridis', s = 2)\n",
    "r5_k_zstar_scatter.set_xlabel('log(Erodibility [m/yr])')\n",
    "\n",
    "sns.kdeplot(r5_all_params[:,2], ax = r5_zstar_hist, vertical=True, color='k') #z* histogram\n",
    "r5_zstar_hist.get_xaxis().set_ticks([])\n",
    "r5_zstar_hist.get_yaxis().set_ticks([])\n",
    "r5_zstar_hist.axis('off')\n",
    "\n",
    "r5_lambda_sc_scatter.scatter(r5_all_output[:, 0][::-1], r5_all_output[:, 3][::-1], \n",
    "                           c = (r5_all_output[:,-1][::-1]),  \n",
    "                           norm=colors.LogNorm(vmin=r5_min, vmax=r5_min + (r5_max - r5_min)/10),\n",
    "                            cmap='viridis', s = 2)\n",
    "r5_lambda_sc_scatter.set_xlabel('Travel distance [m]')\n",
    "\n",
    "sns.kdeplot(r5_all_params[:,3], ax = r5_sc_hist, vertical=True, color='k') #sc histogram\n",
    "r5_sc_hist.get_xaxis().set_ticks([])\n",
    "r5_sc_hist.get_yaxis().set_ticks([])\n",
    "r5_sc_hist.axis('off')"
   ]
  },
  {
   "cell_type": "markdown",
   "metadata": {},
   "source": [
    "Plot section 6 results"
   ]
  },
  {
   "cell_type": "code",
   "execution_count": 20,
   "metadata": {},
   "outputs": [
    {
     "name": "stderr",
     "output_type": "stream",
     "text": [
      "//anaconda3/lib/python3.7/site-packages/seaborn/distributions.py:1647: FutureWarning: The `vertical` parameter is deprecated and will be removed in a future version. Assign the data to the `y` variable instead.\n",
      "  warnings.warn(msg, FutureWarning)\n",
      "//anaconda3/lib/python3.7/site-packages/seaborn/distributions.py:1647: FutureWarning: The `vertical` parameter is deprecated and will be removed in a future version. Assign the data to the `y` variable instead.\n",
      "  warnings.warn(msg, FutureWarning)\n"
     ]
    },
    {
     "data": {
      "text/plain": [
       "(0.0, 102.85739599519918, -0.0014408374049735872, 0.11154457922241506)"
      ]
     },
     "execution_count": 20,
     "metadata": {},
     "output_type": "execute_result"
    }
   ],
   "source": [
    "sns.kdeplot(r6_all_params[:,1], ax= r6_k_hist, color='k') #k histogram\n",
    "r6_k_hist.get_xaxis().set_ticks([])\n",
    "r6_k_hist.get_yaxis().set_ticks([])\n",
    "r6_k_hist.axis('off')\n",
    "\n",
    "sns.kdeplot(r6_all_params[:,0], ax= r6_lambda_hist, color='k') #lambda histogram\n",
    "r6_lambda_hist.get_xaxis().set_ticks([])\n",
    "r6_lambda_hist.get_yaxis().set_ticks([])\n",
    "r6_lambda_hist.axis('off')\n",
    "\n",
    "r6_k_zstar_scatter.scatter(r6_all_output[:, 1][::-1], r6_all_output[:, 2][::-1], \n",
    "                           c = (r6_all_output[:,-1][::-1]),  \n",
    "                           norm=colors.LogNorm(vmin=r6_min, vmax=r6_min + (r6_max - r6_min)/10),\n",
    "                            cmap='viridis', s = 2)\n",
    "r6_k_zstar_scatter.set_xlabel('log(Erodibility [m/yr])')\n",
    "r6_k_zstar_scatter.set_ylabel('Erosion depth scale [m]')\n",
    "\n",
    "sns.kdeplot(r6_all_params[:,2], ax = r6_zstar_hist, vertical=True, color='k') #z* histogram\n",
    "r6_zstar_hist.get_xaxis().set_ticks([])\n",
    "r6_zstar_hist.get_yaxis().set_ticks([])\n",
    "r6_zstar_hist.axis('off')\n",
    "\n",
    "r6_lambda_sc_scatter.scatter(r6_all_output[:, 0][::-1], r6_all_output[:, 3][::-1], \n",
    "                           c = (r6_all_output[:,-1][::-1]),  \n",
    "                           norm=colors.LogNorm(vmin=r6_min, vmax=r6_min + (r6_max - r6_min)/10),\n",
    "                            cmap='viridis', s = 2)\n",
    "r6_lambda_sc_scatter.set_xlabel('Travel distance [m]')\n",
    "r6_lambda_sc_scatter.set_ylabel('Critical slope [-]')\n",
    "\n",
    "\n",
    "sns.kdeplot(r6_all_params[:,3], ax = r6_sc_hist, vertical=True, color='k') #sc histogram\n",
    "r6_sc_hist.get_xaxis().set_ticks([])\n",
    "r6_sc_hist.get_yaxis().set_ticks([])\n",
    "r6_sc_hist.axis('off')"
   ]
  },
  {
   "cell_type": "markdown",
   "metadata": {},
   "source": [
    "Plot section 7 results"
   ]
  },
  {
   "cell_type": "code",
   "execution_count": 21,
   "metadata": {},
   "outputs": [
    {
     "name": "stderr",
     "output_type": "stream",
     "text": [
      "//anaconda3/lib/python3.7/site-packages/seaborn/distributions.py:1647: FutureWarning: The `vertical` parameter is deprecated and will be removed in a future version. Assign the data to the `y` variable instead.\n",
      "  warnings.warn(msg, FutureWarning)\n",
      "//anaconda3/lib/python3.7/site-packages/seaborn/distributions.py:1647: FutureWarning: The `vertical` parameter is deprecated and will be removed in a future version. Assign the data to the `y` variable instead.\n",
      "  warnings.warn(msg, FutureWarning)\n"
     ]
    },
    {
     "data": {
      "text/plain": [
       "(0.0, 99.27906612745191, -0.0022103392351365088, 0.11208393228870289)"
      ]
     },
     "execution_count": 21,
     "metadata": {},
     "output_type": "execute_result"
    }
   ],
   "source": [
    "sns.kdeplot(r7_all_params[:,1], ax= r7_k_hist, color='k') #k histogram\n",
    "r7_k_hist.get_xaxis().set_ticks([])\n",
    "r7_k_hist.get_yaxis().set_ticks([])\n",
    "r7_k_hist.axis('off')\n",
    "\n",
    "sns.kdeplot(r7_all_params[:,0], ax= r7_lambda_hist, color='k') #lambda histogram\n",
    "r7_lambda_hist.get_xaxis().set_ticks([])\n",
    "r7_lambda_hist.get_yaxis().set_ticks([])\n",
    "r7_lambda_hist.axis('off')\n",
    "\n",
    "r7_k_zstar_scatter.scatter(r7_all_output[:, 1][::-1], r7_all_output[:, 2][::-1], \n",
    "                           c = (r7_all_output[:,-1][::-1]),  \n",
    "                           norm=colors.LogNorm(vmin=r7_min, vmax=r7_min + (r7_max - r7_min)/10),\n",
    "                            cmap='viridis', s = 2)\n",
    "r7_k_zstar_scatter.set_xlabel('log(Erodibility [m/yr])')\n",
    "\n",
    "sns.kdeplot(r7_all_params[:,2], ax = r7_zstar_hist, vertical=True, color='k') #z* histogram\n",
    "r7_zstar_hist.get_xaxis().set_ticks([])\n",
    "r7_zstar_hist.get_yaxis().set_ticks([])\n",
    "r7_zstar_hist.axis('off')\n",
    "\n",
    "r7_lambda_sc_scatter.scatter(r7_all_output[:, 0][::-1], r7_all_output[:, 3][::-1], \n",
    "                           c = (r7_all_output[:,-1][::-1]),  \n",
    "                           norm=colors.LogNorm(vmin=r7_min, vmax=r7_min + (r7_max - r7_min)/10),\n",
    "                            cmap='viridis', s = 2)\n",
    "r7_lambda_sc_scatter.set_xlabel('Travel distance [m]')\n",
    "\n",
    "sns.kdeplot(r7_all_params[:,3], ax = r7_sc_hist, vertical=True, color='k') #sc histogram\n",
    "r7_sc_hist.get_xaxis().set_ticks([])\n",
    "r7_sc_hist.get_yaxis().set_ticks([])\n",
    "r7_sc_hist.axis('off')"
   ]
  },
  {
   "cell_type": "markdown",
   "metadata": {},
   "source": [
    "Plot section 8 results"
   ]
  },
  {
   "cell_type": "code",
   "execution_count": 22,
   "metadata": {},
   "outputs": [
    {
     "name": "stderr",
     "output_type": "stream",
     "text": [
      "//anaconda3/lib/python3.7/site-packages/seaborn/distributions.py:1647: FutureWarning: The `vertical` parameter is deprecated and will be removed in a future version. Assign the data to the `y` variable instead.\n",
      "  warnings.warn(msg, FutureWarning)\n",
      "//anaconda3/lib/python3.7/site-packages/seaborn/distributions.py:1647: FutureWarning: The `vertical` parameter is deprecated and will be removed in a future version. Assign the data to the `y` variable instead.\n",
      "  warnings.warn(msg, FutureWarning)\n"
     ]
    },
    {
     "data": {
      "text/plain": [
       "(0.0, 109.03354564033828, -0.002293707115820314, 0.11225022954111026)"
      ]
     },
     "execution_count": 22,
     "metadata": {},
     "output_type": "execute_result"
    }
   ],
   "source": [
    "sns.kdeplot(r8_all_params[:,1], ax= r8_k_hist, color='k') #k histogram\n",
    "r8_k_hist.get_xaxis().set_ticks([])\n",
    "r8_k_hist.get_yaxis().set_ticks([])\n",
    "r8_k_hist.axis('off')\n",
    "\n",
    "sns.kdeplot(r8_all_params[:,0], ax= r8_lambda_hist, color='k') #lambda histogram\n",
    "r8_lambda_hist.get_xaxis().set_ticks([])\n",
    "r8_lambda_hist.get_yaxis().set_ticks([])\n",
    "r8_lambda_hist.axis('off')\n",
    "\n",
    "r8_k_zstar_scatter.scatter(r8_all_output[:, 1][::-1], r8_all_output[:, 2][::-1], \n",
    "                           c = (r8_all_output[:,-1][::-1]),  \n",
    "                           norm=colors.LogNorm(vmin=r8_min, vmax=r8_min + (r8_max - r8_min)/10),\n",
    "                            cmap='viridis', s = 2)\n",
    "r8_k_zstar_scatter.set_xlabel('log(Erodibility [m/yr])')\n",
    "\n",
    "sns.kdeplot(r8_all_params[:,2], ax = r8_zstar_hist, vertical=True, color='k') #z* histogram\n",
    "r8_zstar_hist.get_xaxis().set_ticks([])\n",
    "r8_zstar_hist.get_yaxis().set_ticks([])\n",
    "r8_zstar_hist.axis('off')\n",
    "\n",
    "r8_lambda_sc_scatter.scatter(r8_all_output[:, 0][::-1], r8_all_output[:, 3][::-1], \n",
    "                           c = (r8_all_output[:,-1][::-1]),  \n",
    "                           norm=colors.LogNorm(vmin=r8_min, vmax=r8_min + (r8_max - r8_min)/10),\n",
    "                            cmap='viridis', s = 2)\n",
    "r8_lambda_sc_scatter.set_xlabel('Travel distance [m]')\n",
    "\n",
    "sns.kdeplot(r8_all_params[:,3], ax = r8_sc_hist, vertical=True, color='k') #sc histogram\n",
    "r8_sc_hist.get_xaxis().set_ticks([])\n",
    "r8_sc_hist.get_yaxis().set_ticks([])\n",
    "r8_sc_hist.axis('off')"
   ]
  },
  {
   "cell_type": "markdown",
   "metadata": {},
   "source": [
    "Polish plot, add labels, etc"
   ]
  },
  {
   "cell_type": "code",
   "execution_count": 23,
   "metadata": {},
   "outputs": [
    {
     "data": {
      "text/plain": [
       "Text(1.05, 1, '8')"
      ]
     },
     "execution_count": 23,
     "metadata": {},
     "output_type": "execute_result"
    }
   ],
   "source": [
    "#text labels to identify sections\n",
    "r1_lambda_sc_scatter.text(1.05, 1, '1', fontsize=18, transform=r1_lambda_sc_scatter.transAxes, bbox=dict(linewidth = 1, facecolor='white'))\n",
    "r3_lambda_sc_scatter.text(1.05, 1, '3', fontsize=18, transform=r3_lambda_sc_scatter.transAxes, bbox=dict(linewidth = 1, facecolor='white'))\n",
    "r4_lambda_sc_scatter.text(1.05, 1, '4', fontsize=18, transform=r4_lambda_sc_scatter.transAxes, bbox=dict(linewidth = 1, facecolor='white'))\n",
    "r5_lambda_sc_scatter.text(1.05, 1, '5', fontsize=18, transform=r5_lambda_sc_scatter.transAxes, bbox=dict(linewidth = 1, facecolor='white'))\n",
    "r6_lambda_sc_scatter.text(1.05, 1, '6', fontsize=18, transform=r6_lambda_sc_scatter.transAxes, bbox=dict(linewidth = 1, facecolor='white'))\n",
    "r7_lambda_sc_scatter.text(1.05, 1, '7', fontsize=18, transform=r7_lambda_sc_scatter.transAxes, bbox=dict(linewidth = 1, facecolor='white'))\n",
    "r8_lambda_sc_scatter.text(1.05, 1, '8', fontsize=18, transform=r8_lambda_sc_scatter.transAxes, bbox=dict(linewidth = 1, facecolor='white'))"
   ]
  },
  {
   "cell_type": "code",
   "execution_count": 24,
   "metadata": {},
   "outputs": [],
   "source": [
    "#rectangle around each set of subplots\n",
    "rect = plt.Rectangle(\n",
    "    (0.075, 0.485), 0.215, 0.4, fill=False, color=\"k\", lw=1, \n",
    "    zorder=1000, transform=figs1.transFigure, figure=figs1\n",
    ")\n",
    "figs1.patches.extend([rect])\n",
    "\n",
    "rect = plt.Rectangle(\n",
    "    (0.29, 0.485), 0.21, 0.4, fill=False, color=\"k\", lw=1, \n",
    "    zorder=1000, transform=figs1.transFigure, figure=figs1\n",
    ")\n",
    "figs1.patches.extend([rect])\n",
    "\n",
    "rect = plt.Rectangle(\n",
    "    (0.5, 0.485), 0.2, 0.4, fill=False, color=\"k\", lw=1, \n",
    "    zorder=1000, transform=figs1.transFigure, figure=figs1\n",
    ")\n",
    "figs1.patches.extend([rect])\n",
    "\n",
    "rect = plt.Rectangle(\n",
    "    (0.7, 0.485), 0.2, 0.4, fill=False, color=\"k\", lw=1, \n",
    "    zorder=1000, transform=figs1.transFigure, figure=figs1\n",
    ")\n",
    "figs1.patches.extend([rect])\n",
    "\n",
    "rect = plt.Rectangle(\n",
    "    (0.075, 0.085), 0.215, 0.4, fill=False, color=\"k\", lw=1, \n",
    "    zorder=1000, transform=figs1.transFigure, figure=figs1\n",
    ")\n",
    "figs1.patches.extend([rect])\n",
    "\n",
    "rect = plt.Rectangle(\n",
    "    (0.29, 0.085), 0.21, 0.4, fill=False, color=\"k\", lw=1, \n",
    "    zorder=1000, transform=figs1.transFigure, figure=figs1\n",
    ")\n",
    "figs1.patches.extend([rect])\n",
    "\n",
    "rect = plt.Rectangle(\n",
    "    (0.5, 0.085), 0.2, 0.4, fill=False, color=\"k\", lw=1, \n",
    "    zorder=1000, transform=figs1.transFigure, figure=figs1\n",
    ")\n",
    "figs1.patches.extend([rect])"
   ]
  },
  {
   "cell_type": "code",
   "execution_count": 25,
   "metadata": {},
   "outputs": [],
   "source": [
    "# slide top left histogram (r51) down to mesh with top of scatter (r53)\n",
    "pos4 = r1_lambda_sc_scatter.get_position()\n",
    "pos5 = r1_lambda_hist.get_position()\n",
    "points4 = pos4.get_points()\n",
    "points5 = pos5.get_points()\n",
    "points5[0][1]=points4[1][1]\n",
    "pos5.set_points(points5)\n",
    "r1_lambda_hist.set_position(pos5)\n",
    "\n",
    "# slide top right histogram (r52) down to mesh with top of right scatter (r55)\n",
    "pos4 = r1_k_zstar_scatter.get_position()\n",
    "pos5 = r1_k_hist.get_position()\n",
    "points4 = pos4.get_points()\n",
    "points5 = pos5.get_points()\n",
    "points5[0][1]=points4[1][1]\n",
    "pos5.set_points(points5)\n",
    "r1_k_hist.set_position(pos5)\n",
    "\n",
    "# slide top left histogram (r51) down to mesh with top of scatter (r53)\n",
    "pos4 = r3_lambda_sc_scatter.get_position()\n",
    "pos5 = r3_lambda_hist.get_position()\n",
    "points4 = pos4.get_points()\n",
    "points5 = pos5.get_points()\n",
    "points5[0][1]=points4[1][1]\n",
    "pos5.set_points(points5)\n",
    "r3_lambda_hist.set_position(pos5)\n",
    "\n",
    "# slide top right histogram (r52) down to mesh with top of right scatter (r55)\n",
    "pos4 = r3_k_zstar_scatter.get_position()\n",
    "pos5 = r3_k_hist.get_position()\n",
    "points4 = pos4.get_points()\n",
    "points5 = pos5.get_points()\n",
    "points5[0][1]=points4[1][1]\n",
    "pos5.set_points(points5)\n",
    "r3_k_hist.set_position(pos5)\n",
    "\n",
    "# slide top left histogram (r51) down to mesh with top of scatter (r53)\n",
    "pos4 = r4_lambda_sc_scatter.get_position()\n",
    "pos5 = r4_lambda_hist.get_position()\n",
    "points4 = pos4.get_points()\n",
    "points5 = pos5.get_points()\n",
    "points5[0][1]=points4[1][1]\n",
    "pos5.set_points(points5)\n",
    "r4_lambda_hist.set_position(pos5)\n",
    "\n",
    "# slide top right histogram (r52) down to mesh with top of right scatter (r55)\n",
    "pos4 = r4_k_zstar_scatter.get_position()\n",
    "pos5 = r4_k_hist.get_position()\n",
    "points4 = pos4.get_points()\n",
    "points5 = pos5.get_points()\n",
    "points5[0][1]=points4[1][1]\n",
    "pos5.set_points(points5)\n",
    "r4_k_hist.set_position(pos5)\n",
    "\n",
    "# slide top left histogram (r51) down to mesh with top of scatter (r53)\n",
    "pos4 = r5_lambda_sc_scatter.get_position()\n",
    "pos5 = r5_lambda_hist.get_position()\n",
    "points4 = pos4.get_points()\n",
    "points5 = pos5.get_points()\n",
    "points5[0][1]=points4[1][1]\n",
    "pos5.set_points(points5)\n",
    "r5_lambda_hist.set_position(pos5)\n",
    "\n",
    "# slide top right histogram (r52) down to mesh with top of right scatter (r55)\n",
    "pos4 = r5_k_zstar_scatter.get_position()\n",
    "pos5 = r5_k_hist.get_position()\n",
    "points4 = pos4.get_points()\n",
    "points5 = pos5.get_points()\n",
    "points5[0][1]=points4[1][1]\n",
    "pos5.set_points(points5)\n",
    "r5_k_hist.set_position(pos5)\n",
    "\n",
    "# slide top left histogram (r51) down to mesh with top of scatter (r53)\n",
    "pos4 = r6_lambda_sc_scatter.get_position()\n",
    "pos5 = r6_lambda_hist.get_position()\n",
    "points4 = pos4.get_points()\n",
    "points5 = pos5.get_points()\n",
    "points5[0][1]=points4[1][1]\n",
    "pos5.set_points(points5)\n",
    "r6_lambda_hist.set_position(pos5)\n",
    "\n",
    "# slide top right histogram (r52) down to mesh with top of right scatter (r55)\n",
    "pos4 = r6_k_zstar_scatter.get_position()\n",
    "pos5 = r6_k_hist.get_position()\n",
    "points4 = pos4.get_points()\n",
    "points5 = pos5.get_points()\n",
    "points5[0][1]=points4[1][1]\n",
    "pos5.set_points(points5)\n",
    "r6_k_hist.set_position(pos5)\n",
    "\n",
    "# slide top left histogram (r51) down to mesh with top of scatter (r53)\n",
    "pos4 = r7_lambda_sc_scatter.get_position()\n",
    "pos5 = r7_lambda_hist.get_position()\n",
    "points4 = pos4.get_points()\n",
    "points5 = pos5.get_points()\n",
    "points5[0][1]=points4[1][1]\n",
    "pos5.set_points(points5)\n",
    "r7_lambda_hist.set_position(pos5)\n",
    "\n",
    "# slide top right histogram (r52) down to mesh with top of right scatter (r55)\n",
    "pos4 = r7_k_zstar_scatter.get_position()\n",
    "pos5 = r7_k_hist.get_position()\n",
    "points4 = pos4.get_points()\n",
    "points5 = pos5.get_points()\n",
    "points5[0][1]=points4[1][1]\n",
    "pos5.set_points(points5)\n",
    "r7_k_hist.set_position(pos5)\n",
    "\n",
    "# slide top left histogram (r51) down to mesh with top of scatter (r53)\n",
    "pos4 = r8_lambda_sc_scatter.get_position()\n",
    "pos5 = r8_lambda_hist.get_position()\n",
    "points4 = pos4.get_points()\n",
    "points5 = pos5.get_points()\n",
    "points5[0][1]=points4[1][1]\n",
    "pos5.set_points(points5)\n",
    "r8_lambda_hist.set_position(pos5)\n",
    "\n",
    "# slide top right histogram (r52) down to mesh with top of right scatter (r55)\n",
    "pos4 = r8_k_zstar_scatter.get_position()\n",
    "pos5 = r8_k_hist.get_position()\n",
    "points4 = pos4.get_points()\n",
    "points5 = pos5.get_points()\n",
    "points5[0][1]=points4[1][1]\n",
    "pos5.set_points(points5)\n",
    "r8_k_hist.set_position(pos5)"
   ]
  },
  {
   "cell_type": "code",
   "execution_count": 26,
   "metadata": {},
   "outputs": [
    {
     "data": {
      "text/plain": [
       "Text(0.5, 1.0, 'log(misfit) [-]')"
      ]
     },
     "execution_count": 26,
     "metadata": {},
     "output_type": "execute_result"
    }
   ],
   "source": [
    "#colorbar\n",
    "cax = figs1.add_axes([0.78, 0.15, 0.03, 0.2])\n",
    "c = figs1.colorbar(cbar_mappable, cax = cax)\n",
    "c.ax.yaxis.set_visible(False)\n",
    "cax.text(1.1, 0.01, 'low', transform=cax.transAxes, fontsize=16)\n",
    "cax.text(1.1, 0.93, 'high', transform=cax.transAxes, fontsize=16)\n",
    "cax.set_title('log(misfit) [-]', fontsize=16)"
   ]
  },
  {
   "cell_type": "code",
   "execution_count": 27,
   "metadata": {},
   "outputs": [],
   "source": [
    "figs1.savefig('Shobe_etal_figS1.png', dpi=1000, bbox_inches='tight', facecolor='white', transparent=False)"
   ]
  }
 ],
 "metadata": {
  "kernelspec": {
   "display_name": "Python 3",
   "language": "python",
   "name": "python3"
  },
  "language_info": {
   "codemirror_mode": {
    "name": "ipython",
    "version": 3
   },
   "file_extension": ".py",
   "mimetype": "text/x-python",
   "name": "python",
   "nbconvert_exporter": "python",
   "pygments_lexer": "ipython3",
   "version": "3.7.10"
  }
 },
 "nbformat": 4,
 "nbformat_minor": 4
}
