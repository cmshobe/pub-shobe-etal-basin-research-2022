{
 "cells": [
  {
   "cell_type": "markdown",
   "id": "a3d1f94e-2aac-44f3-b6d5-0e4060ea65ca",
   "metadata": {},
   "source": [
    "#### Script to produce Figure 10 in Shobe et al. (2022; _Basin Research_): Comparison of misfit values between the nonlocal, nonlinear model and the local, linear model when using all seismic reflectors for computing model-data misfit."
   ]
  },
  {
   "cell_type": "code",
   "execution_count": 2,
   "id": "8e4f432e-cf76-452d-ac1c-df349557b23e",
   "metadata": {},
   "outputs": [],
   "source": [
    "import numpy as np\n",
    "from numpy import genfromtxt\n",
    "import matplotlib.pyplot as plt\n",
    "from matplotlib import gridspec\n",
    "plt.rcParams.update({'font.size': 22})"
   ]
  },
  {
   "cell_type": "markdown",
   "id": "75bcb48f-852c-4e50-aef1-f115b3016b8e",
   "metadata": {},
   "source": [
    "Define which best-fit model run will be imported for each section to create the figure. The runs filled in here are the best-fit runs presented in the paper."
   ]
  },
  {
   "cell_type": "code",
   "execution_count": 3,
   "id": "494a8bfd-ee2f-4eb9-bcc3-7f5a9a98d6f2",
   "metadata": {},
   "outputs": [],
   "source": [
    "#nonlinear, multilayer model\n",
    "nl_ml_model_number_R1 = 'ml2'\n",
    "nl_ml_model_number_R3 = 'ml2'\n",
    "nl_ml_model_number_R4 = 'ml2'\n",
    "nl_ml_model_number_R5 = 'ml2'\n",
    "nl_ml_model_number_R6 = 'ml2'\n",
    "nl_ml_model_number_R7 = 'ml2'\n",
    "nl_ml_model_number_R8 = 'ml2'\n",
    "\n",
    "#linear, multilayer model\n",
    "ld_ml_model_number_R1 = 'ldml2'\n",
    "ld_ml_model_number_R3 = 'ldml2'\n",
    "ld_ml_model_number_R4 = 'ldml2'\n",
    "ld_ml_model_number_R5 = 'ldml2'\n",
    "ld_ml_model_number_R6 = 'ldml2'\n",
    "ld_ml_model_number_R7 = 'ldml2'\n",
    "ld_ml_model_number_R8 = 'ldml2'"
   ]
  },
  {
   "cell_type": "markdown",
   "id": "6a08e8c6-9e60-4904-a6c3-93c2a62959c9",
   "metadata": {},
   "source": [
    "Import results from the best-fit simulations defined above"
   ]
  },
  {
   "cell_type": "code",
   "execution_count": 4,
   "id": "fdff2f8b-6a4f-4092-adce-9ba3e330eb53",
   "metadata": {},
   "outputs": [],
   "source": [
    "#nonlocal, nonlinear model\n",
    "#import r1 results\n",
    "nl_ml_r1_all_params = genfromtxt('../orange_section_R1/step2_params/all_params_' + nl_ml_model_number_R1 + '.csv', delimiter=',')\n",
    "nl_ml_r1_all_output=nl_ml_r1_all_params[nl_ml_r1_all_params[:,-1].argsort()] #sort by misfit from best to worst fit\n",
    "\n",
    "#import r3 results\n",
    "nl_ml_r3_all_params = genfromtxt('../orange_section_R3/step2_params/all_params_' + nl_ml_model_number_R3 + '.csv', delimiter=',')\n",
    "nl_ml_r3_all_output=nl_ml_r3_all_params[nl_ml_r3_all_params[:,-1].argsort()] #sort by misfit\n",
    "\n",
    "#import r4 results\n",
    "nl_ml_r4_all_params = genfromtxt('../orange_section_R4/step2_params/all_params_' + nl_ml_model_number_R4 + '.csv', delimiter=',')\n",
    "nl_ml_r4_all_output=nl_ml_r4_all_params[nl_ml_r4_all_params[:,-1].argsort()] #sort by misfit from best to worst fit\n",
    "\n",
    "#import r5 results\n",
    "nl_ml_r5_all_params = genfromtxt('../orange_section_R5/step2_params/all_params_' + nl_ml_model_number_R5 + '.csv', delimiter=',')\n",
    "nl_ml_r5_all_output=nl_ml_r5_all_params[nl_ml_r5_all_params[:,-1].argsort()] #sort by misfit\n",
    "\n",
    "#import r6 results\n",
    "nl_ml_r6_all_params = genfromtxt('../orange_section_r6/step2_params/all_params_' + nl_ml_model_number_R6 + '.csv', delimiter=',')\n",
    "nl_ml_r6_all_output=nl_ml_r6_all_params[nl_ml_r6_all_params[:,-1].argsort()] #sort by misfit\n",
    "\n",
    "#import r7 results\n",
    "nl_ml_r7_all_params = genfromtxt('../orange_section_R7/step2_params/all_params_' + nl_ml_model_number_R7 + '.csv', delimiter=',')\n",
    "nl_ml_r7_all_output=nl_ml_r7_all_params[nl_ml_r7_all_params[:,-1].argsort()] #sort by misfit\n",
    "\n",
    "#import r8 results\n",
    "nl_ml_r8_all_params = genfromtxt('../orange_section_R8/step2_params/all_params_' + nl_ml_model_number_R8 + '.csv', delimiter=',')\n",
    "nl_ml_r8_all_output=nl_ml_r8_all_params[nl_ml_r8_all_params[:,-1].argsort()] #sort by misfit"
   ]
  },
  {
   "cell_type": "code",
   "execution_count": 6,
   "id": "e54908d3-5d09-4641-a8d2-20657ed11fbb",
   "metadata": {},
   "outputs": [],
   "source": [
    "#local, linear model\n",
    "#import r1 results\n",
    "ld_ml_r1_all_params = genfromtxt('../orange_section_R1/step2_params/all_params_' + ld_ml_model_number_R1 + '.csv', delimiter=',')\n",
    "ld_ml_r1_all_output=ld_ml_r1_all_params[ld_ml_r1_all_params[:,-1].argsort()] #sort by misfit from best to worst fit\n",
    "\n",
    "#import r3 results\n",
    "ld_ml_r3_all_params = genfromtxt('../orange_section_R3/step2_params/all_params_' + ld_ml_model_number_R3 + '.csv', delimiter=',')\n",
    "ld_ml_r3_all_output=ld_ml_r3_all_params[ld_ml_r3_all_params[:,-1].argsort()] #sort by misfit\n",
    "\n",
    "#import r4 results\n",
    "ld_ml_r4_all_params = genfromtxt('../orange_section_R4/step2_params/all_params_' + ld_ml_model_number_R4 + '.csv', delimiter=',')\n",
    "ld_ml_r4_all_output=ld_ml_r4_all_params[ld_ml_r4_all_params[:,-1].argsort()] #sort by misfit from best to worst fit\n",
    "\n",
    "#import r5 results\n",
    "ld_ml_r5_all_params = genfromtxt('../orange_section_R5/step2_params/all_params_' + ld_ml_model_number_R5 + '.csv', delimiter=',')\n",
    "ld_ml_r5_all_output=ld_ml_r5_all_params[ld_ml_r5_all_params[:,-1].argsort()] #sort by misfit\n",
    "\n",
    "#import r6 results\n",
    "ld_ml_r6_all_params = genfromtxt('../orange_section_r6/step2_params/all_params_' + ld_ml_model_number_R6 + '.csv', delimiter=',')\n",
    "ld_ml_r6_all_output=ld_ml_r6_all_params[ld_ml_r6_all_params[:,-1].argsort()] #sort by misfit\n",
    "\n",
    "#import r7 results\n",
    "ld_ml_r7_all_params = genfromtxt('../orange_section_R7/step2_params/all_params_' + ld_ml_model_number_R7 + '.csv', delimiter=',')\n",
    "ld_ml_r7_all_output=ld_ml_r7_all_params[ld_ml_r7_all_params[:,-1].argsort()] #sort by misfit\n",
    "\n",
    "#import r8 results\n",
    "ld_ml_r8_all_params = genfromtxt('../orange_section_R8/step2_params/all_params_' + ld_ml_model_number_R8 + '.csv', delimiter=',')\n",
    "ld_ml_r8_all_output=ld_ml_r8_all_params[ld_ml_r8_all_params[:,-1].argsort()] #sort by misfit"
   ]
  },
  {
   "cell_type": "markdown",
   "id": "5b710838-a1d2-4c34-878c-1ab8979d6777",
   "metadata": {},
   "source": [
    "Set up figure"
   ]
  },
  {
   "cell_type": "code",
   "execution_count": 10,
   "id": "5ce40bf8-4f10-4134-9954-163cfc512fc6",
   "metadata": {},
   "outputs": [
    {
     "data": {
      "image/png": "[encoded data removed]",
      "text/plain": [
       "<Figure size 432x288 with 1 Axes>"
      ]
     },
     "metadata": {
      "needs_background": "light"
     },
     "output_type": "display_data"
    }
   ],
   "source": [
    "%matplotlib inline\n",
    "#set up the figure grid\n",
    "fig1 = plt.figure(figsize=(6,4))\n",
    "heights = [4]\n",
    "widths = [6]\n",
    "spec = fig1.add_gridspec(ncols=len(widths), nrows=len(heights), width_ratios=widths,\n",
    "                          height_ratios=heights, wspace=0.3, hspace=0.3)\n",
    "misfit = fig1.add_subplot(spec[0, 0])"
   ]
  },
  {
   "cell_type": "markdown",
   "id": "4ad3afb7-72c1-4ff8-9a62-cf5fc745c7f9",
   "metadata": {},
   "source": [
    "Get misfit values for each section, then plot"
   ]
  },
  {
   "cell_type": "code",
   "execution_count": 11,
   "id": "c43bb38a-ae7b-421d-ace0-9fd191370c4f",
   "metadata": {},
   "outputs": [
    {
     "data": {
      "text/plain": [
       "(0.5, 7.5)"
      ]
     },
     "execution_count": 11,
     "metadata": {},
     "output_type": "execute_result"
    }
   ],
   "source": [
    "nl_ml_misfits = np.array([nl_ml_r1_all_output[0, -1], \n",
    "                   nl_ml_r3_all_output[0, -1],\n",
    "                   nl_ml_r4_all_output[0, -1],\n",
    "                   nl_ml_r5_all_output[0, -1],\n",
    "                   nl_ml_r6_all_output[0, -1],\n",
    "                   nl_ml_r7_all_output[0, -1],\n",
    "                   nl_ml_r8_all_output[0, -1]])\n",
    "\n",
    "ld_ml_misfits = np.array([ld_ml_r1_all_output[0, -1], \n",
    "                   ld_ml_r3_all_output[0, -1],\n",
    "                   ld_ml_r4_all_output[0, -1],\n",
    "                   ld_ml_r5_all_output[0, -1],\n",
    "                   ld_ml_r6_all_output[0, -1],\n",
    "                   ld_ml_r7_all_output[0, -1],\n",
    "                   ld_ml_r8_all_output[0, -1]])\n",
    "\n",
    "labels = ['1', '3', '4', '5','6', '7', '8']\n",
    "x = np.arange(1, len(labels)+1)\n",
    "width = 0.4\n",
    "\n",
    "a = misfit.bar(x - width/2, nl_ml_misfits, width, label='Nonlocal, nonlinear', color = '#1f78b4', edgecolor = 'k')\n",
    "b = misfit.bar(x + width/2, ld_ml_misfits, width, label='Local, linear', color = '#a6cee3', edgecolor = 'k')\n",
    "misfit.set_ylabel('Surface-only misfit')\n",
    "misfit.set_ylabel('Misfit: all reflectors [-]')\n",
    "misfit.set_xticks(x)\n",
    "misfit.set_xticklabels(labels)\n",
    "misfit.set_xlabel('Section')\n",
    "misfit.legend(loc = 'upper center')\n",
    "misfit.set_xlim(0.5, 7.5)"
   ]
  },
  {
   "cell_type": "code",
   "execution_count": 12,
   "id": "107c744b-3e9c-405e-acc2-7f38ca0536e6",
   "metadata": {},
   "outputs": [],
   "source": [
    "fig1.savefig('Shobe_etal_fig10.png', dpi=1000, bbox_inches='tight', facecolor='white', transparent=False)"
   ]
  }
 ],
 "metadata": {
  "kernelspec": {
   "display_name": "Python 3",
   "language": "python",
   "name": "python3"
  },
  "language_info": {
   "codemirror_mode": {
    "name": "ipython",
    "version": 3
   },
   "file_extension": ".py",
   "mimetype": "text/x-python",
   "name": "python",
   "nbconvert_exporter": "python",
   "pygments_lexer": "ipython3",
   "version": "3.7.10"
  }
 },
 "nbformat": 4,
 "nbformat_minor": 5
}
